{
 "cells": [
  {
   "cell_type": "code",
   "execution_count": 1,
   "metadata": {},
   "outputs": [
    {
     "name": "stdout",
     "output_type": "stream",
     "text": [
      "[nltk_data] Downloading package stopwords to\n",
      "[nltk_data]     C:\\Users\\56364\\AppData\\Roaming\\nltk_data...\n",
      "[nltk_data]   Package stopwords is already up-to-date!\n"
     ]
    },
    {
     "name": "stderr",
     "output_type": "stream",
     "text": [
      "C:\\Anaconda\\lib\\site-packages\\gensim\\utils.py:1212: UserWarning: detected Windows; aliasing chunkize to chunkize_serial\n",
      "  warnings.warn(\"detected Windows; aliasing chunkize to chunkize_serial\")\n",
      "C:\\Anaconda\\lib\\site-packages\\scipy\\sparse\\sparsetools.py:21: DeprecationWarning: `scipy.sparse.sparsetools` is deprecated!\n",
      "scipy.sparse.sparsetools is a private module for scipy.sparse, and should not be used.\n",
      "  _deprecated()\n",
      "C:\\Anaconda\\lib\\importlib\\_bootstrap.py:205: RuntimeWarning: cymem.cymem.Pool size changed, may indicate binary incompatibility. Expected 48 from C header, got 64 from PyObject\n",
      "  return f(*args, **kwds)\n",
      "C:\\Anaconda\\lib\\importlib\\_bootstrap.py:205: RuntimeWarning: cymem.cymem.Address size changed, may indicate binary incompatibility. Expected 24 from C header, got 40 from PyObject\n",
      "  return f(*args, **kwds)\n"
     ]
    }
   ],
   "source": [
    "import numpy as np\n",
    "import pandas as pd\n",
    "import re, nltk\n",
    "\n",
    "nltk.download('stopwords')\n",
    "\n",
    "# Sklearn\n",
    "from sklearn.decomposition import LatentDirichletAllocation, TruncatedSVD\n",
    "from sklearn.feature_extraction.text import CountVectorizer, TfidfVectorizer,TfidfTransformer\n",
    "from sklearn.model_selection import GridSearchCV\n",
    "from sklearn.feature_extraction import text \n",
    "from pprint import pprint\n",
    "\n",
    "# Plotting tools\n",
    "import pyLDAvis\n",
    "import pyLDAvis.sklearn\n",
    "import pyLDAvis.gensim  # don't skip this\n",
    "import matplotlib.pyplot as plt\n",
    "%matplotlib inline\n",
    "\n",
    "from pprint import pprint\n",
    "\n",
    "# Gensim\n",
    "import gensim\n",
    "import gensim.corpora as corpora\n",
    "from gensim.utils import simple_preprocess\n",
    "from gensim.models import CoherenceModel\n",
    "\n",
    "# spacy for lemmatization\n",
    "import spacy\n",
    "\n",
    "# Enable logging for gensim - optional\n",
    "import logging\n",
    "logging.basicConfig(format='%(asctime)s : %(levelname)s : %(message)s', level=logging.ERROR)\n",
    "\n",
    "import warnings\n",
    "warnings.filterwarnings(\"ignore\",category=DeprecationWarning)"
   ]
  },
  {
   "cell_type": "code",
   "execution_count": 2,
   "metadata": {
    "collapsed": true
   },
   "outputs": [],
   "source": [
    "data = pd.read_csv('datasince2012_all_labeled.csv',encoding='latin-1',error_bad_lines=False)"
   ]
  },
  {
   "cell_type": "code",
   "execution_count": 4,
   "metadata": {
    "collapsed": true
   },
   "outputs": [],
   "source": [
    "df = data[['CDESCR']][data[\"prediction\"] == 1]\n",
    "\n",
    "df_0 = data[['CDESCR']][data[\"prediction\"] == 0]"
   ]
  },
  {
   "cell_type": "code",
   "execution_count": 5,
   "metadata": {},
   "outputs": [
    {
     "data": {
      "text/plain": [
       "(548, 1)"
      ]
     },
     "execution_count": 5,
     "metadata": {},
     "output_type": "execute_result"
    }
   ],
   "source": [
    "df.shape"
   ]
  },
  {
   "cell_type": "code",
   "execution_count": 6,
   "metadata": {},
   "outputs": [
    {
     "data": {
      "text/plain": [
       "(112418, 1)"
      ]
     },
     "execution_count": 6,
     "metadata": {},
     "output_type": "execute_result"
    }
   ],
   "source": [
    "df_0.shape"
   ]
  },
  {
   "cell_type": "markdown",
   "metadata": {},
   "source": [
    "## Data Preprocessing I"
   ]
  },
  {
   "cell_type": "code",
   "execution_count": 8,
   "metadata": {
    "collapsed": true
   },
   "outputs": [],
   "source": [
    "def pre_process(text):\n",
    "    \n",
    "    # lowercase\n",
    "    text=str(text).lower()\n",
    "    \n",
    "    #remove tags\n",
    "    text=re.sub(\"</?.*?>\",\" <> \",text)\n",
    "    \n",
    "    # remove special characters and digits\n",
    "    text=re.sub(\"(\\\\d|\\\\W)+\",\" \",text)\n",
    "    \n",
    "    return text\n",
    "\n",
    "df['CDESCR'] = df['CDESCR'].apply(lambda x:pre_process(x))\n",
    "df_0['CDESCR'] = df_0['CDESCR'].apply(lambda x:pre_process(x))\n",
    "\n",
    "#show the first 'text'\n",
    "#df['CDESCR']"
   ]
  },
  {
   "cell_type": "code",
   "execution_count": 10,
   "metadata": {
    "collapsed": true
   },
   "outputs": [],
   "source": [
    "#load a set of stop words and extend the list\n",
    "stopwords = text.ENGLISH_STOP_WORDS.union(['ford', 'honda', 'toyota', 'chrysler', 'subaru','kia','cherokee','jeep','gm','nissan','audi','car','vehicle','xxxx','xx','system','stated','tl','tr','systems','vehicles','cars','approximate'])\n",
    "\n",
    "\n",
    "#get the text column \n",
    "docs = df['CDESCR'].tolist()\n",
    "\n",
    "docs_0 = df_0['CDESCR'].tolist()"
   ]
  },
  {
   "cell_type": "markdown",
   "metadata": {},
   "source": [
    "## Keyword Extraction"
   ]
  },
  {
   "cell_type": "code",
   "execution_count": 8,
   "metadata": {
    "collapsed": true
   },
   "outputs": [],
   "source": [
    "Num_Words = 10"
   ]
  },
  {
   "cell_type": "markdown",
   "metadata": {},
   "source": [
    "For complaints related to ADAS:"
   ]
  },
  {
   "cell_type": "code",
   "execution_count": 9,
   "metadata": {},
   "outputs": [
    {
     "data": {
      "text/plain": [
       "(548, 5319)"
      ]
     },
     "execution_count": 9,
     "metadata": {},
     "output_type": "execute_result"
    }
   ],
   "source": [
    "#create a vocabulary of words, \n",
    "#ignore words that appear in 85% of documents, \n",
    "#eliminate stop words\n",
    "\n",
    "cv=CountVectorizer(max_df=0.85,stop_words=stopwords,max_features=10000)\n",
    "word_count_vector=cv.fit_transform(docs)\n",
    "word_count_vector.shape"
   ]
  },
  {
   "cell_type": "code",
   "execution_count": 10,
   "metadata": {},
   "outputs": [
    {
     "data": {
      "text/plain": [
       "TfidfTransformer(norm='l2', smooth_idf=True, sublinear_tf=False, use_idf=True)"
      ]
     },
     "execution_count": 10,
     "metadata": {},
     "output_type": "execute_result"
    }
   ],
   "source": [
    "tfidf_transformer=TfidfTransformer(smooth_idf=True,use_idf=True)\n",
    "tfidf_transformer.fit(word_count_vector)"
   ]
  },
  {
   "cell_type": "code",
   "execution_count": 11,
   "metadata": {
    "collapsed": true
   },
   "outputs": [],
   "source": [
    "def sort_coo(coo_matrix):\n",
    "    tuples = zip(coo_matrix.col, coo_matrix.data)\n",
    "    return sorted(tuples, key=lambda x: (x[1], x[0]), reverse=True)\n",
    "\n",
    "def extract_topn_from_vector(feature_names, sorted_items, topn=10):\n",
    "    \"\"\"get the feature names and tf-idf score of top n items\"\"\"\n",
    "    \n",
    "    #use only topn items from vector\n",
    "    sorted_items = sorted_items[:topn]\n",
    "\n",
    "    score_vals = []\n",
    "    feature_vals = []\n",
    "\n",
    "    for idx, score in sorted_items:\n",
    "        fname = feature_names[idx]\n",
    "        \n",
    "        #keep track of feature name and its corresponding score\n",
    "        score_vals.append(round(score, 3))\n",
    "        feature_vals.append(feature_names[idx])\n",
    "\n",
    "    #create a tuples of feature,score\n",
    "    #results = zip(feature_vals,score_vals)\n",
    "    results= {}\n",
    "    for idx in range(len(feature_vals)):\n",
    "        results[feature_vals[idx]]=score_vals[idx]\n",
    "    \n",
    "    return results"
   ]
  },
  {
   "cell_type": "code",
   "execution_count": 12,
   "metadata": {},
   "outputs": [
    {
     "name": "stdout",
     "output_type": "stream",
     "text": [
      "\n",
      "===Keywords===\n",
      "brake 0.17\n",
      "problem 0.141\n",
      "warning 0.137\n",
      "collision 0.134\n",
      "dealer 0.133\n",
      "camera 0.133\n",
      "lane 0.132\n",
      "control 0.127\n",
      "cruise 0.123\n",
      "driving 0.117\n"
     ]
    }
   ],
   "source": [
    "# you only needs to do this once\n",
    "feature_names=cv.get_feature_names()\n",
    "\n",
    "# get the document that we want to extract keywords from\n",
    "#doc=docs[0]\n",
    "#doc = str(docs)\n",
    "doc = ''.join(docs)\n",
    "\n",
    "#generate tf-idf for the given document\n",
    "tf_idf_vector=tfidf_transformer.transform(cv.transform([doc]))\n",
    "\n",
    "#sort the tf-idf vectors by descending order of scores\n",
    "sorted_items=sort_coo(tf_idf_vector.tocoo())\n",
    "\n",
    "#extract only the top n; n here is 10\n",
    "keywords=extract_topn_from_vector(feature_names,sorted_items,Num_Words)\n",
    "\n",
    "# now print the results\n",
    "print(\"\\n===Keywords===\")\n",
    "for k in keywords:\n",
    "    print(k,keywords[k])"
   ]
  },
  {
   "cell_type": "markdown",
   "metadata": {},
   "source": [
    "For complaints not related to ADAS:"
   ]
  },
  {
   "cell_type": "code",
   "execution_count": 13,
   "metadata": {},
   "outputs": [
    {
     "data": {
      "text/plain": [
       "(112418, 10000)"
      ]
     },
     "execution_count": 13,
     "metadata": {},
     "output_type": "execute_result"
    }
   ],
   "source": [
    "cv=CountVectorizer(max_df=0.85,stop_words=stopwords,max_features=10000)\n",
    "word_count_vector_0=cv.fit_transform(docs_0)\n",
    "word_count_vector_0.shape"
   ]
  },
  {
   "cell_type": "code",
   "execution_count": 14,
   "metadata": {},
   "outputs": [
    {
     "data": {
      "text/plain": [
       "TfidfTransformer(norm='l2', smooth_idf=True, sublinear_tf=False, use_idf=True)"
      ]
     },
     "execution_count": 14,
     "metadata": {},
     "output_type": "execute_result"
    }
   ],
   "source": [
    "tfidf_transformer=TfidfTransformer(smooth_idf=True,use_idf=True)\n",
    "tfidf_transformer.fit(word_count_vector_0)"
   ]
  },
  {
   "cell_type": "code",
   "execution_count": 15,
   "metadata": {},
   "outputs": [
    {
     "name": "stdout",
     "output_type": "stream",
     "text": [
      "\n",
      "===Keywords===\n",
      "contact 0.268\n",
      "failure 0.201\n",
      "dealer 0.154\n",
      "driving 0.142\n",
      "recall 0.14\n",
      "engine 0.138\n",
      "problem 0.136\n",
      "issue 0.133\n",
      "manufacturer 0.121\n",
      "time 0.116\n"
     ]
    }
   ],
   "source": [
    "# you only needs to do this once\n",
    "feature_names_0=cv.get_feature_names()\n",
    "\n",
    "# get the document that we want to extract keywords from\n",
    "#doc=docs[0]\n",
    "#doc = str(docs)\n",
    "doc_0 = ''.join(docs_0)\n",
    "\n",
    "#generate tf-idf for the given document\n",
    "tf_idf_vector_0=tfidf_transformer.transform(cv.transform([doc_0]))\n",
    "\n",
    "#sort the tf-idf vectors by descending order of scores\n",
    "sorted_items_0=sort_coo(tf_idf_vector_0.tocoo())\n",
    "\n",
    "#extract only the top n; n here is 10\n",
    "keywords_0=extract_topn_from_vector(feature_names_0,sorted_items_0,Num_Words)\n",
    "\n",
    "# now print the results\n",
    "print(\"\\n===Keywords===\")\n",
    "for k in keywords_0:\n",
    "    print(k,keywords_0[k])"
   ]
  },
  {
   "cell_type": "markdown",
   "metadata": {},
   "source": [
    "Comparison of keywords"
   ]
  },
  {
   "cell_type": "code",
   "execution_count": 16,
   "metadata": {
    "collapsed": true
   },
   "outputs": [],
   "source": [
    "keywords_df = pd.DataFrame(list(keywords.items()), columns=['Word', 'TfIdf'])\n",
    "keywords_df.label=1"
   ]
  },
  {
   "cell_type": "code",
   "execution_count": 17,
   "metadata": {
    "collapsed": true
   },
   "outputs": [],
   "source": [
    "keywords_0_df = pd.DataFrame(list(keywords_0.items()), columns=['Word', 'TfIdf'])\n",
    "keywords_0_df.label=0"
   ]
  },
  {
   "cell_type": "code",
   "execution_count": 18,
   "metadata": {
    "collapsed": true
   },
   "outputs": [],
   "source": [
    "dfs = [keywords_df,keywords_0_df]"
   ]
  },
  {
   "cell_type": "code",
   "execution_count": 19,
   "metadata": {
    "collapsed": true
   },
   "outputs": [],
   "source": [
    "def plot_tfidf_classfeats_h(dfs):\n",
    "    ''' Plot the data frames returned by the function plot_tfidf_classfeats(). '''\n",
    "    fig = plt.figure(figsize=(12, 9), facecolor=\"w\")\n",
    "    x = np.arange(len(dfs[0]))\n",
    "    for i, df in enumerate(dfs):\n",
    "        ax = fig.add_subplot(1, len(dfs), i+1)\n",
    "        ax.spines[\"top\"].set_visible(False)\n",
    "        ax.spines[\"right\"].set_visible(False)\n",
    "        ax.set_frame_on(False)\n",
    "        ax.get_xaxis().tick_bottom()\n",
    "        ax.get_yaxis().tick_left()\n",
    "        ax.set_xlabel(\"Mean Tf-Idf Score\", labelpad=16, fontsize=14)\n",
    "        ax.set_title(\"label = \" + str(df.label), fontsize=16)\n",
    "        ax.ticklabel_format(axis='x', style='sci', scilimits=(-2,2))\n",
    "        ax.barh(x, df.TfIdf, align='center', color='#9ecae1')\n",
    "        ax.set_yticks(x)\n",
    "        ax.set_ylim([-1, x[-1]+1])\n",
    "        yticks = ax.set_yticklabels(df.Word)\n",
    "        plt.subplots_adjust(bottom=0.09, right=0.97, left=0.15, top=0.95, wspace=0.52)\n",
    "    plt.show()"
   ]
  },
  {
   "cell_type": "code",
   "execution_count": 20,
   "metadata": {},
   "outputs": [
    {
     "data": {
      "image/png": "[encoded data removed]",
      "text/plain": [
       "<matplotlib.figure.Figure at 0x22d41a08cf8>"
      ]
     },
     "metadata": {},
     "output_type": "display_data"
    }
   ],
   "source": [
    "plot_tfidf_classfeats_h(dfs)"
   ]
  },
  {
   "cell_type": "markdown",
   "metadata": {},
   "source": [
    "## Data Preprocessing II"
   ]
  },
  {
   "cell_type": "code",
   "execution_count": 21,
   "metadata": {
    "scrolled": true
   },
   "outputs": [
    {
     "name": "stdout",
     "output_type": "stream",
     "text": [
      "[['release', 'button', 'for', 'emergency', 'brake', 'broke', 'and', 'came', 'off', 'unable', 'to', 'set', 'parking', 'brake', 'because', 'won', 'be', 'able', 'to', 'release', 'it', 'ford', 'service', 'informed', 'me', 'that', 'it', 'was', 'trim', 'issue', 'and', 'was', 'not', 'covered', 'by', 'warranty', 'can', 'not', 'set', 'the', 'parking', 'brake', 'which', 'leaves', 'the', 'danger', 'of', 'the', 'car', 'rolling', 'while', 'parked', 'and', 'injuring', 'someone', 'went', 'to', 'the', 'parts', 'department', 'out', 'of', 'desperation', 'to', 'order', 'the', 'button', 'and', 'was', 'told', 'the', 'entire', 'parking', 'brake', 'assyembly', 'had', 'to', 'be', 'replaced', 'at', 'over', 'that', 'does', 'not', 'sound', 'like', 'trim', 'issue', 'to', 'me', 'joe', 'cooper', 'ford', 'tulsa', 'oklahoma', 'js']]\n"
     ]
    }
   ],
   "source": [
    "def sent_to_words(sentences):\n",
    "    for sentence in sentences:\n",
    "        yield(gensim.utils.simple_preprocess(str(sentence), deacc=True))  # deacc=True removes punctuations\n",
    "\n",
    "data_words = list(sent_to_words(docs))\n",
    "\n",
    "print(data_words[:1])"
   ]
  },
  {
   "cell_type": "code",
   "execution_count": 22,
   "metadata": {},
   "outputs": [
    {
     "name": "stderr",
     "output_type": "stream",
     "text": [
      "C:\\Anaconda\\lib\\site-packages\\gensim\\models\\phrases.py:598: UserWarning: For a faster implementation, use the gensim.models.phrases.Phraser class\n",
      "  warnings.warn(\"For a faster implementation, use the gensim.models.phrases.Phraser class\")\n"
     ]
    },
    {
     "name": "stdout",
     "output_type": "stream",
     "text": [
      "['release', 'button', 'for', 'emergency', 'brake', 'broke', 'and', 'came', 'off', 'unable', 'to', 'set', 'parking', 'brake', 'because', 'won', 'be', 'able', 'to', 'release', 'it', 'ford', 'service', 'informed', 'me', 'that', 'it', 'was', 'trim', 'issue', 'and', 'was', 'not', 'covered', 'by', 'warranty', 'can', 'not', 'set', 'the', 'parking', 'brake', 'which', 'leaves', 'the', 'danger', 'of', 'the', 'car', 'rolling', 'while', 'parked', 'and', 'injuring', 'someone', 'went', 'to', 'the', 'parts', 'department', 'out', 'of', 'desperation', 'to', 'order', 'the', 'button', 'and', 'was', 'told', 'the', 'entire', 'parking', 'brake', 'assyembly', 'had', 'to', 'be', 'replaced', 'at', 'over', 'that', 'does', 'not', 'sound', 'like', 'trim', 'issue', 'to', 'me', 'joe', 'cooper', 'ford', 'tulsa', 'oklahoma', 'js']\n"
     ]
    }
   ],
   "source": [
    "# Build the bigram and trigram models\n",
    "bigram = gensim.models.Phrases(data_words, min_count=5, threshold=100) # higher threshold fewer phrases.\n",
    "trigram = gensim.models.Phrases(bigram[data_words], threshold=100)  \n",
    "\n",
    "# Faster way to get a sentence clubbed as a trigram/bigram\n",
    "bigram_mod = gensim.models.phrases.Phraser(bigram)\n",
    "trigram_mod = gensim.models.phrases.Phraser(trigram)\n",
    "\n",
    "# See trigram example\n",
    "print(trigram_mod[bigram_mod[data_words[0]]])"
   ]
  },
  {
   "cell_type": "code",
   "execution_count": 23,
   "metadata": {
    "collapsed": true
   },
   "outputs": [],
   "source": [
    "def remove_stopwords(texts):\n",
    "    return [[word for word in simple_preprocess(str(doc)) if word not in stop_words] for doc in texts]\n",
    "\n",
    "def make_bigrams(texts):\n",
    "    return [bigram_mod[doc] for doc in texts]\n",
    "\n",
    "def make_trigrams(texts):\n",
    "    return [trigram_mod[bigram_mod[doc]] for doc in texts]\n",
    "\n",
    "def lemmatization(texts, allowed_postags=['NOUN', 'ADJ', 'VERB', 'ADV']):\n",
    "    \"\"\"https://spacy.io/api/annotation\"\"\"\n",
    "    texts_out = []\n",
    "    for sent in texts:\n",
    "        doc = nlp(\" \".join(sent)) \n",
    "        texts_out.append([token.lemma_ for token in doc if token.pos_ in allowed_postags])\n",
    "    return texts_out"
   ]
  },
  {
   "cell_type": "code",
   "execution_count": 24,
   "metadata": {
    "collapsed": true
   },
   "outputs": [],
   "source": [
    "# NLTK Stop words\n",
    "from nltk.corpus import stopwords\n",
    "stop_words = stopwords.words('english')\n",
    "stop_words.extend(['ford', 'honda', 'toyota', 'chrysler', 'subaru','kia','cherokee','jeep','gm','nissan','audi','car','vehicle'])"
   ]
  },
  {
   "cell_type": "code",
   "execution_count": 25,
   "metadata": {
    "collapsed": true
   },
   "outputs": [],
   "source": [
    "#!python -m spacy download en"
   ]
  },
  {
   "cell_type": "code",
   "execution_count": 26,
   "metadata": {},
   "outputs": [
    {
     "name": "stderr",
     "output_type": "stream",
     "text": [
      "C:\\Anaconda\\lib\\importlib\\_bootstrap.py:205: RuntimeWarning: cymem.cymem.Pool size changed, may indicate binary incompatibility. Expected 48 from C header, got 64 from PyObject\n",
      "  return f(*args, **kwds)\n",
      "C:\\Anaconda\\lib\\importlib\\_bootstrap.py:205: RuntimeWarning: cymem.cymem.Address size changed, may indicate binary incompatibility. Expected 24 from C header, got 40 from PyObject\n",
      "  return f(*args, **kwds)\n"
     ]
    },
    {
     "name": "stdout",
     "output_type": "stream",
     "text": [
      "[['release', 'button', 'emergency', 'brake', 'break', 'come', 'unable', 'set', 'parking', 'brake', 'able', 'release', 'service', 'inform', 'trim', 'issue', 'cover', 'warranty', 'set', 'parking', 'brake', 'leave', 'danger', 'roll', 'park', 'injure', 'someone', 'go', 'part', 'department', 'desperation', 'order', 'button', 'tell', 'entire', 'parking', 'brake', 'assyembly', 'replace', 'sound', 'trim', 'issue', 'joe', 'cooper', 'tulsa', 'oklahoma']]\n"
     ]
    }
   ],
   "source": [
    "# Remove Stop Words\n",
    "data_words_nostops = remove_stopwords(data_words)\n",
    "\n",
    "# Form Bigrams\n",
    "data_words_bigrams = make_trigrams(data_words_nostops)\n",
    "\n",
    "# Initialize spacy 'en' model, keeping only tagger component (for efficiency)\n",
    "# python3 -m spacy download en\n",
    "nlp = spacy.load('en', disable=['parser', 'ner'])\n",
    "\n",
    "# Do lemmatization keeping only noun, adj, vb, adv\n",
    "data_lemmatized = lemmatization(data_words_bigrams, allowed_postags=['NOUN', 'ADJ', 'VERB', 'ADV'])\n",
    "\n",
    "print(data_lemmatized[:1])"
   ]
  },
  {
   "cell_type": "code",
   "execution_count": 27,
   "metadata": {},
   "outputs": [
    {
     "name": "stdout",
     "output_type": "stream",
     "text": [
      "[[(0, 1), (1, 1), (2, 4), (3, 1), (4, 2), (5, 1), (6, 1), (7, 1), (8, 1), (9, 1), (10, 1), (11, 1), (12, 1), (13, 1), (14, 1), (15, 1), (16, 2), (17, 1), (18, 1), (19, 1), (20, 1), (21, 1), (22, 3), (23, 1), (24, 2), (25, 1), (26, 1), (27, 1), (28, 2), (29, 1), (30, 1), (31, 1), (32, 2), (33, 1), (34, 1), (35, 1)]]\n"
     ]
    }
   ],
   "source": [
    "# Create Dictionary\n",
    "id2word = corpora.Dictionary(data_lemmatized)\n",
    "\n",
    "# Create Corpus\n",
    "texts = data_lemmatized\n",
    "\n",
    "# Term Document Frequency\n",
    "corpus = [id2word.doc2bow(text) for text in texts]\n",
    "\n",
    "# View\n",
    "print(corpus[:1])"
   ]
  },
  {
   "cell_type": "code",
   "execution_count": 28,
   "metadata": {
    "scrolled": true
   },
   "outputs": [
    {
     "data": {
      "text/plain": [
       "[[('able', 1),\n",
       "  ('assyembly', 1),\n",
       "  ('brake', 4),\n",
       "  ('break', 1),\n",
       "  ('button', 2),\n",
       "  ('come', 1),\n",
       "  ('cooper', 1),\n",
       "  ('cover', 1),\n",
       "  ('danger', 1),\n",
       "  ('department', 1),\n",
       "  ('desperation', 1),\n",
       "  ('emergency', 1),\n",
       "  ('entire', 1),\n",
       "  ('go', 1),\n",
       "  ('inform', 1),\n",
       "  ('injure', 1),\n",
       "  ('issue', 2),\n",
       "  ('joe', 1),\n",
       "  ('leave', 1),\n",
       "  ('oklahoma', 1),\n",
       "  ('order', 1),\n",
       "  ('park', 1),\n",
       "  ('parking', 3),\n",
       "  ('part', 1),\n",
       "  ('release', 2),\n",
       "  ('replace', 1),\n",
       "  ('roll', 1),\n",
       "  ('service', 1),\n",
       "  ('set', 2),\n",
       "  ('someone', 1),\n",
       "  ('sound', 1),\n",
       "  ('tell', 1),\n",
       "  ('trim', 2),\n",
       "  ('tulsa', 1),\n",
       "  ('unable', 1),\n",
       "  ('warranty', 1)]]"
      ]
     },
     "execution_count": 28,
     "metadata": {},
     "output_type": "execute_result"
    }
   ],
   "source": [
    "# Human readable format of corpus (term-frequency)\n",
    "[[(id2word[id], freq) for id, freq in cp] for cp in corpus[:1]]"
   ]
  },
  {
   "cell_type": "markdown",
   "metadata": {},
   "source": [
    "## Preparation for LSA"
   ]
  },
  {
   "cell_type": "code",
   "execution_count": 29,
   "metadata": {
    "collapsed": true
   },
   "outputs": [],
   "source": [
    "tfidf = gensim.models.TfidfModel(corpus)"
   ]
  },
  {
   "cell_type": "code",
   "execution_count": 30,
   "metadata": {
    "collapsed": true
   },
   "outputs": [],
   "source": [
    "corpus_tfidf = tfidf[corpus]"
   ]
  },
  {
   "cell_type": "markdown",
   "metadata": {},
   "source": [
    "## Model comparison"
   ]
  },
  {
   "cell_type": "code",
   "execution_count": 31,
   "metadata": {
    "collapsed": true
   },
   "outputs": [],
   "source": [
    "def compute_coherence_values_lda(dictionary, corpus, texts, limit, start=2, step=3):\n",
    "    \"\"\"\n",
    "    Compute c_v coherence for various number of topics\n",
    "\n",
    "    Parameters:\n",
    "    ----------\n",
    "    dictionary : Gensim dictionary\n",
    "    corpus : Gensim corpus\n",
    "    texts : List of input texts\n",
    "    limit : Max num of topics\n",
    "\n",
    "    Returns:\n",
    "    -------\n",
    "    model_list : List of LDA topic models\n",
    "    coherence_values : Coherence values corresponding to the LDA model with respective number of topics\n",
    "    \"\"\"\n",
    "    coherence_values = []\n",
    "    model_list = []\n",
    "    for num_topics in range(start, limit, step):\n",
    "        model = gensim.models.ldamodel.LdaModel(corpus=corpus, num_topics=num_topics, id2word=id2word,random_state=100,update_every=1,chunksize=10, passes=10,\n",
    "                                               alpha='auto')\n",
    "        model_list.append(model)\n",
    "        coherencemodel = CoherenceModel(model=model, texts=texts, dictionary=dictionary, coherence='c_v')\n",
    "        coherence_values.append(coherencemodel.get_coherence())\n",
    "\n",
    "    return model_list, coherence_values"
   ]
  },
  {
   "cell_type": "code",
   "execution_count": 32,
   "metadata": {
    "collapsed": true
   },
   "outputs": [],
   "source": [
    "# Can take a long time to run.\n",
    "lda_model_list, lda_coherence_values = compute_coherence_values_lda(dictionary=id2word, corpus=corpus, texts=data_lemmatized, start=2, limit=60, step=4)"
   ]
  },
  {
   "cell_type": "code",
   "execution_count": 33,
   "metadata": {
    "collapsed": true
   },
   "outputs": [],
   "source": [
    "def compute_coherence_values_lsa(dictionary, corpus, texts, limit, start=2, step=3):\n",
    "    \"\"\"\n",
    "    Compute c_v coherence for various number of topics\n",
    "\n",
    "    Parameters:\n",
    "    ----------\n",
    "    dictionary : Gensim dictionary\n",
    "    corpus : Gensim corpus\n",
    "    texts : List of input texts\n",
    "    limit : Max num of topics\n",
    "\n",
    "    Returns:\n",
    "    -------\n",
    "    model_list : List of LSA topic models\n",
    "    coherence_values : Coherence values corresponding to the LSA model with respective number of topics\n",
    "    \"\"\"\n",
    "    coherence_values = []\n",
    "    model_list = []\n",
    "    for num_topics in range(start, limit, step):\n",
    "        model = gensim.models.lsimodel.LsiModel(corpus=corpus, num_topics=num_topics, id2word=id2word)\n",
    "        model_list.append(model)\n",
    "        coherencemodel = CoherenceModel(model=model, texts=texts, dictionary=dictionary, coherence='c_v')\n",
    "        coherence_values.append(coherencemodel.get_coherence())\n",
    "\n",
    "    return model_list, coherence_values"
   ]
  },
  {
   "cell_type": "code",
   "execution_count": 34,
   "metadata": {
    "collapsed": true
   },
   "outputs": [],
   "source": [
    "# Can take a long time to run.\n",
    "lsa_model_list, lsa_coherence_values = compute_coherence_values_lsa(dictionary=id2word, corpus=corpus_tfidf, texts=data_lemmatized, start=2, limit=60, step=4)"
   ]
  },
  {
   "cell_type": "code",
   "execution_count": 36,
   "metadata": {},
   "outputs": [
    {
     "data": {
      "image/png": "[encoded data removed]",
      "text/plain": [
       "<matplotlib.figure.Figure at 0x22d419900f0>"
      ]
     },
     "metadata": {},
     "output_type": "display_data"
    }
   ],
   "source": [
    "# Show graph\n",
    "limit=60; start=2; step=4;\n",
    "x = range(start, limit, step)\n",
    "plt.figure(figsize=[8,6])\n",
    "plt.plot(x, lda_coherence_values,color=\"red\")\n",
    "plt.plot(x, lsa_coherence_values,color=\"blue\")\n",
    "plt.title(\"The compaison between LDA and LSA\")\n",
    "plt.xlabel(\"Num Topics\")\n",
    "plt.ylabel(\"Coherence score\")\n",
    "plt.legend([\"LDA\",\"LSA\"])\n",
    "plt.show()"
   ]
  },
  {
   "cell_type": "code",
   "execution_count": 37,
   "metadata": {},
   "outputs": [
    {
     "name": "stdout",
     "output_type": "stream",
     "text": [
      "LDA model of Num Topics = 2  has Coherence Value of 0.31\n",
      "LDA model of Num Topics = 6  has Coherence Value of 0.32\n",
      "LDA model of Num Topics = 10  has Coherence Value of 0.32\n",
      "LDA model of Num Topics = 14  has Coherence Value of 0.31\n",
      "LDA model of Num Topics = 18  has Coherence Value of 0.34\n",
      "LDA model of Num Topics = 22  has Coherence Value of 0.36\n",
      "LDA model of Num Topics = 26  has Coherence Value of 0.38\n",
      "LDA model of Num Topics = 30  has Coherence Value of 0.38\n",
      "LDA model of Num Topics = 34  has Coherence Value of 0.41\n",
      "LDA model of Num Topics = 38  has Coherence Value of 0.42\n",
      "LDA model of Num Topics = 42  has Coherence Value of 0.42\n",
      "LDA model of Num Topics = 46  has Coherence Value of 0.44\n",
      "LDA model of Num Topics = 50  has Coherence Value of 0.44\n",
      "LDA model of Num Topics = 54  has Coherence Value of 0.45\n",
      "LDA model of Num Topics = 58  has Coherence Value of 0.45\n"
     ]
    }
   ],
   "source": [
    "# Print the coherence scores of LDA model\n",
    "for m, cv in zip(x, lda_coherence_values):\n",
    "    print(\"LDA model of Num Topics =\", m, \" has Coherence Value of\", round(cv, 2))"
   ]
  },
  {
   "cell_type": "code",
   "execution_count": 38,
   "metadata": {},
   "outputs": [
    {
     "name": "stdout",
     "output_type": "stream",
     "text": [
      "LSA model of Num Topics = 2  has Coherence Value of 0.35\n",
      "LSA model of Num Topics = 6  has Coherence Value of 0.44\n",
      "LSA model of Num Topics = 10  has Coherence Value of 0.33\n",
      "LSA model of Num Topics = 14  has Coherence Value of 0.33\n",
      "LSA model of Num Topics = 18  has Coherence Value of 0.3\n",
      "LSA model of Num Topics = 22  has Coherence Value of 0.28\n",
      "LSA model of Num Topics = 26  has Coherence Value of 0.29\n",
      "LSA model of Num Topics = 30  has Coherence Value of 0.28\n",
      "LSA model of Num Topics = 34  has Coherence Value of 0.29\n",
      "LSA model of Num Topics = 38  has Coherence Value of 0.3\n",
      "LSA model of Num Topics = 42  has Coherence Value of 0.29\n",
      "LSA model of Num Topics = 46  has Coherence Value of 0.29\n",
      "LSA model of Num Topics = 50  has Coherence Value of 0.3\n",
      "LSA model of Num Topics = 54  has Coherence Value of 0.3\n",
      "LSA model of Num Topics = 58  has Coherence Value of 0.32\n"
     ]
    }
   ],
   "source": [
    "# Print the coherence scores of LSA model\n",
    "for m, cv in zip(x, lsa_coherence_values):\n",
    "    print(\"LSA model of Num Topics =\", m, \" has Coherence Value of\", round(cv, 2))"
   ]
  },
  {
   "cell_type": "code",
   "execution_count": 39,
   "metadata": {
    "scrolled": true
   },
   "outputs": [
    {
     "name": "stdout",
     "output_type": "stream",
     "text": [
      "[(23,\n",
      "  '0.070*\"deceleration\" + 0.064*\"service_department\" + 0.059*\"wiring\" + '\n",
      "  '0.054*\"usually\" + 0.037*\"live\" + 0.036*\"lka\" + 0.033*\"significant\" + '\n",
      "  '0.028*\"recover\" + 0.027*\"husband\" + 0.025*\"figure\"'),\n",
      " (45,\n",
      "  '0.091*\"sit\" + 0.089*\"picture\" + 0.082*\"distance\" + 0.053*\"collide\" + '\n",
      "  '0.043*\"least\" + 0.036*\"warm\" + 0.030*\"maintain\" + 0.030*\"cabin\" + '\n",
      "  '0.025*\"forget\" + 0.023*\"barrier\"'),\n",
      " (36,\n",
      "  '0.079*\"sometimes\" + 0.054*\"console\" + 0.044*\"far\" + 0.037*\"land\" + '\n",
      "  '0.033*\"disappear\" + 0.033*\"acura\" + 0.027*\"uncheck\" + 0.020*\"flat_tire\" + '\n",
      "  '0.020*\"vary\" + 0.020*\"interior\"'),\n",
      " (12,\n",
      "  '0.096*\"local\" + 0.053*\"record\" + 0.046*\"mechanic\" + 0.039*\"lucky\" + '\n",
      "  '0.035*\"track\" + 0.034*\"handle\" + 0.031*\"half\" + 0.023*\"rail\" + 0.020*\"alfa\" '\n",
      "  '+ 0.018*\"free\"'),\n",
      " (50,\n",
      "  '0.076*\"detect\" + 0.045*\"marking\" + 0.043*\"residential\" + 0.042*\"morning\" + '\n",
      "  '0.032*\"fully\" + 0.029*\"produce\" + 0.026*\"technology\" + 0.025*\"upload\" + '\n",
      "  '0.025*\"care\" + 0.025*\"document\"'),\n",
      " (20,\n",
      "  '0.204*\"due\" + 0.102*\"night\" + 0.045*\"weather\" + 0.041*\"daytime\" + '\n",
      "  '0.031*\"active\" + 0.029*\"jerk\" + 0.025*\"scared\" + 0.022*\"reprogramm\" + '\n",
      "  '0.022*\"app\" + 0.020*\"flow\"'),\n",
      " (46,\n",
      "  '0.195*\"electrical\" + 0.072*\"rd\" + 0.054*\"barely\" + 0.047*\"water\" + '\n",
      "  '0.039*\"house\" + 0.032*\"poorly\" + 0.028*\"harness\" + 0.021*\"bumper\" + '\n",
      "  '0.019*\"utilize\" + 0.018*\"seal\"'),\n",
      " (22,\n",
      "  '0.160*\"change\" + 0.063*\"head\" + 0.045*\"trunk\" + 0.041*\"safe\" + '\n",
      "  '0.036*\"initial\" + 0.026*\"mode\" + 0.024*\"throttle\" + 0.022*\"national\" + '\n",
      "  '0.021*\"merced\" + 0.021*\"length\"'),\n",
      " (29,\n",
      "  '0.074*\"heavy\" + 0.046*\"startup\" + 0.040*\"range\" + 0.040*\"none\" + '\n",
      "  '0.039*\"cycle\" + 0.031*\"temperature\" + 0.029*\"dog\" + 0.024*\"empty\" + '\n",
      "  '0.023*\"outside\" + 0.020*\"advise\"'),\n",
      " (24,\n",
      "  '0.077*\"dashboard\" + 0.060*\"oliver\" + 0.057*\"connect\" + 0.038*\"terrible\" + '\n",
      "  '0.036*\"owner\" + 0.029*\"business\" + 0.027*\"learn\" + 0.025*\"downhill\" + '\n",
      "  '0.023*\"amber\" + 0.023*\"rate\"'),\n",
      " (7,\n",
      "  '0.097*\"keep\" + 0.097*\"move\" + 0.085*\"even\" + 0.070*\"away\" + 0.060*\"steer\" + '\n",
      "  '0.050*\"flash\" + 0.050*\"center\" + 0.047*\"assistance\" + 0.047*\"last\" + '\n",
      "  '0.034*\"beep\"'),\n",
      " (5,\n",
      "  '0.097*\"display\" + 0.092*\"purchase\" + 0.071*\"call\" + 0.067*\"blind_spot\" + '\n",
      "  '0.064*\"error\" + 0.053*\"battery\" + 0.036*\"odometer\" + 0.032*\"total\" + '\n",
      "  '0.032*\"small\" + 0.030*\"detection\"'),\n",
      " (18,\n",
      "  '0.307*\"camera\" + 0.148*\"fail\" + 0.124*\"control\" + 0.051*\"much\" + '\n",
      "  '0.033*\"properly\" + 0.023*\"long\" + 0.022*\"disengage\" + 0.021*\"constantly\" + '\n",
      "  '0.020*\"possible\" + 0.013*\"check_engine_light\"'),\n",
      " (27,\n",
      "  '0.150*\"also\" + 0.139*\"make\" + 0.123*\"say\" + 0.066*\"many\" + 0.063*\"year\" + '\n",
      "  '0.048*\"do\" + 0.041*\"recall\" + 0.038*\"gas\" + 0.036*\"think\" + '\n",
      "  '0.029*\"difficult\"'),\n",
      " (13,\n",
      "  '0.193*\"warning\" + 0.094*\"alert\" + 0.079*\"several\" + 0.059*\"not\" + '\n",
      "  '0.052*\"new\" + 0.044*\"can\" + 0.038*\"information\" + 0.035*\"signal\" + '\n",
      "  '0.028*\"dangerous\" + 0.026*\"package\"'),\n",
      " (1,\n",
      "  '0.337*\"system\" + 0.169*\"problem\" + 0.115*\"work\" + 0.083*\"collision\" + '\n",
      "  '0.034*\"fix\" + 0.029*\"still\" + 0.025*\"pull\" + 0.022*\"rain\" + 0.022*\"include\" '\n",
      "  '+ 0.018*\"wheel\"'),\n",
      " (35,\n",
      "  '0.162*\"drive\" + 0.087*\"light\" + 0.070*\"truck\" + 0.064*\"collision\" + '\n",
      "  '0.053*\"warn\" + 0.052*\"engage\" + 0.049*\"may\" + 0.045*\"forward\" + '\n",
      "  '0.043*\"turn\" + 0.040*\"highway\"'),\n",
      " (52,\n",
      "  '0.088*\"lane\" + 0.081*\"dealer\" + 0.079*\"take\" + 0.052*\"back\" + '\n",
      "  '0.045*\"adaptive_cruise_control\" + 0.040*\"sensor\" + 0.037*\"turn\" + '\n",
      "  '0.035*\"leave\" + 0.031*\"find\" + 0.031*\"apply\"'),\n",
      " (32,\n",
      "  '0.105*\"issue\" + 0.100*\"time\" + 0.063*\"safety\" + 0.053*\"happen\" + '\n",
      "  '0.047*\"would\" + 0.042*\"get\" + 0.038*\"mile\" + 0.037*\"dealership\" + '\n",
      "  '0.032*\"need\" + 0.031*\"use\"'),\n",
      " (10,\n",
      "  '0.166*\"brake\" + 0.069*\"front\" + 0.067*\"stop\" + 0.042*\"go\" + 0.039*\"mph\" + '\n",
      "  '0.037*\"road\" + 0.035*\"come\" + 0.034*\"speed\" + 0.032*\"could\" + '\n",
      "  '0.030*\"emergency\"')]\n"
     ]
    }
   ],
   "source": [
    "# Select the model and print the topics\n",
    "optimal_model = lda_model_list[13]\n",
    "optimal_model.save('lda.model')\n",
    "model_topics = optimal_model.show_topics(formatted=False)\n",
    "pprint(optimal_model.print_topics(num_words=10))"
   ]
  },
  {
   "cell_type": "code",
   "execution_count": 40,
   "metadata": {},
   "outputs": [
    {
     "name": "stdout",
     "output_type": "stream",
     "text": [
      "\n",
      "Perplexity:  -7.899201004171363\n",
      "\n",
      "Coherence Score:  0.44846375338991745\n"
     ]
    }
   ],
   "source": [
    "# Compute Perplexity\n",
    "print('\\nPerplexity: ', optimal_model.log_perplexity(corpus))  # a measure of how good the model is. lower the better.\n",
    "\n",
    "# Compute Coherence Score\n",
    "coherence_model_lda = CoherenceModel(model=optimal_model, texts=data_lemmatized, dictionary=id2word, coherence='c_v')\n",
    "coherence_lda = coherence_model_lda.get_coherence()\n",
    "print('\\nCoherence Score: ', coherence_lda)"
   ]
  },
  {
   "cell_type": "code",
   "execution_count": 41,
   "metadata": {},
   "outputs": [
    {
     "data": {
      "text/html": [
       "\n",
       "<link rel=\"stylesheet\" type=\"text/css\" href=\"https://cdn.rawgit.com/bmabey/pyLDAvis/files/ldavis.v1.0.0.css\">\n",
       "\n",
       "\n",
       "<div id=\"ldavis_el1026423941271292407831683634\"></div>\n",
       "<script type=\"text/javascript\">\n",
       "\n",
       "var ldavis_el1026423941271292407831683634_data = {\"mdsDat\": {\"Freq\": [11.49699704199978, 9.108459512220064, 8.423507290748383, 5.825381253025194, 5.035591568866947, 2.642038692629995, 2.5539974374589236, 2.223720109924524, 1.9988730568662434, 1.9562667387665909, 1.951206686467571, 1.9261553064585002, 1.8344928594502274, 1.798885767100352, 1.698473456468989, 1.6443791725742114, 1.630670814703104, 1.5832873494060755, 1.3805994481348287, 1.3782720178390404, 1.3679188075675313, 1.324791870884847, 1.2160753843686782, 1.2022924441796365, 1.170002513374272, 1.1644698165658143, 1.1478626935981002, 1.1215387994788049, 1.110858090506009, 1.1106966699887153, 1.0595489536794653, 1.0505799395400415, 1.0386533683818868, 1.0188665416396687, 1.0181870238191018, 1.0030521006482476, 0.9044427534335294, 0.888306705148114, 0.8717281656616455, 0.8506014236563713, 0.8408924905020346, 0.8295159165031472, 0.8216458320165073, 0.816261747614712, 0.8140774470690079, 0.8034420699866205, 0.7986563619256586, 0.7547075323847434, 0.6736886244097582, 0.6628893270107178, 0.6577832932210301, 0.6111074442681337, 0.5975048052865871, 0.5860974605713174], \"cluster\": [1, 1, 1, 1, 1, 1, 1, 1, 1, 1, 1, 1, 1, 1, 1, 1, 1, 1, 1, 1, 1, 1, 1, 1, 1, 1, 1, 1, 1, 1, 1, 1, 1, 1, 1, 1, 1, 1, 1, 1, 1, 1, 1, 1, 1, 1, 1, 1, 1, 1, 1, 1, 1, 1], \"topics\": [1, 2, 3, 4, 5, 6, 7, 8, 9, 10, 11, 12, 13, 14, 15, 16, 17, 18, 19, 20, 21, 22, 23, 24, 25, 26, 27, 28, 29, 30, 31, 32, 33, 34, 35, 36, 37, 38, 39, 40, 41, 42, 43, 44, 45, 46, 47, 48, 49, 50, 51, 52, 53, 54], \"x\": [-0.243960176656335, -0.21352724198873507, -0.24915728147763075, -0.25272267467552545, -0.22538183225787542, -0.09391345028476532, -0.07442239576800899, -0.059304073434360935, -0.023054466233572695, -0.0417929202229688, -0.05376968198407135, -0.0692895044125524, -0.03881623438928417, -0.04617001107941768, -0.02266365165472402, -0.02699444961083514, 0.012731239169831569, -0.0233207352428204, 0.0026829865695515817, 0.007820498645398967, -0.005433056019951024, 0.012501990662415871, 0.04658573569694, 0.03609546231967268, 0.03081288282831205, 0.02760478986737831, 0.03523976003742258, 0.003065238997070803, 0.02040002256174934, 0.01141945016586131, 0.02285712754258353, 0.04625780808803223, 0.048838355915204204, 0.02208474867382365, 0.030644152310257817, 0.024482704099947232, 0.04032905363951651, 0.059260173690052646, 0.08665314118322598, 0.04913366138885419, 0.06855152110630566, 0.07864128925864651, 0.059278572611394534, 0.03403044112248595, 0.07049860191633797, 0.08814006322819098, 0.036858539819559985, 0.09040977911273718, 0.07042648204596869, 0.09317110922303694, 0.10256995540250415, 0.10344761942323306, 0.08806368099054532, 0.1021051980793828], \"y\": [-0.2842715680639004, -0.16720336409072903, 0.1569893618766011, 0.24257949621482974, 0.19176922384694822, -0.03871088446739092, -0.03161693829588173, -0.023964891724596704, -0.0111306447046589, -0.01728002109248857, -0.023601840403307716, -0.14175363346781678, -0.016609639765179724, -0.01910715336214543, -0.011191592314904112, -0.012027579452003985, -0.0014991796760333062, -0.011036343085912023, -0.0043746250697561315, -0.0030058376612040576, -0.006504949594509953, -0.001284451756147112, 0.005741117878756144, 0.003061841552383629, 0.0027720367658011567, 0.0014200763316298804, 0.0033586909923946037, -0.0037091434284868773, 0.0002907698245955801, -0.0013282711363896238, 0.0008547621122748301, 0.005637249040680481, 0.006174141153988778, 0.0012784261766307652, 0.027453931206115622, 0.0010320831540935357, 0.004369553627833973, 0.007226662260301276, 0.012841845408978338, 0.006306928136323801, 0.009285000631732966, 0.012133465675508888, 0.007609421918753364, 0.0035428478332898685, 0.009331486343010953, 0.011970687821364864, 0.004091218643581642, 0.016103679809973202, 0.00961970255529555, 0.012904559954120104, 0.013746815775932685, 0.01393106363539001, 0.01201427788544667, 0.01377012656888261]}, \"tinfo\": {\"Category\": [\"Default\", \"Default\", \"Default\", \"Default\", \"Default\", \"Default\", \"Default\", \"Default\", \"Default\", \"Default\", \"Default\", \"Default\", \"Default\", \"Default\", \"Default\", \"Default\", \"Default\", \"Default\", \"Default\", \"Default\", \"Default\", \"Default\", \"Default\", \"Default\", \"Default\", \"Default\", \"Default\", \"Default\", \"Default\", \"Default\", \"Topic1\", \"Topic1\", \"Topic1\", \"Topic1\", \"Topic1\", \"Topic1\", \"Topic1\", \"Topic1\", \"Topic1\", \"Topic1\", \"Topic1\", \"Topic1\", \"Topic1\", \"Topic1\", \"Topic1\", \"Topic1\", \"Topic1\", \"Topic1\", \"Topic1\", \"Topic1\", \"Topic1\", \"Topic1\", \"Topic1\", \"Topic1\", \"Topic1\", \"Topic1\", \"Topic1\", \"Topic1\", \"Topic1\", \"Topic1\", \"Topic1\", \"Topic1\", \"Topic1\", \"Topic2\", \"Topic2\", \"Topic2\", \"Topic2\", \"Topic2\", \"Topic2\", \"Topic2\", \"Topic2\", \"Topic2\", \"Topic2\", \"Topic2\", \"Topic2\", \"Topic2\", \"Topic2\", \"Topic2\", \"Topic2\", \"Topic2\", \"Topic2\", \"Topic2\", \"Topic2\", \"Topic2\", \"Topic2\", \"Topic2\", \"Topic2\", \"Topic2\", \"Topic2\", \"Topic2\", \"Topic2\", \"Topic2\", \"Topic2\", \"Topic3\", \"Topic3\", \"Topic3\", \"Topic3\", \"Topic3\", \"Topic3\", \"Topic3\", \"Topic3\", \"Topic3\", \"Topic3\", \"Topic3\", \"Topic3\", \"Topic3\", \"Topic3\", \"Topic3\", \"Topic3\", \"Topic3\", \"Topic3\", \"Topic3\", \"Topic3\", \"Topic3\", \"Topic3\", \"Topic3\", \"Topic3\", \"Topic3\", \"Topic3\", \"Topic3\", \"Topic3\", \"Topic3\", \"Topic3\", \"Topic3\", \"Topic3\", \"Topic4\", \"Topic4\", \"Topic4\", \"Topic4\", \"Topic4\", \"Topic4\", \"Topic4\", \"Topic4\", \"Topic4\", \"Topic4\", \"Topic4\", \"Topic4\", \"Topic4\", \"Topic4\", \"Topic4\", \"Topic4\", \"Topic4\", \"Topic4\", \"Topic4\", \"Topic4\", \"Topic4\", \"Topic4\", \"Topic4\", \"Topic4\", \"Topic4\", \"Topic4\", \"Topic4\", \"Topic4\", \"Topic4\", \"Topic4\", \"Topic4\", \"Topic4\", \"Topic5\", \"Topic5\", \"Topic5\", \"Topic5\", \"Topic5\", \"Topic5\", \"Topic5\", \"Topic5\", \"Topic5\", \"Topic5\", \"Topic5\", \"Topic5\", \"Topic5\", \"Topic5\", \"Topic5\", \"Topic5\", \"Topic5\", \"Topic5\", \"Topic5\", \"Topic5\", \"Topic5\", \"Topic5\", \"Topic5\", \"Topic5\", \"Topic5\", \"Topic5\", \"Topic5\", \"Topic5\", \"Topic5\", \"Topic5\", \"Topic5\", \"Topic5\", \"Topic5\", \"Topic6\", \"Topic6\", \"Topic6\", \"Topic6\", \"Topic6\", \"Topic6\", \"Topic6\", \"Topic6\", \"Topic6\", \"Topic6\", \"Topic6\", \"Topic6\", \"Topic6\", \"Topic6\", \"Topic6\", \"Topic6\", \"Topic6\", \"Topic6\", \"Topic6\", \"Topic6\", \"Topic6\", \"Topic6\", \"Topic6\", \"Topic6\", \"Topic6\", \"Topic6\", \"Topic6\", \"Topic6\", \"Topic6\", \"Topic6\", \"Topic7\", \"Topic7\", \"Topic7\", \"Topic7\", \"Topic7\", \"Topic7\", \"Topic7\", \"Topic7\", \"Topic7\", \"Topic7\", \"Topic7\", \"Topic7\", \"Topic7\", \"Topic7\", \"Topic7\", \"Topic7\", \"Topic7\", \"Topic7\", \"Topic7\", \"Topic7\", \"Topic7\", \"Topic7\", \"Topic7\", \"Topic7\", \"Topic7\", \"Topic7\", \"Topic7\", \"Topic7\", \"Topic7\", \"Topic7\", \"Topic7\", \"Topic7\", \"Topic8\", \"Topic8\", \"Topic8\", \"Topic8\", \"Topic8\", \"Topic8\", \"Topic8\", \"Topic8\", \"Topic8\", \"Topic8\", \"Topic8\", \"Topic8\", \"Topic8\", \"Topic8\", \"Topic8\", \"Topic8\", \"Topic8\", \"Topic8\", \"Topic8\", \"Topic8\", \"Topic8\", \"Topic8\", \"Topic8\", \"Topic8\", \"Topic8\", \"Topic8\", \"Topic8\", \"Topic8\", \"Topic8\", \"Topic8\", \"Topic9\", \"Topic9\", \"Topic9\", \"Topic9\", \"Topic9\", \"Topic9\", \"Topic9\", \"Topic9\", \"Topic9\", \"Topic9\", \"Topic9\", \"Topic9\", \"Topic9\", \"Topic9\", \"Topic9\", \"Topic9\", \"Topic9\", \"Topic9\", \"Topic9\", \"Topic9\", \"Topic9\", \"Topic9\", \"Topic9\", \"Topic9\", \"Topic9\", \"Topic9\", \"Topic9\", \"Topic9\", \"Topic9\", \"Topic9\", \"Topic10\", \"Topic10\", \"Topic10\", \"Topic10\", \"Topic10\", \"Topic10\", \"Topic10\", \"Topic10\", \"Topic10\", \"Topic10\", \"Topic10\", \"Topic10\", \"Topic10\", \"Topic10\", \"Topic10\", \"Topic10\", \"Topic10\", \"Topic10\", \"Topic10\", \"Topic10\", \"Topic10\", \"Topic10\", \"Topic10\", \"Topic10\", \"Topic10\", \"Topic10\", \"Topic10\", \"Topic10\", \"Topic10\", \"Topic10\", \"Topic11\", \"Topic11\", \"Topic11\", \"Topic11\", \"Topic11\", \"Topic11\", \"Topic11\", \"Topic11\", \"Topic11\", \"Topic11\", \"Topic11\", \"Topic11\", \"Topic11\", \"Topic11\", \"Topic11\", \"Topic11\", \"Topic11\", \"Topic11\", \"Topic11\", \"Topic11\", \"Topic11\", \"Topic11\", \"Topic11\", \"Topic11\", \"Topic11\", \"Topic11\", \"Topic11\", \"Topic11\", \"Topic11\", \"Topic11\", \"Topic12\", \"Topic12\", \"Topic12\", \"Topic12\", \"Topic12\", \"Topic12\", \"Topic12\", \"Topic12\", \"Topic12\", \"Topic12\", \"Topic12\", \"Topic12\", \"Topic12\", \"Topic12\", \"Topic12\", \"Topic12\", \"Topic12\", \"Topic12\", \"Topic12\", \"Topic12\", \"Topic12\", \"Topic12\", \"Topic12\", \"Topic12\", \"Topic12\", \"Topic12\", \"Topic12\", \"Topic12\", \"Topic12\", \"Topic12\", \"Topic12\", \"Topic13\", \"Topic13\", \"Topic13\", \"Topic13\", \"Topic13\", \"Topic13\", \"Topic13\", \"Topic13\", \"Topic13\", \"Topic13\", \"Topic13\", \"Topic13\", \"Topic13\", \"Topic13\", \"Topic13\", \"Topic13\", \"Topic13\", \"Topic13\", \"Topic13\", \"Topic13\", \"Topic13\", \"Topic13\", \"Topic13\", \"Topic13\", \"Topic13\", \"Topic13\", \"Topic13\", \"Topic13\", \"Topic13\", \"Topic13\", \"Topic14\", \"Topic14\", \"Topic14\", \"Topic14\", \"Topic14\", \"Topic14\", \"Topic14\", \"Topic14\", \"Topic14\", \"Topic14\", \"Topic14\", \"Topic14\", \"Topic14\", \"Topic14\", \"Topic14\", \"Topic14\", \"Topic14\", \"Topic14\", \"Topic14\", \"Topic14\", \"Topic14\", \"Topic14\", \"Topic14\", \"Topic14\", \"Topic14\", \"Topic14\", \"Topic14\", \"Topic14\", \"Topic14\", \"Topic14\", \"Topic15\", \"Topic15\", \"Topic15\", \"Topic15\", \"Topic15\", \"Topic15\", \"Topic15\", \"Topic15\", \"Topic15\", \"Topic15\", \"Topic15\", \"Topic15\", \"Topic15\", \"Topic15\", \"Topic15\", \"Topic15\", \"Topic15\", \"Topic15\", \"Topic15\", \"Topic15\", \"Topic15\", \"Topic15\", \"Topic15\", \"Topic15\", \"Topic15\", \"Topic15\", \"Topic15\", \"Topic15\", \"Topic15\", \"Topic15\", \"Topic16\", \"Topic16\", \"Topic16\", \"Topic16\", \"Topic16\", \"Topic16\", \"Topic16\", \"Topic16\", \"Topic16\", \"Topic16\", \"Topic16\", \"Topic16\", \"Topic16\", \"Topic16\", \"Topic16\", \"Topic16\", \"Topic16\", \"Topic16\", \"Topic16\", \"Topic16\", \"Topic16\", \"Topic16\", \"Topic16\", \"Topic16\", \"Topic16\", \"Topic16\", \"Topic16\", \"Topic16\", \"Topic16\", \"Topic16\", \"Topic17\", \"Topic17\", \"Topic17\", \"Topic17\", \"Topic17\", \"Topic17\", \"Topic17\", \"Topic17\", \"Topic17\", \"Topic17\", \"Topic17\", \"Topic17\", \"Topic17\", \"Topic17\", \"Topic17\", \"Topic17\", \"Topic17\", \"Topic17\", \"Topic17\", \"Topic17\", \"Topic17\", \"Topic17\", \"Topic17\", \"Topic17\", \"Topic17\", \"Topic17\", \"Topic17\", \"Topic17\", \"Topic17\", \"Topic17\", \"Topic18\", \"Topic18\", \"Topic18\", \"Topic18\", \"Topic18\", \"Topic18\", \"Topic18\", \"Topic18\", \"Topic18\", \"Topic18\", \"Topic18\", \"Topic18\", \"Topic18\", \"Topic18\", \"Topic18\", \"Topic18\", \"Topic18\", \"Topic18\", \"Topic18\", \"Topic18\", \"Topic18\", \"Topic18\", \"Topic18\", \"Topic18\", \"Topic18\", \"Topic18\", \"Topic18\", \"Topic18\", \"Topic18\", \"Topic18\", \"Topic18\", \"Topic19\", \"Topic19\", \"Topic19\", \"Topic19\", \"Topic19\", \"Topic19\", \"Topic19\", \"Topic19\", \"Topic19\", \"Topic19\", \"Topic19\", \"Topic19\", \"Topic19\", \"Topic19\", \"Topic19\", \"Topic19\", \"Topic19\", \"Topic19\", \"Topic19\", \"Topic19\", \"Topic19\", \"Topic19\", \"Topic19\", \"Topic19\", \"Topic19\", \"Topic19\", \"Topic19\", \"Topic19\", \"Topic19\", \"Topic19\", \"Topic20\", \"Topic20\", \"Topic20\", \"Topic20\", \"Topic20\", \"Topic20\", \"Topic20\", \"Topic20\", \"Topic20\", \"Topic20\", \"Topic20\", \"Topic20\", \"Topic20\", \"Topic20\", \"Topic20\", \"Topic20\", \"Topic20\", \"Topic20\", \"Topic20\", \"Topic20\", \"Topic20\", \"Topic20\", \"Topic20\", \"Topic20\", \"Topic20\", \"Topic20\", \"Topic20\", \"Topic20\", \"Topic20\", \"Topic20\", \"Topic20\", \"Topic20\", \"Topic21\", \"Topic21\", \"Topic21\", \"Topic21\", \"Topic21\", \"Topic21\", \"Topic21\", \"Topic21\", \"Topic21\", \"Topic21\", \"Topic21\", \"Topic21\", \"Topic21\", \"Topic21\", \"Topic21\", \"Topic21\", \"Topic21\", \"Topic21\", \"Topic21\", \"Topic21\", \"Topic21\", \"Topic21\", \"Topic21\", \"Topic21\", \"Topic21\", \"Topic21\", \"Topic21\", \"Topic21\", \"Topic21\", \"Topic21\", \"Topic22\", \"Topic22\", \"Topic22\", \"Topic22\", \"Topic22\", \"Topic22\", \"Topic22\", \"Topic22\", \"Topic22\", \"Topic22\", \"Topic22\", \"Topic22\", \"Topic22\", \"Topic22\", \"Topic22\", \"Topic22\", \"Topic22\", \"Topic22\", \"Topic22\", \"Topic22\", \"Topic22\", \"Topic22\", \"Topic22\", \"Topic22\", \"Topic22\", \"Topic22\", \"Topic22\", \"Topic22\", \"Topic22\", \"Topic22\", \"Topic22\", \"Topic23\", \"Topic23\", \"Topic23\", \"Topic23\", \"Topic23\", \"Topic23\", \"Topic23\", \"Topic23\", \"Topic23\", \"Topic23\", \"Topic23\", \"Topic23\", \"Topic23\", \"Topic23\", \"Topic23\", \"Topic23\", \"Topic23\", \"Topic23\", \"Topic23\", \"Topic23\", \"Topic23\", \"Topic23\", \"Topic23\", \"Topic23\", \"Topic23\", \"Topic23\", \"Topic23\", \"Topic23\", \"Topic23\", \"Topic23\", \"Topic24\", \"Topic24\", \"Topic24\", \"Topic24\", \"Topic24\", \"Topic24\", \"Topic24\", \"Topic24\", \"Topic24\", \"Topic24\", \"Topic24\", \"Topic24\", \"Topic24\", \"Topic24\", \"Topic24\", \"Topic24\", \"Topic24\", \"Topic24\", \"Topic24\", \"Topic24\", \"Topic24\", \"Topic24\", \"Topic24\", \"Topic24\", \"Topic24\", \"Topic24\", \"Topic24\", \"Topic24\", \"Topic24\", \"Topic24\", \"Topic25\", \"Topic25\", \"Topic25\", \"Topic25\", \"Topic25\", \"Topic25\", \"Topic25\", \"Topic25\", \"Topic25\", \"Topic25\", \"Topic25\", \"Topic25\", \"Topic25\", \"Topic25\", \"Topic25\", \"Topic25\", \"Topic25\", \"Topic25\", \"Topic25\", \"Topic25\", \"Topic25\", \"Topic25\", \"Topic25\", \"Topic25\", \"Topic25\", \"Topic25\", \"Topic25\", \"Topic25\", \"Topic25\", \"Topic25\", \"Topic25\", \"Topic25\", \"Topic26\", \"Topic26\", \"Topic26\", \"Topic26\", \"Topic26\", \"Topic26\", \"Topic26\", \"Topic26\", \"Topic26\", \"Topic26\", \"Topic26\", \"Topic26\", \"Topic26\", \"Topic26\", \"Topic26\", \"Topic26\", \"Topic26\", \"Topic26\", \"Topic26\", \"Topic26\", \"Topic26\", \"Topic26\", \"Topic26\", \"Topic26\", \"Topic26\", \"Topic26\", \"Topic26\", \"Topic26\", \"Topic26\", \"Topic26\", \"Topic27\", \"Topic27\", \"Topic27\", \"Topic27\", \"Topic27\", \"Topic27\", \"Topic27\", \"Topic27\", \"Topic27\", \"Topic27\", \"Topic27\", \"Topic27\", \"Topic27\", \"Topic27\", \"Topic27\", \"Topic27\", \"Topic27\", \"Topic27\", \"Topic27\", \"Topic27\", \"Topic27\", \"Topic27\", \"Topic27\", \"Topic27\", \"Topic27\", \"Topic27\", \"Topic27\", \"Topic27\", \"Topic27\", \"Topic27\", \"Topic28\", \"Topic28\", \"Topic28\", \"Topic28\", \"Topic28\", \"Topic28\", \"Topic28\", \"Topic28\", \"Topic28\", \"Topic28\", \"Topic28\", \"Topic28\", \"Topic28\", \"Topic28\", \"Topic28\", \"Topic28\", \"Topic28\", \"Topic28\", \"Topic28\", \"Topic28\", \"Topic28\", \"Topic28\", \"Topic28\", \"Topic28\", \"Topic28\", \"Topic28\", \"Topic28\", \"Topic28\", \"Topic28\", \"Topic28\", \"Topic29\", \"Topic29\", \"Topic29\", \"Topic29\", \"Topic29\", \"Topic29\", \"Topic29\", \"Topic29\", \"Topic29\", \"Topic29\", \"Topic29\", \"Topic29\", \"Topic29\", \"Topic29\", \"Topic29\", \"Topic29\", \"Topic29\", \"Topic29\", \"Topic29\", \"Topic29\", \"Topic29\", \"Topic29\", \"Topic29\", \"Topic29\", \"Topic29\", \"Topic29\", \"Topic29\", \"Topic29\", \"Topic29\", \"Topic29\", \"Topic30\", \"Topic30\", \"Topic30\", \"Topic30\", \"Topic30\", \"Topic30\", \"Topic30\", \"Topic30\", \"Topic30\", \"Topic30\", \"Topic30\", \"Topic30\", \"Topic30\", \"Topic30\", \"Topic30\", \"Topic30\", \"Topic30\", \"Topic30\", \"Topic30\", \"Topic30\", \"Topic30\", \"Topic30\", \"Topic30\", \"Topic30\", \"Topic30\", \"Topic30\", \"Topic30\", \"Topic30\", \"Topic30\", \"Topic30\", \"Topic31\", \"Topic31\", \"Topic31\", \"Topic31\", \"Topic31\", \"Topic31\", \"Topic31\", \"Topic31\", \"Topic31\", \"Topic31\", \"Topic31\", \"Topic31\", \"Topic31\", \"Topic31\", \"Topic31\", \"Topic31\", \"Topic31\", \"Topic31\", \"Topic31\", \"Topic31\", \"Topic31\", \"Topic31\", \"Topic31\", \"Topic31\", \"Topic31\", \"Topic31\", \"Topic31\", \"Topic31\", \"Topic31\", \"Topic31\", \"Topic32\", \"Topic32\", \"Topic32\", \"Topic32\", \"Topic32\", \"Topic32\", \"Topic32\", \"Topic32\", \"Topic32\", \"Topic32\", \"Topic32\", \"Topic32\", \"Topic32\", \"Topic32\", \"Topic32\", \"Topic32\", \"Topic32\", \"Topic32\", \"Topic32\", \"Topic32\", \"Topic32\", \"Topic32\", \"Topic32\", \"Topic32\", \"Topic32\", \"Topic32\", \"Topic32\", \"Topic32\", \"Topic32\", \"Topic32\", \"Topic33\", \"Topic33\", \"Topic33\", \"Topic33\", \"Topic33\", \"Topic33\", \"Topic33\", \"Topic33\", \"Topic33\", \"Topic33\", \"Topic33\", \"Topic33\", \"Topic33\", \"Topic33\", \"Topic33\", \"Topic33\", \"Topic33\", \"Topic33\", \"Topic33\", \"Topic33\", \"Topic33\", \"Topic33\", \"Topic33\", \"Topic33\", \"Topic33\", \"Topic33\", \"Topic33\", \"Topic33\", \"Topic33\", \"Topic33\", \"Topic34\", \"Topic34\", \"Topic34\", \"Topic34\", \"Topic34\", \"Topic34\", \"Topic34\", \"Topic34\", \"Topic34\", \"Topic34\", \"Topic34\", \"Topic34\", \"Topic34\", \"Topic34\", \"Topic34\", \"Topic34\", \"Topic34\", \"Topic34\", \"Topic34\", \"Topic34\", \"Topic34\", \"Topic34\", \"Topic34\", \"Topic34\", \"Topic34\", \"Topic34\", \"Topic34\", \"Topic34\", \"Topic34\", \"Topic34\", \"Topic35\", \"Topic35\", \"Topic35\", \"Topic35\", \"Topic35\", \"Topic35\", \"Topic35\", \"Topic35\", \"Topic35\", \"Topic35\", \"Topic35\", \"Topic35\", \"Topic35\", \"Topic35\", \"Topic35\", \"Topic35\", \"Topic35\", \"Topic35\", \"Topic35\", \"Topic35\", \"Topic35\", \"Topic35\", \"Topic35\", \"Topic35\", \"Topic35\", \"Topic35\", \"Topic35\", \"Topic35\", \"Topic35\", \"Topic35\", \"Topic35\", \"Topic35\", \"Topic36\", \"Topic36\", \"Topic36\", \"Topic36\", \"Topic36\", \"Topic36\", \"Topic36\", \"Topic36\", \"Topic36\", \"Topic36\", \"Topic36\", \"Topic36\", \"Topic36\", \"Topic36\", \"Topic36\", \"Topic36\", \"Topic36\", \"Topic36\", \"Topic36\", \"Topic36\", \"Topic36\", \"Topic36\", \"Topic36\", \"Topic36\", \"Topic36\", \"Topic36\", \"Topic36\", \"Topic36\", \"Topic36\", \"Topic36\", \"Topic37\", \"Topic37\", \"Topic37\", \"Topic37\", \"Topic37\", \"Topic37\", \"Topic37\", \"Topic37\", \"Topic37\", \"Topic37\", \"Topic37\", \"Topic37\", \"Topic37\", \"Topic37\", \"Topic37\", \"Topic37\", \"Topic37\", \"Topic37\", \"Topic37\", \"Topic37\", \"Topic37\", \"Topic37\", \"Topic37\", \"Topic37\", \"Topic37\", \"Topic37\", \"Topic37\", \"Topic37\", \"Topic37\", \"Topic37\", \"Topic38\", \"Topic38\", \"Topic38\", \"Topic38\", \"Topic38\", \"Topic38\", \"Topic38\", \"Topic38\", \"Topic38\", \"Topic38\", \"Topic38\", \"Topic38\", \"Topic38\", \"Topic38\", \"Topic38\", \"Topic38\", \"Topic38\", \"Topic38\", \"Topic38\", \"Topic38\", \"Topic38\", \"Topic38\", \"Topic38\", \"Topic38\", \"Topic38\", \"Topic38\", \"Topic38\", \"Topic38\", \"Topic38\", \"Topic38\", \"Topic38\", \"Topic38\", \"Topic38\", \"Topic38\", \"Topic39\", \"Topic39\", \"Topic39\", \"Topic39\", \"Topic39\", \"Topic39\", \"Topic39\", \"Topic39\", \"Topic39\", \"Topic39\", \"Topic39\", \"Topic39\", \"Topic39\", \"Topic39\", \"Topic39\", \"Topic39\", \"Topic39\", \"Topic39\", \"Topic39\", \"Topic39\", \"Topic39\", \"Topic39\", \"Topic39\", \"Topic39\", \"Topic39\", \"Topic39\", \"Topic39\", \"Topic39\", \"Topic39\", \"Topic39\", \"Topic39\", \"Topic40\", \"Topic40\", \"Topic40\", \"Topic40\", \"Topic40\", \"Topic40\", \"Topic40\", \"Topic40\", \"Topic40\", \"Topic40\", \"Topic40\", \"Topic40\", \"Topic40\", \"Topic40\", \"Topic40\", \"Topic40\", \"Topic40\", \"Topic40\", \"Topic40\", \"Topic40\", \"Topic40\", \"Topic40\", \"Topic40\", \"Topic40\", \"Topic40\", \"Topic40\", \"Topic40\", \"Topic40\", \"Topic40\", \"Topic40\", \"Topic40\", \"Topic41\", \"Topic41\", \"Topic41\", \"Topic41\", \"Topic41\", \"Topic41\", \"Topic41\", \"Topic41\", \"Topic41\", \"Topic41\", \"Topic41\", \"Topic41\", \"Topic41\", \"Topic41\", \"Topic41\", \"Topic41\", \"Topic41\", \"Topic41\", \"Topic41\", \"Topic41\", \"Topic41\", \"Topic41\", \"Topic41\", \"Topic41\", \"Topic41\", \"Topic41\", \"Topic41\", \"Topic41\", \"Topic41\", \"Topic41\", \"Topic42\", \"Topic42\", \"Topic42\", \"Topic42\", \"Topic42\", \"Topic42\", \"Topic42\", \"Topic42\", \"Topic42\", \"Topic42\", \"Topic42\", \"Topic42\", \"Topic42\", \"Topic42\", \"Topic42\", \"Topic42\", \"Topic42\", \"Topic42\", \"Topic42\", \"Topic42\", \"Topic42\", \"Topic42\", \"Topic42\", \"Topic42\", \"Topic42\", \"Topic42\", \"Topic42\", \"Topic42\", \"Topic42\", \"Topic42\", \"Topic42\", \"Topic43\", \"Topic43\", \"Topic43\", \"Topic43\", \"Topic43\", \"Topic43\", \"Topic43\", \"Topic43\", \"Topic43\", \"Topic43\", \"Topic43\", \"Topic43\", \"Topic43\", \"Topic43\", \"Topic43\", \"Topic43\", \"Topic43\", \"Topic43\", \"Topic43\", \"Topic43\", \"Topic43\", \"Topic43\", \"Topic43\", \"Topic43\", \"Topic43\", \"Topic43\", \"Topic43\", \"Topic43\", \"Topic43\", \"Topic43\", \"Topic43\", \"Topic43\", \"Topic43\", \"Topic44\", \"Topic44\", \"Topic44\", \"Topic44\", \"Topic44\", \"Topic44\", \"Topic44\", \"Topic44\", \"Topic44\", \"Topic44\", \"Topic44\", \"Topic44\", \"Topic44\", \"Topic44\", \"Topic44\", \"Topic44\", \"Topic44\", \"Topic44\", \"Topic44\", \"Topic44\", \"Topic44\", \"Topic44\", \"Topic44\", \"Topic44\", \"Topic44\", \"Topic44\", \"Topic44\", \"Topic44\", \"Topic44\", \"Topic44\", \"Topic44\", \"Topic44\", \"Topic45\", \"Topic45\", \"Topic45\", \"Topic45\", \"Topic45\", \"Topic45\", \"Topic45\", \"Topic45\", \"Topic45\", \"Topic45\", \"Topic45\", \"Topic45\", \"Topic45\", \"Topic45\", \"Topic45\", \"Topic45\", \"Topic45\", \"Topic45\", \"Topic45\", \"Topic45\", \"Topic45\", \"Topic45\", \"Topic45\", \"Topic45\", \"Topic45\", \"Topic45\", \"Topic45\", \"Topic45\", \"Topic45\", \"Topic45\", \"Topic46\", \"Topic46\", \"Topic46\", \"Topic46\", \"Topic46\", \"Topic46\", \"Topic46\", \"Topic46\", \"Topic46\", \"Topic46\", \"Topic46\", \"Topic46\", \"Topic46\", \"Topic46\", \"Topic46\", \"Topic46\", \"Topic46\", \"Topic46\", \"Topic46\", \"Topic46\", \"Topic46\", \"Topic46\", \"Topic46\", \"Topic46\", \"Topic46\", \"Topic46\", \"Topic46\", \"Topic46\", \"Topic46\", \"Topic46\", \"Topic47\", \"Topic47\", \"Topic47\", \"Topic47\", \"Topic47\", \"Topic47\", \"Topic47\", \"Topic47\", \"Topic47\", \"Topic47\", \"Topic47\", \"Topic47\", \"Topic47\", \"Topic47\", \"Topic47\", \"Topic47\", \"Topic47\", \"Topic47\", \"Topic47\", \"Topic47\", \"Topic47\", \"Topic47\", \"Topic47\", \"Topic47\", \"Topic47\", \"Topic47\", \"Topic47\", \"Topic47\", \"Topic47\", \"Topic47\", \"Topic47\", \"Topic48\", \"Topic48\", \"Topic48\", \"Topic48\", \"Topic48\", \"Topic48\", \"Topic48\", \"Topic48\", \"Topic48\", \"Topic48\", \"Topic48\", \"Topic48\", \"Topic48\", \"Topic48\", \"Topic48\", \"Topic48\", \"Topic48\", \"Topic48\", \"Topic48\", \"Topic48\", \"Topic48\", \"Topic48\", \"Topic48\", \"Topic48\", \"Topic48\", \"Topic48\", \"Topic48\", \"Topic48\", \"Topic48\", \"Topic48\", \"Topic48\", \"Topic49\", \"Topic49\", \"Topic49\", \"Topic49\", \"Topic49\", \"Topic49\", \"Topic49\", \"Topic49\", \"Topic49\", \"Topic49\", \"Topic49\", \"Topic49\", \"Topic49\", \"Topic49\", \"Topic49\", \"Topic49\", \"Topic49\", \"Topic49\", \"Topic49\", \"Topic49\", \"Topic49\", \"Topic49\", \"Topic49\", \"Topic49\", \"Topic49\", \"Topic49\", \"Topic49\", \"Topic49\", \"Topic49\", \"Topic49\", \"Topic49\", \"Topic49\", \"Topic49\", \"Topic50\", \"Topic50\", \"Topic50\", \"Topic50\", \"Topic50\", \"Topic50\", \"Topic50\", \"Topic50\", \"Topic50\", \"Topic50\", \"Topic50\", \"Topic50\", \"Topic50\", \"Topic50\", \"Topic50\", \"Topic50\", \"Topic50\", \"Topic50\", \"Topic50\", \"Topic50\", \"Topic50\", \"Topic50\", \"Topic50\", \"Topic50\", \"Topic50\", \"Topic50\", \"Topic50\", \"Topic50\", \"Topic50\", \"Topic50\", \"Topic50\", \"Topic51\", \"Topic51\", \"Topic51\", \"Topic51\", \"Topic51\", \"Topic51\", \"Topic51\", \"Topic51\", \"Topic51\", \"Topic51\", \"Topic51\", \"Topic51\", \"Topic51\", \"Topic51\", \"Topic51\", \"Topic51\", \"Topic51\", \"Topic51\", \"Topic51\", \"Topic51\", \"Topic51\", \"Topic51\", \"Topic51\", \"Topic51\", \"Topic51\", \"Topic51\", \"Topic51\", \"Topic51\", \"Topic51\", \"Topic51\", \"Topic51\", \"Topic51\", \"Topic51\", \"Topic51\", \"Topic51\", \"Topic51\", \"Topic51\", \"Topic51\", \"Topic52\", \"Topic52\", \"Topic52\", \"Topic52\", \"Topic52\", \"Topic52\", \"Topic52\", \"Topic52\", \"Topic52\", \"Topic52\", \"Topic52\", \"Topic52\", \"Topic52\", \"Topic52\", \"Topic52\", \"Topic52\", \"Topic52\", \"Topic52\", \"Topic52\", \"Topic52\", \"Topic52\", \"Topic52\", \"Topic52\", \"Topic52\", \"Topic52\", \"Topic52\", \"Topic52\", \"Topic52\", \"Topic52\", \"Topic52\", \"Topic53\", \"Topic53\", \"Topic53\", \"Topic53\", \"Topic53\", \"Topic53\", \"Topic53\", \"Topic53\", \"Topic53\", \"Topic53\", \"Topic53\", \"Topic53\", \"Topic53\", \"Topic53\", \"Topic53\", \"Topic53\", \"Topic53\", \"Topic53\", \"Topic53\", \"Topic53\", \"Topic53\", \"Topic53\", \"Topic53\", \"Topic53\", \"Topic53\", \"Topic53\", \"Topic53\", \"Topic53\", \"Topic53\", \"Topic53\", \"Topic53\", \"Topic53\", \"Topic54\", \"Topic54\", \"Topic54\", \"Topic54\", \"Topic54\", \"Topic54\", \"Topic54\", \"Topic54\", \"Topic54\", \"Topic54\", \"Topic54\", \"Topic54\", \"Topic54\", \"Topic54\", \"Topic54\", \"Topic54\", \"Topic54\", \"Topic54\", \"Topic54\", \"Topic54\", \"Topic54\", \"Topic54\", \"Topic54\", \"Topic54\", \"Topic54\", \"Topic54\", \"Topic54\", \"Topic54\", \"Topic54\", \"Topic54\"], \"Freq\": [707.0, 794.0, 401.0, 285.0, 354.0, 399.0, 380.0, 212.0, 213.0, 161.0, 274.0, 309.0, 182.0, 357.0, 241.0, 285.0, 330.0, 277.0, 320.0, 160.0, 211.0, 238.0, 148.0, 128.0, 138.0, 116.0, 131.0, 171.0, 104.0, 116.0, 793.6110400854743, 329.66281016350746, 319.6712929563944, 185.86972373717012, 178.54031319170306, 169.63895989886186, 161.91492505415738, 155.27014194745604, 145.24729018508356, 130.03867221960772, 122.44603890828664, 113.27541739678131, 106.50470670436657, 102.99854052940326, 84.63746449207764, 64.78447428652717, 63.33156980899789, 61.75771162642763, 58.19433242907985, 56.82432745105206, 56.653000925772176, 56.45117031363957, 54.50276194987783, 50.70247601242395, 46.61887086665058, 45.142190882316456, 44.90661021273074, 42.693398514211886, 40.73285013110698, 35.494137102192305, 201.52394604633363, 86.31284966980947, 47.866390684457286, 398.7603306582252, 379.63578756899216, 237.89402474925197, 199.73530925932153, 178.06131382264758, 161.3232106019735, 144.39693769493098, 138.81189614131927, 120.39183975667203, 118.81535443555849, 92.79067606389823, 89.63889395115872, 84.28593400373236, 67.47908001186765, 65.07196114514134, 64.3250623317587, 57.96413387205458, 56.030965899520545, 55.75892352660641, 55.5396822836348, 55.43530392613873, 54.17905301882744, 53.4247435825983, 52.97672809972367, 49.34515856405836, 47.225101404187086, 45.842081092783886, 43.10891958184294, 41.04908832392124, 40.092315011861736, 308.61817810582755, 285.1593832430886, 276.52195436942606, 182.33075416264685, 157.18851552238033, 140.3013576785504, 123.99217090149226, 108.16548593824766, 107.28995202239446, 101.4655424829513, 83.9133188152648, 73.36168300473447, 66.93771190134555, 63.595424427918836, 62.03783362119067, 57.84774620691694, 56.54113511597362, 50.50198518312335, 50.424177611110856, 46.17447752562486, 45.271245618927445, 43.88518476967143, 42.59212008006104, 40.85382662584924, 40.18513948678486, 38.47929393279556, 36.10268070092329, 35.28816610988611, 27.229804184291314, 26.458972730225714, 129.34576366589542, 51.82967317911088, 210.412714853816, 171.03346417564396, 127.18367434629856, 118.20630875948464, 109.06746023219253, 96.27591193235408, 94.80485618732641, 82.2750921399449, 68.37999412918924, 68.16066871431839, 66.139095952371, 65.42218228039309, 394.5973062658544, 44.56911511262268, 35.07485027991043, 33.69869800018201, 23.345012723474433, 18.62924143435814, 17.666007458363172, 17.1195082854094, 17.066679066776068, 128.515662014595, 14.47953481568407, 12.274901300337744, 11.233384973693191, 11.158221202946226, 9.858481483305543, 8.666848574598268, 6.863929890136089, 6.220389378826855, 154.73135185815363, 105.55694146053125, 706.9364894568307, 353.87190834520425, 240.68703634690266, 71.65722256611433, 53.25688806376581, 46.26505311697087, 45.33164944855094, 37.431665231964146, 35.40944380438789, 28.363370763590357, 25.009203722634854, 22.815108062363667, 19.396021533158514, 19.287742859034495, 19.22144468478261, 9.577769791355044, 8.933305464091688, 8.813502539455417, 8.04725232641216, 5.8092953843360045, 5.572157969682348, 61.83470472003587, 3.8255141180910575, 2.8341349921422836, 2.831515488738048, 2.7468952130810065, 2.7468952130810065, 1.8505829648545697, 1.2483443186797045, 1.2483443186797045, 173.39372067186167, 1.2483443186797045, 1.2483443186797045, 212.5733399019097, 104.04785561578392, 87.4472675910798, 65.13792422623625, 56.84026098427903, 48.43054990683111, 41.78526082695849, 38.332680444096376, 31.37518335376215, 28.536774993530706, 23.399317506084852, 21.493753240368278, 19.706655725739164, 19.34294043219605, 19.129950634363553, 18.51581349714373, 17.297007533625916, 16.53596895734975, 15.484018887895632, 15.23928644431229, 14.229528227200694, 12.01293179457652, 11.911743582275761, 11.62766860358331, 7.66581355039804, 7.489349803769101, 5.9337718833631286, 5.425517098286651, 5.0523257985104815, 4.871251021400103, 160.10409218624363, 147.85135850774353, 130.52792809935178, 69.77142063008466, 67.61348724312778, 51.50623215648524, 43.67898059976186, 40.39411463001952, 38.50254864109266, 30.506642828418833, 28.801001196034086, 26.167380285336872, 15.790681209066788, 14.712589327713424, 11.954366208371011, 10.606762762959848, 9.489801253069423, 9.026231166667054, 8.353331036049564, 7.082656009943527, 6.111873424082597, 5.853815749390334, 5.615058493226296, 4.55638059728134, 3.9960093753175348, 3.9960093753175348, 3.9960093753175348, 3.9960093753175348, 3.9960093753175348, 3.9960093753175348, 3.9960093753175348, 3.9960093753175348, 284.3917940280369, 137.49645239473, 115.0430221936374, 47.10876778177425, 30.94301806091833, 21.73422840474883, 20.41739534654043, 19.220775264737934, 18.18584794901913, 12.467315918706028, 11.591652963662565, 11.430890280304617, 11.273768477886074, 11.262535807492608, 8.243000216904198, 8.232794350931261, 8.034593462999036, 7.225058785245449, 7.156240435819365, 6.776117698415132, 6.051405788021585, 5.964378715965665, 5.9045015099945495, 5.7285548159351976, 4.509024646267066, 4.2519154964846955, 3.9237318773867242, 3.48646151523273, 3.4028978570780177, 2.947654315528586, 109.06943573797088, 69.24687244817592, 59.52544837197244, 56.61977026958855, 47.11526616465258, 41.127095032260165, 40.1440681232473, 39.30089963601845, 24.5807495096477, 23.463919059239764, 18.028116034329532, 15.736249102574716, 15.435233052838502, 14.720861186683095, 13.090524093155965, 10.46947116878873, 9.779930522361727, 9.148333528723487, 8.634745377599055, 7.804172594112642, 7.47747143125984, 7.275492265485408, 7.07742393142886, 7.029137036593746, 6.470859210598606, 6.239978470567638, 6.068593916758496, 5.786344891161143, 5.171481879131169, 4.7654241342474455, 78.98882299881394, 74.86072081943372, 58.004474777308126, 54.409738905094535, 52.056981885130725, 43.02093055208893, 29.61112902617617, 26.46186284280537, 25.81050890934084, 24.199924326054006, 23.640188121725686, 22.627924425482476, 17.981975508489633, 16.934469899554497, 15.815708589248285, 14.825956929671612, 14.668592991939223, 14.56342336924005, 12.199240913280429, 11.615735334924507, 11.167043671611447, 10.669397141306005, 8.98425207264771, 7.979607612896426, 6.186730764288083, 5.6139767498800826, 5.365985378630907, 5.17847459347063, 4.967869066051107, 4.822420963871371, 79.20875156609347, 78.66770210247319, 57.170842805517616, 48.51362098253873, 41.072614726574706, 40.46370675338864, 38.36624896153612, 38.00615148206259, 27.9198575755079, 24.4146069865905, 20.177779952955998, 13.016553652982878, 69.12065117071882, 12.337473743063526, 11.572179457313856, 11.510162483953211, 10.09526118369201, 8.200590097188869, 6.642746580271646, 5.95553898617324, 5.90019480666685, 4.833114212130633, 4.433562683416863, 4.433562683416863, 4.234588624249372, 4.183888727451673, 3.9533515046675296, 3.833231364471021, 3.7585208519042026, 3.662628045514779, 211.28092052509425, 110.0410829116516, 79.4220135536443, 53.34517726010733, 36.0433784041431, 26.762196234841024, 16.066863757410342, 11.830753854676912, 10.72538145475732, 7.7084360053616345, 7.425203206204046, 6.790931238922996, 6.242901130655458, 6.015986133630174, 5.7709920812413795, 5.613447202829758, 5.549198074452291, 5.397255915419738, 4.630147136991418, 3.9643522059302607, 3.6858364626344082, 3.6603021999689638, 3.5931832674662907, 2.7981626237628645, 2.6951440237301614, 2.6663766030091525, 2.5964617340099356, 2.553051131194829, 2.292430054700813, 1.975927275593583, 71.68586241400845, 181.48182533708768, 115.83169259044875, 44.17137226556103, 41.87298412728808, 41.32545655670323, 31.92367801521235, 25.43753351465146, 21.88837883595451, 19.805234114763532, 18.48186247871169, 17.451605632813756, 16.40391706660985, 14.120531264702889, 12.730651503040304, 9.68342963165119, 8.993372741296321, 7.913100508265789, 7.612914144801556, 7.131651049004147, 7.0825048256272005, 6.512270708140609, 5.254276216173202, 4.522673654512838, 4.496055514496005, 4.444463165090346, 3.940824089590062, 3.6423732039199006, 2.4626518951540812, 1.6902226814672305, 1.6714332490077073, 105.66242791045254, 102.25621604629549, 94.65791624944595, 55.74421336099839, 41.130680314065906, 31.27757802736744, 29.172343263425564, 28.28280036326878, 22.941225606814164, 18.182285661574767, 17.840778648817373, 17.145269441956028, 15.711299628280893, 12.531315795850183, 11.727020407657816, 7.229292347230502, 6.701582262206053, 6.457510558224668, 6.2073910635177345, 5.980141676813841, 5.331657762895119, 5.231523408321703, 5.173669796533517, 5.13638090873609, 4.42156096706642, 4.01118549715065, 3.7690555552487, 2.5139784760677424, 2.2634176400426997, 1.9630269764940311, 93.8226563761794, 66.23421319871659, 40.18061221036185, 34.96148599541046, 33.30931047470213, 29.103602727238776, 28.716675282105772, 26.20658469832703, 22.626418140757636, 21.847902475373644, 17.052637676961485, 14.683156596926146, 14.438259446592886, 14.429441835245983, 13.458563989107974, 12.576255381540923, 12.53493371184927, 11.483470496660265, 10.729290990061726, 10.72471068686058, 8.970626058350309, 8.462430072962373, 8.087635418307743, 8.076128593805446, 7.892355800765326, 7.710831604155606, 7.303733411342449, 5.978380069552001, 5.8609662660349, 4.0965531989193416, 53.172228734299516, 46.08185712184592, 35.28161543400553, 29.306604185484574, 26.786902426545797, 26.661351457684088, 20.283733392807708, 19.556043032339225, 18.572457415739372, 17.378643980523357, 16.634806024895887, 16.593929351395662, 15.025511632756343, 14.094082889011629, 13.523575822747148, 11.97890374115567, 11.915147369824387, 11.697888584558674, 10.702769883699894, 10.209378025400834, 8.527639771439505, 8.014828140587065, 7.840563620593593, 7.836701378423161, 7.339033466292552, 7.28194150621964, 6.897003426036759, 6.787299272561833, 6.478036999905855, 6.188377777498845, 76.9972359556629, 44.63515243513539, 33.585835968471976, 32.78624322939196, 30.878285735537215, 30.38067630874272, 26.41020179595323, 18.085751822114553, 17.81261543312146, 17.215247529588066, 16.044968786482322, 14.670158821839637, 14.460100379840448, 14.253383094481821, 12.332216759609484, 11.587939287822834, 11.55913162755385, 11.337585584823085, 10.706275430792937, 10.447623297804952, 9.850739849318945, 9.544765007407667, 9.154937012901602, 7.924738463091283, 7.2991746425252115, 7.180863753932268, 7.123019821273894, 6.939040892688585, 6.5130769845692225, 6.022054879870091, 127.5202045670494, 81.18062791168563, 50.45716044862269, 38.401311612671385, 35.879062806507264, 16.419092878666785, 15.332874047731778, 13.218974764429742, 11.990359931866209, 11.910949071061479, 10.906814569167976, 10.253517434771702, 8.954113492005096, 8.139777403602443, 7.81037020824325, 7.627098672703945, 7.269335989486673, 6.801692409017295, 6.655755968081655, 5.734186625993488, 5.6893826678497925, 5.673028888021504, 5.38736683932861, 5.027878207320947, 4.917347389202636, 4.80716397438556, 4.422325046793787, 4.248110284574059, 3.9029804766232483, 3.6419241121909294, 3.6419241121909294, 115.75823131769927, 71.45133684457826, 43.789801469951975, 38.25846977513473, 35.389994403500985, 18.34498681695293, 16.84490132298708, 15.305805986289107, 13.749416311000635, 9.893157333439722, 9.666356795023097, 9.405629199397595, 9.23398653476681, 9.077100032917764, 7.6493386093725535, 6.812127162983528, 6.090455259456588, 5.372500008803822, 5.3724994726450115, 5.3724994726450115, 5.350907821188602, 5.127311367823341, 5.047566323306998, 4.733912883023638, 4.719640335488945, 4.581854491262868, 3.8424258121713994, 3.69208875827164, 3.6328346311738136, 3.175067868462622, 84.12768158204824, 71.24323429778588, 61.41569653322303, 48.26082988523699, 32.611103528071474, 22.229352085424846, 20.50949015623052, 20.176553014600106, 20.05878193893862, 14.92556173957593, 14.635115276724182, 13.745989366252493, 8.412980975572081, 7.901077595349545, 6.65718256443529, 5.836188721018136, 5.498516178864259, 5.301574473359106, 4.151774585998905, 3.816443248986843, 2.5111477848694577, 2.182948987664726, 2.182948987664726, 2.182948987664726, 2.182948987664726, 2.182948987664726, 1.6782482656476856, 1.6782482656476856, 1.6782482656476856, 1.6782482656476856, 1.6782482656476856, 1.6782482656476856, 103.30599785985115, 39.098556501110046, 37.65028867286697, 35.17629036880373, 33.565534981141994, 33.356985161852826, 33.334987813779776, 32.96179574892955, 26.911366938162494, 16.742669928927018, 16.28009026322276, 14.189963957492662, 10.949506181194181, 9.629773668599366, 8.01322304643877, 6.569636985693953, 6.370715256060791, 5.654904189028234, 4.385095212493771, 3.6136647157078747, 3.527250964219011, 2.681467327258549, 2.363733728182092, 1.537545330797547, 1.537545330797547, 1.537545330797547, 1.537545330797547, 1.537545330797547, 1.537545330797547, 1.5133515946930043, 43.844180777966535, 37.54821205351192, 33.54393602065946, 31.13276325904099, 17.78566970326838, 13.35074743403769, 13.182275966680653, 12.283539216237282, 12.12936325176302, 12.053259480891859, 12.029727928640636, 11.149398451721343, 9.469062052444944, 9.324918561382262, 7.982200616696318, 7.883253675595711, 7.678442017112852, 7.56920999006502, 7.278545054498206, 6.596129010241133, 6.310770995866137, 6.225527898959932, 5.552400381624533, 5.38900483132794, 4.98952151530934, 4.930695207110365, 4.7082850468061475, 4.642999369187562, 4.608336916307646, 4.464734664323375, 4.464734664323375, 57.5795429627146, 42.17752830835199, 32.37934466092523, 18.734603600685166, 16.959191232046503, 14.079417088600595, 13.491129140021464, 12.09775691724703, 11.902681027934362, 9.65477644080283, 9.626236490231145, 9.578671795007123, 9.48974230645055, 8.746659884763101, 8.60737744528726, 8.335607522796147, 8.216462485563763, 7.730278344795041, 7.603749435984878, 7.29648734203967, 7.116043655675151, 7.078486739319357, 6.48821763683752, 6.449221255143121, 6.42331371264144, 6.240725468500478, 5.717721617869911, 5.318850400745019, 4.852722904813947, 4.850222258827102, 104.12721614210781, 98.32513237675492, 47.76522662590708, 32.43624092225222, 27.918373062898226, 17.602209035604655, 14.632840987361883, 13.555609435863694, 11.653382951433997, 10.796884471575613, 8.53958006790607, 6.24504683137745, 5.767945428953219, 5.464866198215351, 3.1962732414563617, 2.461455063803714, 2.096596019759539, 1.681319954648986, 1.2399868815447739, 1.2399868815447739, 1.2399868815447739, 1.2399868815447739, 1.1331876769794382, 0.9911520736109866, 0.7654662817897235, 0.4990831362964599, 0.3427930032121406, 0.3427930032121406, 0.27902516234033164, 0.2115811849181333, 63.83709900255786, 57.56315981061179, 37.67040317567747, 17.42214326381312, 14.486691742063485, 12.376470701685657, 12.005797726743356, 11.502040708519452, 9.039776896215521, 8.264756452259011, 7.863707731449708, 7.6798247833046585, 7.443806619212057, 5.732725478540391, 5.472603279527387, 5.34394573831358, 5.306734404568529, 5.215663963596392, 4.837723746396614, 4.566260396530377, 4.314349172560195, 3.939737692185369, 3.939737692185369, 3.939737692185369, 3.939737692185369, 3.939737692185369, 3.939737692185369, 3.939737692185369, 3.939737692185369, 3.939737692185369, 3.939737692185369, 3.939737692185369, 62.8159222265324, 58.88962681037513, 48.54350321816728, 29.051962454507507, 27.55267578068083, 26.349648544324182, 25.44218793766275, 21.35581051198175, 20.27368275457385, 16.523706012657566, 15.421740075441916, 12.870620156501522, 12.186036534556315, 8.466060359076758, 7.164478051182255, 3.4436636777845404, 3.3064436464930402, 3.023063333711505, 2.4422172748833653, 1.1132604676202416, 1.1132604676202416, 0.753270459210242, 0.753270459210242, 0.7532703461541431, 0.7532703461541431, 0.7532703461541431, 0.6681972709528222, 0.6039333013376623, 0.44394998978839, 0.34903840541777176, 42.10347216655279, 26.242725142163692, 24.166515674241932, 23.164030144572433, 22.300205598208642, 21.50258755241248, 18.184031734733512, 17.717908014658516, 16.336005565428486, 13.102631106270024, 11.18267379405769, 9.841080993496714, 9.541494349553282, 9.449181482844782, 9.305943282007236, 9.096883730187914, 8.690184490079712, 8.671905932651253, 8.2166359418775, 8.131019506972978, 8.12212897069961, 7.350381030302999, 7.179163316843398, 6.419907328812843, 4.832699198900575, 4.603660903865255, 4.584838055181791, 4.44094946864314, 4.248488794113988, 4.140927748315693, 33.3364668538259, 30.031689603102585, 28.259095583020674, 24.34164295488862, 21.56728446515683, 19.332559275414127, 15.672319292289316, 13.755072341377634, 12.796349124504209, 12.382484961018081, 11.624789046856243, 11.624789046856243, 11.045822784175096, 9.331738212084193, 8.2992350926322, 8.014953759327542, 7.88079066387389, 5.956490818748396, 5.82910665527423, 5.824824743150719, 5.818697397025855, 5.818697397025855, 5.818697397025855, 5.818697397025855, 5.818697397025855, 5.818697397025855, 5.818697397025855, 5.818697397025855, 5.818697397025855, 5.818697397025855, 52.458201194136024, 36.69879651394287, 31.157962209208414, 26.382699461664473, 20.40409001501266, 20.130065540507385, 18.123521938536427, 14.652468183925427, 14.106085317800902, 13.30529219894634, 13.29318958649566, 11.5453392178069, 10.439809099117744, 10.033326289727743, 9.716157084660255, 7.862598027754505, 7.125637626204588, 7.1216048600682464, 6.837555415571924, 4.6911531716663, 4.626888187388117, 4.076746065367989, 3.805486891561683, 3.747912554481674, 3.655907419572441, 3.5678532997102437, 2.7517716486449597, 2.739856049899898, 2.739856049899898, 2.739856049899898, 46.23283242632401, 32.61728679523429, 31.673597911426597, 28.001922637050015, 21.15590536077112, 15.600399671087596, 15.043813882573975, 9.546653166461788, 9.541912723627412, 8.05519683930025, 7.939901850494831, 7.284555254679638, 7.214917329893857, 6.542373149382891, 6.3202167603341755, 6.280783091147511, 6.1717425537614234, 5.2629384119218905, 4.786174951812107, 4.786174951812107, 4.786174951812107, 4.471634707860674, 4.369144090805796, 3.9772073829182704, 3.6230458362375932, 3.613751505757729, 3.6137508587455134, 3.6137508587455134, 3.6137508587455134, 3.6137508587455134, 74.85461053686001, 32.700023730362496, 26.673366615139937, 24.57372693524163, 23.1502018166185, 21.741537642856308, 20.281868283548043, 16.97318729360594, 12.710158447005284, 12.491180474073003, 9.230389780082405, 7.016423365109861, 6.891255415220833, 6.891255415220833, 5.46737765982326, 5.11052693764637, 5.110343418391524, 4.55338593419198, 4.497116708674543, 4.196761524997521, 3.6223372048138773, 3.4524946607146276, 3.4524946607146276, 3.4524946607146276, 3.188180230968048, 3.116838766559716, 2.7528256499670034, 2.7253782057185783, 2.6767065127604575, 2.051680461356698, 38.03746324949635, 32.77515335532121, 22.053098251945546, 18.769760011578615, 17.822522884327974, 16.120119626412595, 14.028236168566817, 13.907091025153802, 11.802277389335435, 10.592200898401275, 10.579930040370742, 10.130478653383957, 9.836740195336683, 9.638716551501629, 9.42127968892709, 8.088144557965897, 7.528813585882994, 7.185576356789694, 6.551040479830745, 6.533673356084714, 6.468740949662344, 5.841275218294933, 5.6938123565264345, 5.034916321287496, 4.810284874642256, 4.773312774500322, 4.614550490828792, 4.231847088075118, 3.471139161139974, 3.3386519603449996, 29.434565822534626, 27.93369937307545, 20.946733806726737, 20.690075350037706, 18.048963765703185, 17.201048924642592, 15.892893327157577, 15.864294868925477, 12.95563079179568, 12.207704066635264, 11.084017802103277, 9.175551120805315, 9.162252232682432, 8.644140943076634, 8.367602322601606, 8.140833893443112, 6.936811373167058, 6.097996004874562, 5.975979815596205, 5.922958919415178, 5.8899307253818804, 5.691367071871079, 5.5988072945717855, 5.279930451650835, 5.204920608332083, 5.045746188153878, 5.027072484009237, 3.939726026233897, 3.226794092893951, 3.201287011021383, 64.07362479100357, 32.004344555676674, 24.207226216988627, 14.83582123941012, 11.592338802861896, 11.592116431237862, 11.047666811645511, 9.767705240004569, 9.241232110844779, 7.649466745762031, 6.955236779974445, 6.6250469682871325, 6.566430283006701, 5.4668884645130404, 5.087399022049072, 4.872048722692367, 4.821634859721264, 4.253309175115671, 4.215164132333916, 3.8788333818476657, 3.7662136289669332, 3.6568511059955346, 3.6184876483802095, 3.6180800989624964, 3.550328371539598, 3.550328371539598, 3.5344810300553027, 3.509803714973255, 3.41361334745396, 3.397080294182386, 75.84225250231742, 64.73024522883183, 48.71210703265981, 23.682025681340264, 23.607980239584645, 17.78682227213082, 15.464928670685465, 11.4424620444043, 10.057595596069806, 9.156867554104764, 8.275204849209508, 7.2799575596401755, 4.5643601608878726, 4.564359765472719, 4.564359765472719, 3.9993589600910733, 3.333483794748541, 2.8232189251950706, 1.9153872499867304, 1.609866765562448, 1.0931289499364607, 0.33651589210823846, 0.33651589210823846, 0.33651589210823846, 0.33651589210823846, 0.33651589210823846, 0.33651589210823846, 0.33651589210823846, 0.33651589210823846, 0.33651589210823846, 9.484204081118289, 0.33651589210823846, 89.64812301836011, 51.310321657499166, 36.499870071277854, 33.58754145232502, 29.267570869761105, 19.836164349410723, 8.862422376892194, 6.362993352013539, 6.281264884208565, 5.161724836094708, 4.78583091247797, 3.5038482843355, 3.4034122793594146, 3.400705772992629, 3.3815230001036873, 3.3815230001036873, 2.96317494538584, 2.96317494538584, 2.96317494538584, 2.96317494538584, 2.96317494538584, 2.96317494538584, 2.96317494538584, 2.9630623690559608, 2.5207164687376236, 2.27584931743866, 2.27584931743866, 2.23212432032983, 2.2026513307687243, 2.136183772568179, 57.988943438199044, 47.721068317266784, 21.244690712292318, 17.39560176710703, 14.222411224981617, 13.528803184232624, 11.51710846762124, 10.99058429023776, 9.309237891388111, 8.519732970409855, 8.028882367843073, 6.966778986110113, 6.888510957836762, 6.361162063489892, 6.245964417869569, 5.837623797054352, 5.40142966039726, 5.268420516815506, 4.424398924370246, 4.008191880594189, 3.5982766404659947, 3.5187518671777345, 3.514515884818932, 3.389914428610532, 3.389914428610532, 2.6456319561145136, 2.135452664392366, 2.089344207162194, 1.9397938334631717, 1.4295847739545475, 160.65699694728534, 26.44179716658851, 17.442917245644942, 12.26450133933396, 11.635668323058065, 11.614939414260114, 10.628845959290212, 10.119142072949764, 9.905353639980353, 8.059715600530286, 7.312929132011387, 6.7137440301262785, 2.9691729773330766, 1.7589397440770387, 1.0040608320988416, 0.7655505673704585, 0.5434019896831418, 0.4434880145214582, 0.4434880145214582, 0.4434880145214582, 0.4434880145214582, 0.19969207296095215, 0.12286000061738331, 0.09260539229414627, 0.08851257187368151, 0.028364749770228567, 0.028364749770228567, 0.028364749770228567, 0.028364749770228567, 0.021841667477295726, 0.021841667477295726, 0.021841667477295726, 0.02197770654713982, 0.02197770654713982, 40.915646686682656, 24.854843660631637, 21.860335608522558, 20.194500722387975, 18.125903666379934, 16.351004173268944, 12.879481836284885, 10.92558671431453, 10.692689138860313, 10.630157870454743, 10.457654037399312, 8.863781398367946, 8.837256305291701, 7.882616336750445, 7.283403542624886, 7.265068349636712, 3.433746287412818, 3.021419755052246, 2.629436958885144, 2.4363522440917786, 2.15433862719917, 1.656442839253657, 1.6409664264942243, 1.278195780466613, 22.3976908239406, 0.8269686614722359, 0.6524958517861127, 0.6484031868704501, 0.6484031868704501, 0.6484031868704501, 0.6484031868704501, 47.337785688149566, 39.2068258409697, 17.372830626719168, 10.738692485393809, 9.705331830739794, 9.190404249887992, 8.056539804227379, 7.7810824492988635, 7.222574046269573, 6.619477305655828, 6.5298943209949245, 6.167711361166252, 5.798808769072482, 5.663810953860489, 4.827543436113911, 4.386356073064584, 4.300844111313674, 4.24255620685781, 4.1881140382602835, 4.07729461081801, 3.813179897374436, 3.7804214423323903, 3.751897194662974, 3.751897194662974, 3.751897194662974, 3.5529535327359194, 3.1445517120281044, 3.133621656360639, 2.600784085235062, 2.600784085235062, 2.600784085235062, 34.64962500786017, 26.543339560701792, 21.68815949694479, 21.21155337941822, 15.611959876500679, 12.869009154339185, 12.158880852096637, 9.086102070660068, 8.568105470756386, 8.102935569700913, 7.31495543609692, 6.80152875090759, 6.517578794990372, 6.199335211531854, 6.059190289458568, 5.262426279479941, 5.056846409508395, 5.041052217343208, 4.871804377631769, 4.590948274223038, 4.525031973295697, 4.3539077058331745, 4.2760624057204275, 4.250326346786359, 3.5148231636627703, 3.35896569003303, 2.7782609385627173, 2.7719556710691697, 2.694157395947052, 2.6553712489884775, 55.237575857225494, 21.900641245635406, 15.610568561284177, 12.337814238675904, 8.919722574329764, 8.383479854724534, 7.590246505777387, 7.231469224989969, 7.196864482396538, 7.085484373173786, 6.673441818053346, 6.667302391649087, 6.647792687488378, 6.269096579256938, 5.931195538825363, 5.521598059075283, 3.9477913107171942, 3.900711529425844, 3.792327684500816, 3.703661326821329, 3.4767183865564886, 3.4767183865564886, 3.4767183865564886, 3.4767183865564886, 3.4767183865564886, 3.4767183865564886, 3.4767183865564886, 3.4767183865564886, 3.4767183865564886, 3.4767183865564886, 14.30767777468363, 39.982134058214264, 28.100189579287175, 27.89547040670549, 23.340083996691575, 14.875889306792985, 13.57643425034083, 12.938403848298556, 10.99545815675112, 9.687488557359128, 8.92490344918606, 7.990895996334622, 7.146330811257669, 7.033936547018541, 6.6549085601349764, 6.359212944900426, 5.0410539099029075, 5.001609852583611, 4.364218902799299, 4.278432106615235, 3.7548534479335136, 3.3596786533605227, 2.931866266595266, 2.8617961475398848, 2.8617961475398848, 1.8706387659410042, 1.4381601964939636, 1.4381601964939636, 1.4381601964939636, 1.4381601964939636, 1.4381601964939636, 1.4381601964939636, 1.4381601964939636, 1.4381601964939636, 26.213562377556634, 20.574427361520577, 19.400327413940218, 12.805409574346669, 12.195762150123365, 9.715702901485606, 9.175514598956665, 8.46960151601312, 7.917773716458067, 7.836444957892256, 7.682152992438809, 7.248366645729814, 6.820324919237259, 6.485636282733643, 5.151975245031606, 5.151975245031606, 5.151975245031606, 5.151975245031606, 5.151975245031606, 5.151975245031606, 5.151975245031606, 5.151975245031606, 4.600336058710676, 4.411865790248937, 4.313009631782049, 4.292291656752482, 3.9140587229289707, 3.6976023714847623, 3.6308006359108274, 3.612828489173656, 3.612828489173656, 3.612828489173656, 60.06062009581617, 34.104132077893254, 26.319196631512437, 18.40232219322164, 14.87276668341849, 14.667949080678078, 14.178023472972102, 8.597279670434295, 7.7088308536619845, 6.416912364414291, 5.779441397693387, 5.56762805531886, 5.312868433869077, 5.047064471838213, 4.757580651965034, 4.69273538098017, 3.5518427323829784, 3.4069350024247833, 3.118679420461878, 2.0770394602211844, 2.0612832386067157, 2.0297594140226254, 1.9780366874549238, 1.9692630853012674, 1.8393493423110365, 1.7837952089905411, 1.657329068165441, 1.6112258857045891, 1.6112258857045891, 1.5957870774393907, 29.741382075537796, 24.141591365296257, 24.115419254997665, 17.480175241931427, 16.06495301158662, 13.843869414239625, 9.35511910820636, 8.64922659083468, 8.610734742779416, 7.522780586079401, 6.581680424240075, 6.238913144503578, 5.952250532113414, 5.716974243579653, 5.530379702697381, 5.0555356234237685, 4.700679499607532, 4.323124343219618, 4.067326911120906, 3.883282185276308, 3.831244678847264, 3.831244678847264, 3.703068110339385, 3.703068110339385, 3.177955981450073, 3.104954265211157, 2.4813439858078414, 2.1412510164834724, 1.9823194102084074, 1.9823194102084074, 24.69599658266254, 15.480778712267119, 13.41522391440074, 13.358778526846374, 12.889563603783065, 10.327609604562555, 9.503077933036815, 7.828935057062031, 7.549712948809877, 6.6580918208346205, 6.587235782047475, 6.339123336314159, 5.95960977012382, 5.829899021351587, 5.778385797197498, 5.728776334768406, 5.4663667563411416, 5.207468808779047, 5.1731679106152955, 5.167724913790276, 5.167724913790276, 4.267640761633158, 4.1168577463903695, 4.0679055128787205, 3.931376518097917, 3.374993934729168, 3.2211580151756682, 3.1751138412817395, 3.1751135311217973, 3.1751135311217973, 3.1751135311217973, 61.279882582073476, 22.69424605934872, 17.125378292956384, 14.916001503287244, 12.240106153566598, 9.940877810448324, 8.810047339380594, 5.856079480359834, 5.80885585986026, 5.710309429698197, 5.546453824447201, 5.29256494850976, 5.263354195704621, 5.205222265304766, 4.998381740660592, 4.590160415076431, 4.230092105732986, 2.9884659972469607, 2.978636560170123, 2.951668256691844, 2.588784795631697, 2.1513768973586522, 1.720572075923252, 1.720572075923252, 1.720572075923252, 1.6704636942813937, 1.5443251136416762, 1.5090156958785854, 1.5090156958785854, 1.4102989790796248, 6.7536577056174485, 57.204352801367996, 28.639061825854537, 12.60897167529969, 11.6247945222943, 8.618137369871214, 8.023187999105714, 6.899514220206765, 6.160874842776602, 6.041567560989892, 5.526478704330638, 5.175170302889398, 4.2225280116561255, 3.8856350760937888, 3.778678226842688, 3.652365320092922, 3.514313929748376, 3.2017744166777704, 3.148461079603166, 2.8372932844875702, 2.3986475511414422, 2.178255801442402, 1.9235499109637917, 1.8627609334185646, 1.8533058121072767, 1.8533058121072767, 1.8533058121072767, 1.8533058121072767, 1.8533058121072767, 1.8533058121072767, 1.8533058121072767, 1.8533058121072767, 1.8533058121072767, 1.8533058121072767, 20.92097831642884, 12.488350281424333, 11.844047289521662, 11.736051449877845, 8.81764401043576, 8.019237112165287, 7.142235455646446, 7.01472402008618, 7.00741802847436, 6.978920542235978, 6.036444535096957, 5.921687950149773, 5.352324661213418, 5.272735690857759, 4.957336187436192, 4.471530994249117, 3.635947462411126, 3.2273013151673076, 3.089579511766731, 3.0055369242551717, 2.94251746919561, 2.866915387215296, 2.866915387215296, 2.866915387215296, 2.7508152515203284, 2.3604732133527477, 2.3604732133527477, 1.9794446411658735, 1.9333718429708115, 1.4407425755890184, 1.4407425755890184, 26.27790739990159, 14.632888685642358, 12.746473807810037, 10.787247055708857, 9.677322209627604, 9.22108569076592, 8.513812307770575, 6.200879636793999, 5.421553581620532, 4.982543695393761, 4.924217969227706, 4.7790826441077146, 4.505849592334697, 4.450752263215324, 4.186715723713045, 4.139318726970249, 4.139318726970249, 4.06085498653128, 3.0006795907774815, 2.9343756009176474, 2.8194062972287077, 2.6534853880847873, 2.435706020382886, 2.119086050743383, 2.077733038343401, 2.077733038343401, 2.077733038343401, 2.077733038343401, 2.077733038343401, 2.077733038343401, 2.077733038343401, 2.077733038343401, 2.077733038343401, 2.077733038343401, 2.077733038343401, 2.077733038343401, 2.077733038343401, 2.077733038343401, 20.085819124300702, 13.640430544005131, 11.262320076098785, 9.526899705169637, 8.35089212014286, 8.346212072908902, 6.940344869820971, 5.091581918862297, 5.085969184730295, 5.017978445786991, 4.9276967273053165, 4.9276967273053165, 4.332635366605141, 3.8074790075759117, 3.773868579109, 2.9302812841665147, 2.7126187425527255, 2.701807643582356, 2.5227597634971026, 2.513907781662449, 2.50170761999125, 2.50170761999125, 2.50170761999125, 2.50170761999125, 2.50170761999125, 2.50170761999125, 2.42854035010134, 2.3118707121522983, 2.1659325049729197, 1.7210256658110727, 22.55658097796221, 22.096027141752902, 20.501161458982857, 13.161202339841026, 10.812370906721595, 8.865474785023286, 7.4696234259169865, 7.370505166973029, 6.162776066161312, 5.6267992020953335, 5.129984116307014, 4.782094240106643, 4.2490257941773715, 3.8905264801242354, 3.632283592476406, 3.3243852778038026, 2.9590100864388007, 2.5663005446600407, 2.483962192301203, 2.483962192301203, 1.965783900499309, 1.943680131498396, 1.9081821850517207, 1.9081821850517207, 1.9081821850517207, 1.9081821850517207, 1.416316793477069, 1.295454083027387, 1.0266485140494148, 0.9894058415799291, 0.9894058415799291, 0.9894058415799291, 17.219334889893307, 15.67116021208471, 14.303339091125196, 13.161141778397736, 9.117339222447072, 8.754776613860853, 8.112737143741235, 6.721743732230594, 6.611798831746789, 6.229286921767293, 5.975267122336325, 4.596148696019419, 4.044516347899749, 4.04218104643368, 3.9803784084340985, 3.7448152294008463, 3.468823793924942, 3.224644353975703, 2.81245499594993, 2.3291236149581303, 2.189500355979133, 2.139106553328988, 2.0814808273375762, 2.0814808273375762, 2.0814805997253476, 1.6522119028974904, 1.4020472855894794, 1.3226989313312865, 1.2999286039759756, 1.260911088126568], \"Term\": [\"system\", \"brake\", \"drive\", \"camera\", \"problem\", \"issue\", \"time\", \"park\", \"warning\", \"driver\", \"go\", \"lane\", \"start\", \"collision\", \"work\", \"dealer\", \"front\", \"take\", \"stop\", \"also\", \"light\", \"safety\", \"make\", \"failure\", \"fail\", \"see\", \"say\", \"truck\", \"feature\", \"screen\", \"brake\", \"front\", \"stop\", \"mph\", \"road\", \"come\", \"speed\", \"could\", \"emergency\", \"occur\", \"set\", \"hit\", \"automatic\", \"avoid\", \"foot\", \"situation\", \"appear\", \"feel\", \"multiple\", \"know\", \"activate\", \"normal\", \"travel\", \"sudden\", \"allow\", \"continue\", \"hard\", \"rear_end\", \"less\", \"braking\", \"go\", \"accident\", \"vehicle\", \"issue\", \"time\", \"safety\", \"happen\", \"would\", \"get\", \"mile\", \"dealership\", \"need\", \"use\", \"second\", \"report\", \"reverse\", \"suddenly\", \"first\", \"auto\", \"break\", \"serious\", \"seat\", \"quickly\", \"week\", \"concern\", \"seem\", \"approximately\", \"lock\", \"look\", \"never\", \"nothing\", \"later\", \"check\", \"lane\", \"dealer\", \"take\", \"back\", \"adaptive_cruise_control\", \"sensor\", \"leave\", \"find\", \"apply\", \"slow\", \"design\", \"contact\", \"state\", \"however\", \"approach\", \"believe\", \"attempt\", \"trailer\", \"crash\", \"engineer\", \"buy\", \"part\", \"position\", \"experience\", \"notify\", \"large\", \"radar\", \"straight\", \"adaptive_cruise\", \"injury\", \"turn\", \"vehicle\", \"light\", \"truck\", \"engage\", \"may\", \"forward\", \"highway\", \"car\", \"incident\", \"follow\", \"side\", \"driving\", \"cruise_control\", \"drive\", \"sound\", \"home\", \"pre\", \"attach\", \"hour\", \"pm\", \"hear\", \"wait\", \"warn\", \"engaged\", \"windshield\", \"accelerated\", \"fine\", \"strike\", \"december\", \"suggestion\", \"ntsb\", \"collision\", \"turn\", \"system\", \"problem\", \"work\", \"fix\", \"pull\", \"rain\", \"include\", \"wheel\", \"lane_departure\", \"avoidance\", \"dynamic\", \"become\", \"middle\", \"intermittently\", \"numerous\", \"hold\", \"correctly\", \"unrelated\", \"exl\", \"worse\", \"bolt\", \"still\", \"fcws\", \"steady\", \"durango\", \"wobbling\", \"baby\", \"whole\", \"acid\", \"variability\", \"collision\", \"drivetrain\", \"precision\", \"warning\", \"alert\", \"several\", \"not\", \"new\", \"can\", \"information\", \"signal\", \"dangerous\", \"package\", \"response\", \"lease\", \"similar\", \"accord\", \"advertise\", \"support\", \"recently\", \"visual\", \"audible\", \"face\", \"brakea\", \"risk\", \"fcw\", \"tech\", \"calibration\", \"additional\", \"rely\", \"austin\", \"overhead\", \"realize\", \"also\", \"make\", \"say\", \"many\", \"year\", \"do\", \"recall\", \"gas\", \"think\", \"difficult\", \"enough\", \"point\", \"product\", \"pass\", \"manufacture\", \"soon\", \"shock\", \"buick\", \"huge\", \"step\", \"adjacent\", \"usa\", \"post\", \"power_steer\", \"disarm\", \"glich\", \"keepnupdat\", \"malfunctiona\", \"recurrent\", \"denver\", \"wheelerbis\", \"warninga\", \"camera\", \"fail\", \"control\", \"much\", \"properly\", \"long\", \"disengage\", \"constantly\", \"possible\", \"check_engine_light\", \"infotainment\", \"forum\", \"traction\", \"limit\", \"sun\", \"restarting\", \"inside\", \"retract\", \"seat_belt\", \"specific\", \"mention\", \"testing\", \"standard\", \"top\", \"narrowly\", \"technician\", \"hesitate\", \"useless\", \"original\", \"fiat\", \"cause\", \"transmission\", \"well\", \"result\", \"line\", \"power\", \"loss\", \"freeway\", \"interstate\", \"push\", \"clearly\", \"apparently\", \"entire\", \"easily\", \"factory\", \"mil\", \"fourth\", \"software_updat\", \"sticker\", \"closely\", \"shoulder\", \"particular\", \"comfortable\", \"fire\", \"increasingly\", \"oil\", \"ride\", \"exhaust\", \"hatch\", \"rattle\", \"display\", \"purchase\", \"call\", \"blind_spot\", \"error\", \"battery\", \"odometer\", \"total\", \"small\", \"detection\", \"hazard\", \"mirror\", \"currently\", \"big\", \"text\", \"instrument_cluster\", \"cross_traffic\", \"icon\", \"phone\", \"matter\", \"portion\", \"blank\", \"replicate\", \"seriously\", \"ring\", \"charge\", \"easy\", \"crossing\", \"voltage\", \"bind\", \"keep\", \"move\", \"away\", \"steer\", \"flash\", \"center\", \"assistance\", \"last\", \"beep\", \"autonomous\", \"steering_pilot\", \"customer\", \"even\", \"navigation\", \"solution\", \"setting\", \"letter\", \"cue\", \"scratch\", \"chevrolet\", \"hope\", \"inconvenience\", \"rim\", \"didna\", \"truth\", \"unknown\", \"envision\", \"blindspot\", \"resolution\", \"trade\", \"park\", \"service\", \"tell\", \"roll\", \"unable\", \"something\", \"neutral\", \"wall\", \"insurance\", \"lurch\", \"hospital\", \"personally\", \"everything\", \"departure\", \"blurry\", \"specialist\", \"grab\", \"partial\", \"wonder\", \"ldw\", \"download\", \"jobsite\", \"horrible\", \"lift\", \"fence\", \"genesis\", \"ok\", \"plan\", \"collison\", \"wreck\", \"go\", \"start\", \"screen\", \"update\", \"read\", \"begin\", \"module\", \"present\", \"illuminate\", \"notice\", \"abruptly\", \"component\", \"march\", \"april\", \"snow\", \"sight\", \"february\", \"warrant\", \"dry\", \"leak\", \"wet\", \"tight\", \"hot\", \"add\", \"bridge\", \"feb\", \"mail\", \"analysis\", \"grocery\", \"approximate\", \"ground\", \"computer\", \"assist\", \"right\", \"show\", \"steering_wheel\", \"software\", \"hand\", \"pay\", \"remain\", \"instead\", \"oncoming_traffic\", \"perform\", \"write\", \"degree\", \"adjustment\", \"unintended\", \"immediate\", \"indication\", \"series\", \"transfer\", \"slope\", \"maximum\", \"bluetooth\", \"turning\", \"reply\", \"gps\", \"lemon_law\", \"phoenix\", \"internal\", \"operable\", \"day\", \"damage\", \"because\", \"alarm\", \"clear\", \"occasion\", \"eyesight\", \"anything\", \"duplicate\", \"indicator\", \"other\", \"property\", \"refuse\", \"luckily\", \"skid\", \"sunny\", \"instance\", \"hurt\", \"ago\", \"obstruction\", \"strongly\", \"process\", \"highly\", \"relevant\", \"blame\", \"private\", \"ab\", \"prior\", \"pcs\", \"ice\", \"shift\", \"force\", \"store\", \"sense\", \"operate\", \"aware\", \"mount\", \"create\", \"occurrence\", \"stay\", \"ongoing\", \"fsc\", \"tesla\", \"motor\", \"air\", \"description\", \"intermittent\", \"speedometer\", \"safely\", \"intend\", \"smart\", \"heat\", \"connection\", \"witness\", \"fca\", \"selector\", \"supply\", \"unusual\", \"period\", \"incorrectly\", \"pedal\", \"press\", \"shut\", \"hill\", \"longer\", \"idle\", \"noise\", \"electronic\", \"rpm\", \"ignore\", \"fall\", \"play\", \"drop\", \"flat\", \"act\", \"reboot\", \"vibrate\", \"level\", \"town\", \"floor\", \"consider\", \"pressing\", \"loud\", \"performance\", \"jump\", \"item\", \"worried\", \"apparent_reason\", \"discover\", \"yesterday\", \"failure\", \"repair\", \"entertainment\", \"manufacturer\", \"unavailable\", \"mileage\", \"contact_own\", \"mazda\", \"throttle_body\", \"vin\", \"collusion\", \"failure_mileage\", \"mdx\", \"uphill\", \"various\", \"conditioner\", \"danbury\", \"mercedes_benz\", \"operating\", \"decelerate\", \"consumer_write\", \"amount\", \"contact_stat\", \"houston\", \"moisture\", \"exceed\", \"tlx\", \"opinion\", \"abnormal\", \"hollow\", \"sugar\", \"see\", \"function\", \"give\", \"manual\", \"high\", \"equip\", \"capability\", \"actually\", \"music\", \"photo\", \"employee\", \"feel_safe\", \"blinker\", \"fast\", \"admit\", \"answer\", \"ownership\", \"described\", \"enclave\", \"instrumention\", \"vibration\", \"meet\", \"surely\", \"balance\", \"prime\", \"question\", \"mostly\", \"sonar\", \"noticeable\", \"damaged\", \"mitigation\", \"message\", \"month\", \"acc\", \"next\", \"require\", \"diagnose\", \"brand_new\", \"old\", \"bad\", \"really\", \"star\", \"programming\", \"undivided\", \"proximity\", \"often\", \"seek\", \"nothing_wrong\", \"odd\", \"ecu\", \"wind\", \"startling\", \"hannah\", \"disgust\", \"dick\", \"vancouver\", \"cloud\", \"enhance\", \"annoying\", \"intermittantly\", \"autozone\", \"situational\", \"traffic\", \"object\", \"red\", \"dash\", \"lot\", \"behind\", \"suv\", \"receive\", \"condition\", \"shop\", \"always\", \"main\", \"sign\", \"slight\", \"pas\", \"neighborhood\", \"effort\", \"existent\", \"collided\", \"suggest\", \"florida\", \"porsche\", \"glare\", \"incredibly\", \"unsettling\", \"silver\", \"mountain\", \"appx\", \"considerably\", \"previously\", \"open\", \"event\", \"disable\", \"close\", \"attention\", \"cluster\", \"discuss\", \"informed\", \"audio\", \"destination\", \"disabled\", \"office\", \"station\", \"important\", \"depressed\", \"nhtsa\", \"thankfully\", \"investigation\", \"rapid\", \"white\", \"saturday\", \"critical\", \"unexpected\", \"limited\", \"probably\", \"breaking\", \"fear\", \"inappropriately\", \"precede\", \"fusion\", \"inappropriate\", \"door\", \"prevent\", \"metal\", \"minute\", \"backing\", \"cool\", \"overheat\", \"verify\", \"pickup\", \"flashing\", \"rather\", \"one\", \"react\", \"bcm\", \"agree\", \"public\", \"ridiculous\", \"market\", \"north\", \"pick\", \"consistently\", \"helpful\", \"physical\", \"jammed\", \"spot\", \"interval\", \"ram\", \"asterisk\", \"wipe\", \"california\", \"feature\", \"rear\", \"ahead\", \"full\", \"intersection\", \"file\", \"police_report\", \"impossible\", \"involve\", \"manually\", \"view\", \"sell\", \"mid\", \"yard\", \"ending\", \"enhanced\", \"quick\", \"infiniti\", \"cockpit\", \"recognition\", \"richmond\", \"virtual\", \"booster\", \"clubman\", \"reflector\", \"gridline\", \"regulation\", \"mini\", \"overtake\", \"tr\", \"try\", \"put\", \"immediately\", \"roadway\", \"leg\", \"expressway\", \"past\", \"crv\", \"grill\", \"slightly\", \"spine\", \"panic\", \"sensitive\", \"anymore\", \"cement\", \"obtain\", \"allegedly\", \"debris\", \"decide\", \"stiff\", \"manage\", \"comfort\", \"lumbar\", \"miserable\", \"butt\", \"uncomfortable\", \"therapist\", \"pillow\", \"buttock\", \"tsp\", \"kne\", \"iihs\", \"code\", \"case\", \"test\", \"major\", \"late\", \"indicate\", \"false\", \"date\", \"family\", \"extremely\", \"random\", \"surface\", \"city\", \"acknowledge\", \"constant\", \"tsb\", \"veh\", \"likely\", \"nature\", \"doesna\", \"unsuspecting\", \"mgr\", \"parameter\", \"closed\", \"leesburg\", \"phillip\", \"bulletin\", \"pend\", \"jan\", \"latter\", \"monitor\", \"people\", \"panel\", \"yet\", \"area\", \"wrong\", \"kill\", \"dead\", \"touch\", \"mine\", \"near\", \"trigger\", \"com\", \"error_message\", \"trust\", \"instal\", \"online\", \"site\", \"tire_pressure\", \"therefore\", \"example\", \"alone\", \"disability\", \"title\", \"cmb\", \"sept\", \"wea\", \"suffer\", \"angle\", \"inspect\", \"black\", \"explain\", \"even_though\", \"claim\", \"help\", \"good\", \"already\", \"completely\", \"sale\", \"busy\", \"iphone\", \"underwater\", \"eye\", \"website\", \"fortunately\", \"register\", \"hazardous\", \"expect\", \"telephone\", \"payment\", \"unsync\", \"fahrenheit\", \"haywire\", \"abreast\", \"unchecked\", \"caller\", \"celsius\", \"language\", \"kilometer\", \"downpayment\", \"replace\", \"available\", \"cover\", \"order\", \"warranty\", \"disconnect\", \"someone\", \"vw\", \"danger\", \"faulty\", \"year_old\", \"mark\", \"america\", \"repeat\", \"request\", \"shade\", \"death\", \"deductible\", \"injure\", \"like\", \"separation\", \"round\", \"trap\", \"shape\", \"notification\", \"malibu\", \"limitation\", \"dealrship\", \"warrany\", \"departue\", \"parking_lot\", \"key\", \"end\", \"place\", \"unsafe\", \"unintended_acceleration\", \"switch\", \"ignition\", \"fob\", \"rental\", \"pursuant\", \"disclose\", \"videotape\", \"agency\", \"tampa\", \"gray\", \"selection\", \"scan\", \"redact\", \"information_act_foia\", \"freedom\", \"name\", \"tape\", \"click\", \"gearshift\", \"reparked\", \"bumped\", \"clicking\", \"colleague\", \"permit\", \"accelerate\", \"low\", \"tow\", \"acceleration\", \"respond\", \"visit\", \"accelerator\", \"green\", \"depress\", \"min\", \"electric\", \"motorist\", \"calmly\", \"join\", \"east\", \"unlock\", \"mechanism\", \"used\", \"thirdly\", \"controller\", \"gauge\", \"autobrak\", \"infront\", \"unintentionally\", \"elantra\", \"reassurance\", \"specifically\", \"coast\", \"gutter\", \"application\", \"lose\", \"aeb\", \"hyundai\", \"randomly\", \"continuously\", \"instrument_panel\", \"short\", \"retrieve\", \"own\", \"regardless\", \"beeping\", \"medium\", \"word\", \"backwards\", \"source\", \"rapidly\", \"awd\", \"normally\", \"ability\", \"wire\", \"speaker\", \"ultimately\", \"sonata\", \"distraction\", \"nhsta\", \"forcefully\", \"exist\", \"blind_spot_detection\", \"occupant\", \"guess\", \"motion\", \"window\", \"miles_per_hour\", \"rear_view\", \"concerned\", \"finally\", \"roadside\", \"protect\", \"tomorrow\", \"approx\", \"furthermore\", \"https\", \"fact\", \"autopilot\", \"totally\", \"block\", \"november\", \"inch\", \"human\", \"clean\", \"widespread\", \"complicated\", \"compare\", \"email\", \"responsive\", \"january\", \"accessory\", \"youtube\", \"watch\", \"monitoring\", \"driveway\", \"wife\", \"street\", \"deploy\", \"impact\", \"confirm\", \"piece\", \"pain\", \"horn\", \"insurance_company\", \"petal\", \"atla\", \"room\", \"sustain\", \"pole\", \"backup\", \"broken\", \"plastic\", \"subsequently\", \"decline\", \"concrete\", \"extend\", \"stand\", \"niro\", \"steep\", \"slab\", \"mother\", \"dona\", \"persist\", \"sec\", \"malfunction\", \"engine\", \"run\", \"restart\", \"garage\", \"stall\", \"pressure\", \"footage\", \"suburban\", \"housing\", \"remote\", \"partially\", \"warrenty\", \"humidity\", \"faub\", \"ita\", \"disconnected\", \"rubber\", \"changed\", \"reader\", \"kid\", \"peculiar\", \"intent\", \"oddity\", \"unfreeze\", \"notable\", \"jarring\", \"vacant\", \"inflation\", \"caregiver\", \"still\", \"gradual\", \"parking\", \"able\", \"gear\", \"button\", \"stationary\", \"determine\", \"spurious\", \"initially\", \"swing\", \"rogue\", \"engagement\", \"resistance\", \"turbo\", \"palm\", \"crashed\", \"confirmed\", \"informaiton\", \"belief\", \"vehiclewould\", \"emmission\", \"vehicler\", \"addtionally\", \"poistion\", \"camry\", \"depth\", \"descent\", \"boulder\", \"engaging\", \"premature\", \"blvd\", \"way\", \"almost\", \"flaw\", \"exit\", \"daughter\", \"tailgate\", \"dirty\", \"ramp\", \"highlander\", \"investigate\", \"poor\", \"aaa\", \"wish\", \"develop\", \"little\", \"definitely\", \"advertised\", \"headlight\", \"median\", \"usual\", \"placement\", \"guidance\", \"whatsoever\", \"opening\", \"mindful\", \"friend\", \"daylight\", \"lighting\", \"corp\", \"distract\", \"driver\", \"security\", \"cable\", \"episode\", \"moderate\", \"practically\", \"form\", \"scary\", \"left\", \"seize\", \"shake\", \"prompt\", \"delay\", \"promote\", \"assembly\", \"purpose\", \"proof\", \"util\", \"confront\", \"relianace\", \"orientation\", \"fracture\", \"approximate_failure_mileage\", \"bent\", \"bracket\", \"emotional\", \"erroneously\", \"overcome\", \"recovery\", \"subframe\", \"armada\", \"lj\", \"progress\", \"carlo\", \"complaint\", \"location\", \"want\", \"option\", \"common\", \"regard\", \"assume\", \"dangerously\", \"research\", \"non\", \"certain\", \"reach\", \"evening\", \"anti_lock\", \"automate\", \"direction\", \"quite\", \"problematic\", \"generate\", \"reference\", \"reasonable\", \"tone\", \"burn\", \"desire\", \"safe\", \"associate\", \"forester\", \"accept\", \"misguide\", \"ad\", \"bundle\", \"provide\", \"tire\", \"steering\", \"cost\", \"prius\", \"surprised\", \"evasive\", \"love\", \"diagnostic\", \"root\", \"willing\", \"incorrect\", \"simple\", \"wagon\", \"alignment\", \"recess\", \"tested\", \"advisor\", \"general\", \"advertising\", \"powered\", \"suite\", \"cup\", \"idk\", \"roatation\", \"self\", \"hwy\", \"installation\", \"probability\", \"presafe\", \"reliability\", \"curb\", \"addition\", \"resolve\", \"early\", \"must\", \"daily\", \"especially\", \"incline\", \"frequently\", \"kick\", \"visibility\", \"deeply\", \"previous\", \"pocket\", \"gmc\", \"construction\", \"doorbell\", \"inevitable\", \"appropriate\", \"disappointed\", \"anyone\", \"stereo\", \"encounter\", \"frontal\", \"bottom\", \"thousand\", \"future\", \"share\", \"imagine\", \"strange\", \"change\", \"head\", \"trunk\", \"initial\", \"mode\", \"throttle\", \"national\", \"merced\", \"length\", \"mercede\", \"reproduce\", \"starter\", \"complain\", \"zone\", \"company\", \"base\", \"dodge\", \"map\", \"understand\", \"fuel\", \"tiny\", \"pong\", \"clue\", \"desperately\", \"disappointing\", \"marginally\", \"matic\", \"ota\", \"par\", \"better\", \"safe\", \"backup_camera\", \"child\", \"fault\", \"image\", \"suppose\", \"address\", \"premium\", \"adjust\", \"locate\", \"volkswagen\", \"st\", \"passat\", \"offer\", \"dark\", \"device\", \"sedan\", \"intellilink\", \"dimmer\", \"directly\", \"brightness\", \"interested\", \"else\", \"score\", \"tv\", \"blindingly\", \"comparable\", \"woebcken\", \"touareg\", \"symbol\", \"sel\", \"institute\", \"ceo\", \"hinrich\", \"dashboard\", \"oliver\", \"connect\", \"terrible\", \"owner\", \"business\", \"learn\", \"downhill\", \"amber\", \"rate\", \"inoperable\", \"capture\", \"gentle\", \"power_steering\", \"bug\", \"age\", \"bogg\", \"basic\", \"ethernet\", \"philadelphia\", \"rebooting\", \"retainment\", \"literature\", \"specification\", \"mbusa\", \"assistant\", \"secondary\", \"emission\", \"bill\", \"respectfully\", \"protection\", \"xxxxx\", \"video\", \"reset\", \"rep\", \"road_departure_mitigation\", \"stability\", \"model\", \"conversation\", \"couple\", \"upgrade\", \"proceed\", \"glitch\", \"moment\", \"info\", \"evidence\", \"nearby\", \"database\", \"balloon\", \"supposedly\", \"remind\", \"shortly\", \"primary\", \"frame\", \"tour\", \"connector\", \"fuse\", \"salesman\", \"apple\", \"cgi\", \"hvac\", \"playing\", \"radio\", \"cross\", \"lead\", \"pop\", \"freeze\", \"permanently\", \"unit\", \"crack\", \"mean\", \"quit\", \"absolutely\", \"passenger_side\", \"journey\", \"heater\", \"surprise\", \"specify\", \"working\", \"lcd\", \"secure\", \"grind\", \"moving\", \"appose\", \"compressor\", \"book\", \"offline\", \"express\", \"impend\", \"blow\", \"compensation\", \"funxtion\", \"heavy\", \"startup\", \"range\", \"none\", \"cycle\", \"temperature\", \"dog\", \"empty\", \"outside\", \"advise\", \"separate_occasion\", \"countertop\", \"unexpectedly\", \"appointment\", \"copy\", \"abrupt\", \"surround\", \"sequence\", \"latch\", \"initialization\", \"hypothesis\", \"drift\", \"exact\", \"valid\", \"sensitivity\", \"pilot\", \"operational\", \"yell\", \"simi\", \"worker\", \"degrease\", \"electrical\", \"rd\", \"barely\", \"water\", \"house\", \"poorly\", \"harness\", \"utilize\", \"seal\", \"corner\", \"anti\", \"suspect\", \"parking_spot\", \"succession\", \"minor\", \"cycling\", \"theft\", \"making\", \"parking_space\", \"stabilitrak\", \"dim\", \"june\", \"gateway\", \"rub\", \"telematic\", \"sporadic\", \"volt\", \"associated\", \"liftgate\", \"blind_spot_monitor\", \"bumper\", \"due\", \"night\", \"weather\", \"daytime\", \"active\", \"jerk\", \"scared\", \"reprogramm\", \"app\", \"flow\", \"dimly\", \"paragraph\", \"box\", \"premier\", \"pray\", \"scar\", \"recommend\", \"assurance\", \"regular\", \"honk\", \"snowy\", \"vegas\", \"district\", \"aftersal\", \"emphasize\", \"essential\", \"furnish\", \"hat\", \"obliterate\", \"perception\", \"pose\", \"row\", \"rural\", \"detect\", \"marking\", \"residential\", \"morning\", \"fully\", \"produce\", \"technology\", \"upload\", \"care\", \"document\", \"tar\", \"around\", \"swerving\", \"confused\", \"wide\", \"opportunity\", \"guarantee\", \"hrs\", \"variety\", \"slower\", \"rush\", \"rader\", \"noice\", \"wheen\", \"communicate\", \"fight\", \"occupy\", \"representative\", \"pdf\", \"wook\", \"noticing\", \"local\", \"record\", \"mechanic\", \"lucky\", \"track\", \"handle\", \"half\", \"rail\", \"alfa\", \"free\", \"board\", \"cylinder\", \"ca\", \"functional\", \"proper\", \"dalla\", \"nationally\", \"intervention\", \"symptom\", \"rough\", \"outline\", \"prematurely\", \"hundred\", \"master\", \"occuranc\", \"niussan\", \"insulate\", \"railroad\", \"magnetic\", \"vaughnkerkorian\", \"discussion\", \"gmail\", \"worth\", \"fort\", \"commuter\", \"vague\", \"kerkorian\", \"vaughn\", \"sometimes\", \"console\", \"far\", \"land\", \"disappear\", \"acura\", \"uncheck\", \"flat_tire\", \"vary\", \"interior\", \"youtu\", \"santa\", \"writing\", \"strut\", \"island\", \"body\", \"difference\", \"guide\", \"reoccurr\", \"load\", \"deterrent\", \"contacting\", \"sheehan\", \"wif\", \"lighthouse\", \"replication\", \"comment\", \"link\", \"memory\", \"deadly\", \"sit\", \"picture\", \"distance\", \"collide\", \"least\", \"warm\", \"maintain\", \"cabin\", \"forget\", \"barrier\", \"ambulance\", \"possibly\", \"minimum\", \"sensing\", \"duty\", \"override\", \"seatbelt\", \"son\", \"lower\", \"sore\", \"camper\", \"lastly\", \"curiously\", \"sorry\", \"cara\", \"chest\", \"fan\", \"foil\", \"defogger\", \"tail\", \"unlatch\", \"knife\", \"deceleration\", \"service_department\", \"wiring\", \"usually\", \"live\", \"lka\", \"significant\", \"recover\", \"husband\", \"figure\", \"corporate\", \"haptic\", \"md\", \"improve\", \"steel\", \"list\", \"identify\", \"ever\", \"museum\", \"hop\", \"stomp\", \"unacceptable\", \"unannounced\", \"verification\", \"lawsuit\", \"systemic\", \"network\", \"circumstance\", \"simultaneously\", \"friday\"], \"Total\": [707.0, 794.0, 401.0, 285.0, 354.0, 399.0, 380.0, 212.0, 213.0, 161.0, 274.0, 309.0, 182.0, 357.0, 241.0, 285.0, 330.0, 277.0, 320.0, 160.0, 211.0, 238.0, 148.0, 128.0, 138.0, 116.0, 131.0, 171.0, 104.0, 116.0, 794.4475367767278, 330.4993068547608, 320.5077896476477, 186.7062204284238, 179.37680988295674, 170.47545659011553, 162.75142174541105, 156.1066386387097, 146.08378687633723, 130.8751689108614, 123.28253559954028, 114.11191408803495, 107.34120339562021, 103.8350372206569, 85.47396118333128, 65.62097097778081, 64.16806650025147, 62.594208317681215, 59.030829120333436, 57.66082414230565, 57.48949761702576, 57.28766700489316, 55.339258641131416, 51.53897270367754, 47.45536755790417, 45.97868757357004, 45.74310690398433, 43.52989520546547, 41.569346822360565, 36.33063379344589, 274.0294676246476, 109.45349222736809, 100.51468628172175, 399.5952454707886, 380.47070238155555, 238.7289395618157, 200.57022407188526, 178.89622863521132, 162.15812541453724, 145.23185250749472, 139.646810953883, 121.22675456923574, 119.6502692481222, 93.62559087646194, 90.47380876372243, 85.12084881629607, 68.31399482443136, 65.90687595770505, 65.15997714432241, 58.79904868461823, 56.86588071208419, 56.593838339170055, 56.37459709619844, 56.270218738702376, 55.013967831391085, 54.25965839516195, 53.81164291228732, 50.180073376622005, 48.06001621675073, 46.67699590534753, 43.943834394406586, 41.884003136484885, 40.92722982442538, 309.45400708450825, 285.9952122217693, 277.35778334810675, 183.1665831413279, 158.02434450106136, 141.13718665723144, 124.82799988017327, 109.00131491692866, 108.12587452320614, 102.30137146163231, 84.74914779394581, 74.19751198341548, 67.77354088002656, 64.43125340659981, 62.87366259987162, 58.68357518559789, 57.37696409465457, 51.3378141618043, 51.26000658979181, 47.01030650430581, 46.107074597608396, 44.721013748352384, 43.427949058741994, 41.68965560453019, 41.02096846546581, 39.31512291147651, 36.93850967960424, 36.123995088567064, 28.06563316297229, 27.29480170890669, 235.7204879659955, 100.51468628172175, 211.24837196648488, 171.86912128831284, 128.01933145896743, 119.04196587215351, 109.9031173448614, 97.11157166879627, 95.64051329999528, 83.11074925261377, 69.21565124185811, 68.99632582698726, 66.97475306503986, 66.25783939306196, 401.119103408267, 45.40477222529149, 35.910507392579234, 34.53435511285082, 24.180669836143263, 19.46489854702697, 18.501664571032002, 17.95516539807823, 17.902336179444898, 135.1974782717633, 15.315191928352906, 13.11055841300658, 12.069042086362026, 11.993878315615062, 10.694138595974378, 9.502505687267103, 7.699587002804925, 7.0560464914956915, 357.12071065854576, 235.7204879659955, 707.7737407057159, 354.7091595810085, 241.52428758270722, 72.49447380191889, 54.09413929957031, 47.10230435277537, 46.16890068435544, 38.26891646776865, 36.24669504019239, 29.200621999394876, 25.846454958439374, 23.652359298168186, 20.233272768963033, 20.124994094839014, 20.05869592058713, 10.41502102715957, 9.770556699896215, 9.650753775259943, 8.884503562216686, 6.6465466201405325, 6.4094092054868765, 72.14003882365769, 4.662765353895586, 3.671386227946809, 3.6687667245425732, 3.584271677185767, 3.584271677185767, 2.6878342006590947, 2.0856807555773162, 2.0856807555773162, 357.12071065854576, 2.0856807555773162, 2.0856807555773162, 213.4111196860639, 104.88563539993812, 88.285047375234, 65.97570401039046, 57.67804076843318, 49.26832969098526, 42.62304061111264, 39.170460228250526, 32.21296313791632, 29.374554777684875, 24.23709729023902, 22.331533024522447, 20.544435509893333, 20.180720216350217, 19.96773041851772, 19.353593281297897, 18.134787317780084, 17.373748741503917, 16.321798672049802, 16.07706622846646, 15.067308011354866, 12.850711578730692, 12.749523366429933, 12.465448387737482, 8.503593334552216, 8.327129587923276, 6.771551667517303, 6.263296882440826, 5.890105582664656, 5.709030805554278, 160.93941364545427, 148.68667996695416, 131.36324955856242, 70.6067420892953, 68.44880870233841, 52.34155361569582, 44.51430205897244, 41.229436089230106, 39.33787010030324, 31.34196428762943, 29.636322655244683, 27.00270174454747, 16.626002668277383, 15.547910786924028, 12.789687667581616, 11.442084222170452, 10.325122712280027, 9.861552625877659, 9.188652495260168, 7.917977469154134, 6.947194883293204, 6.689137208600941, 6.4503799524369025, 5.391702056491947, 4.831450507241532, 4.831450507241532, 4.831450507241532, 4.831450507241532, 4.831450507241532, 4.831450507241532, 4.831450507241532, 4.831450507241532, 285.22788287003743, 138.33254123673078, 115.87911103563818, 47.94485662377497, 31.77910690291907, 22.57031724674957, 21.253484188541172, 20.056864106738676, 19.021936791019872, 13.303404760706773, 12.42774180566331, 12.266979122305361, 12.10985731988682, 12.098624649493352, 9.079089058904943, 9.068883192932006, 8.87068230499978, 8.061147627246196, 7.9923292778201125, 7.61220654041588, 6.887494630022332, 6.800467557966413, 6.740590351995297, 6.564643657935945, 5.345113488267813, 5.088004338485443, 4.759820719387472, 4.322550357233475, 4.238986699078763, 3.7837431575293308, 109.90413883846632, 70.08157554867137, 60.36015147246784, 57.45447337008395, 47.949969265147985, 41.96179813275557, 40.978771223742704, 40.13560273651385, 25.415452610143127, 24.298622159735192, 18.86281913482496, 16.57095220307014, 16.26993615333393, 15.555564287178525, 13.925227193651395, 11.30417426928416, 10.614633622857157, 9.983036629218917, 9.469448478094485, 8.638875694608075, 8.31217453175527, 8.11019536598084, 7.912127031924292, 7.863840137089178, 7.305562311094038, 7.07468157106307, 6.903297017253927, 6.6210479916565745, 6.0061849796266005, 5.600127234742877, 79.82594073981798, 75.69783856043776, 58.84159251831211, 55.24685664609852, 52.89409962613471, 43.858048293092914, 30.44824676718018, 27.29898058380938, 26.64762665034485, 25.037042067058017, 24.477305862729697, 23.465042166486487, 18.819093249493644, 17.771587640558508, 16.652826330252296, 15.663074670675629, 15.505710732943239, 15.400541110244067, 13.036358654284445, 12.452853075928523, 12.004161412615463, 11.506514882310022, 9.821369813651726, 8.816725353900441, 7.023848505292101, 6.4510944908841, 6.203103119634925, 6.015592334474648, 5.8049868070551245, 5.659538704875389, 80.04725614827028, 79.50620668465, 58.00934738769439, 49.35212556471551, 41.91111930875148, 41.30221133556542, 39.2047535437129, 38.844656064239366, 28.758362157684694, 25.25311156876729, 21.01628453513279, 13.855058235159678, 73.6545748456029, 13.175978325240326, 12.410684039490656, 12.34866706613001, 10.93376576586881, 9.039094680624045, 7.481251162448446, 6.79404356835004, 6.73869938884365, 5.671618794307434, 5.272067346609464, 5.272067346609464, 5.073093206426172, 5.022393309628473, 4.79185608684433, 4.671735946647821, 4.597025434081002, 4.501132627691577, 212.11778624992738, 110.8779486364847, 80.25887927847741, 54.18204298494039, 36.88024412897616, 27.599061959674106, 16.903729482243424, 12.66761957951, 11.562247179590408, 8.545301730194723, 8.262068931037131, 7.627796963756083, 7.079766855488545, 6.852851858463262, 6.607857806074467, 6.4503129276628455, 6.386063799285378, 6.234121640252825, 5.4670128618245055, 4.8012179307633485, 4.522702187467494, 4.497282301546282, 4.430048992299376, 3.635028348595949, 3.532009748563246, 3.503242327842237, 3.4333274588430203, 3.389916856027914, 3.129295779533898, 2.8127930004266677, 274.0294676246476, 182.3187960302663, 116.66866328362735, 45.00834295873959, 42.709954820466635, 42.16242724988179, 32.7606487083909, 26.274504207830034, 22.725349529133084, 20.642204807942107, 19.318833171890265, 18.28857632599233, 17.240887759788425, 14.95750195788147, 13.567622196218887, 10.520400324829772, 9.830343434474903, 8.75007120144437, 8.449884837980136, 7.968621742182729, 7.919475518805783, 7.349241401319191, 6.091246909351784, 5.35964434769142, 5.333026207674587, 5.281433858268928, 4.777794782768644, 4.479343897098482, 3.299622588332661, 2.5271933746458113, 2.5084039421862876, 106.50057409362532, 103.09436222946827, 95.49606243261873, 56.58235954417113, 41.96882649723865, 32.11572421054021, 30.010489446598324, 29.12094654644154, 23.779371789986925, 19.020431844747527, 18.678924831990134, 17.98341562512879, 16.54944581145366, 13.369461979022953, 12.565166590830586, 8.06743853040327, 7.53972844537882, 7.295656741397436, 7.045537246690502, 6.818287859986609, 6.169803946067887, 6.0696695914944705, 6.0118159797062845, 5.974527091908858, 5.259707150239188, 4.84933168154224, 4.607201738421468, 3.3521246592405083, 3.1015638232154656, 2.801173159666797, 94.65965685994713, 67.07121368248433, 41.01761269412955, 35.79848647917816, 34.146310958469826, 29.94060321100649, 29.553675765873486, 27.043585182094745, 23.46341862452535, 22.684902959141358, 17.8896381607292, 15.520157080693867, 15.275259930360606, 15.266442319013704, 14.295564472875695, 13.413255865308644, 13.37193419561699, 12.320470980427986, 11.566291473829446, 11.561711170628302, 9.80762654211803, 9.299430556730094, 8.924635902075464, 8.913129077573167, 8.729356284533047, 8.547832087923325, 8.140733895110166, 6.81538055331972, 6.697966749802619, 4.9335536826870605, 54.011351442409136, 46.92097982995554, 36.12073814211515, 30.14572689359421, 27.626025134655436, 27.500474165793726, 21.122856100917346, 20.395165740448864, 19.41158012384901, 18.217766688632995, 17.473928733005526, 17.4330520595053, 15.864634340865985, 14.93320559712127, 14.36269853085679, 12.81802644926531, 12.754270077934029, 12.537011292668316, 11.541892591809535, 11.048500733510476, 9.366762479549147, 8.853950848696707, 8.679686328703236, 8.675824086532803, 8.178156174402194, 8.121064214329282, 7.736126134146402, 7.626421980671475, 7.317159708015498, 7.0275004856084875, 77.83087146230453, 45.468787941777, 34.41947147511359, 33.61987873603357, 31.711921242178835, 31.214311815384345, 27.24383730259485, 18.919387328756176, 18.646250939763082, 18.048883036229686, 16.878604293123946, 15.503794328481264, 15.293735886482075, 15.087018601123448, 13.165852266251111, 12.421574794464462, 12.392767134195477, 12.171221091464712, 11.539910937434565, 11.28125880444658, 10.684375355960572, 10.378400514049295, 9.98857251954323, 8.75837396973291, 8.132810149166838, 8.014499260573896, 7.956655327915522, 7.772676399330212, 7.34671249121085, 6.855690386511719, 128.35922776080773, 82.01965110544396, 51.296183642380996, 39.24033480642969, 36.71808600026557, 17.258116072425103, 16.1718972414901, 14.057997958188066, 12.829383125624533, 12.749972264819803, 11.74583776493601, 11.092540628530026, 9.79313668576342, 8.978800597360767, 8.649393402001573, 8.466121866462268, 8.108359266315636, 7.640715602775619, 7.494779161839979, 6.5732098197518125, 6.528405861608117, 6.512052081779828, 6.226390033086934, 5.8669014010792715, 5.75637058296096, 5.646187168143884, 5.2613482405521115, 5.087133478332383, 4.742003670381572, 4.4810409531014015, 4.4810409531014015, 116.59530920105469, 72.28841472793368, 44.62687935330737, 39.095547658490126, 36.227072286856384, 19.182064700308338, 17.68197920634249, 16.142883869644518, 14.58649419435605, 10.730235216795137, 10.503434678378511, 10.24270708275301, 10.071064418122225, 9.914177916273179, 8.486416492727967, 7.649205046338942, 6.927533142812002, 6.209775883594006, 6.209775347435195, 6.209775347435195, 6.187985704544015, 5.964389251178755, 5.884644206662411, 5.570990766379052, 5.556718218844359, 5.418932374618281, 4.6795036955268134, 4.529166641627055, 4.469912514529228, 4.012145751818035, 84.96436930798465, 72.07992202372229, 62.25238425915943, 49.09751761117339, 33.447791254007875, 23.06603981136125, 21.346177882166923, 21.01324074053651, 20.895469664875023, 15.762249465512342, 15.471803002660595, 14.582677092188906, 9.249668701508494, 8.737765321285957, 7.493870290371703, 6.6728764469545485, 6.335471411901177, 6.138262199295519, 4.988462311935318, 4.653130974923256, 3.347835510805869, 3.0197238228919665, 3.0197238228919665, 3.0197238228919665, 3.0197238228919665, 3.0197238228919665, 2.5149953490660097, 2.5149953490660097, 2.5149953490660097, 2.5149953490660097, 2.5149953490660097, 2.5149953490660097, 104.14411214510856, 39.93667078636744, 38.48840295812437, 36.014404654061124, 34.40364926639939, 34.19509944711022, 34.17310209903717, 33.79991003418695, 27.749481223419902, 17.580784214184426, 17.11820454848017, 15.028078242750077, 11.787620466451596, 10.467887953856781, 8.851337331696184, 7.407751270951368, 7.208829541318206, 6.493018476329621, 5.223209497751186, 4.451779000965289, 4.365365249476424, 3.5195816435455076, 3.201848013439505, 2.375720530885377, 2.375720530885377, 2.375720530885377, 2.375720530885377, 2.375720530885377, 2.375720530885377, 2.3514658799504176, 44.68213614546454, 38.38616742100992, 34.38189138815746, 31.970718626538996, 18.623625070766387, 14.188702801535705, 14.020231334178668, 13.121494583735297, 12.967318619261036, 12.891214848389874, 12.867683296138651, 11.987353819219358, 10.307017419942959, 10.162873928880277, 8.820155984194333, 8.721209043093726, 8.516397384610867, 8.407165357563034, 8.116500421996221, 7.434084377739148, 7.148726363364152, 7.063483266457947, 6.3903557491225484, 6.226960198825955, 5.827476882807355, 5.7686505746083805, 5.546240414304163, 5.480954736685577, 5.446292283805661, 5.30269003182139, 5.30269003182139, 58.41445987723146, 43.012445222868855, 33.21426157544209, 19.569520515202036, 17.794108146563374, 14.914334003117473, 14.326046054538342, 12.932673831763909, 12.73759794245124, 10.489693355319709, 10.461153404748023, 10.413588709524001, 10.324659220967428, 9.58157679927998, 9.442294359804137, 9.170524437313025, 9.051379400080641, 8.565195259311919, 8.438666350501755, 8.131404256556548, 7.95096057019203, 7.913403653836236, 7.323134551354399, 7.28413816966, 7.258230627158319, 7.075642383017357, 6.55263853238679, 6.154053439616268, 5.687639819330826, 5.6851391733439804, 104.9622947983934, 99.16021103304051, 48.60030528219266, 33.27131957853779, 28.753451719183808, 18.437287691890237, 15.467919643647472, 14.390688092149283, 12.488461607719586, 11.631963127861201, 9.374658724191658, 7.080125487663039, 6.603024085238808, 6.299944854500939, 4.031351897741949, 3.296533763513362, 2.9316746760451267, 2.516398610934574, 2.0751098070925376, 2.0751098070925376, 2.0751098070925376, 2.0751098070925376, 1.9682663332650248, 1.8262307298965732, 1.60054493807531, 1.3341617925820464, 1.177878183196843, 1.177878183196843, 1.1141038186259182, 1.0466598412037202, 64.67492189205767, 58.400982700111584, 38.50822606517726, 18.259966153312913, 15.324514631563282, 13.214293591185454, 12.843620616243154, 12.33986359801925, 9.877599785715319, 9.102579341758808, 8.70153067453437, 8.517647672804456, 8.281629508711855, 6.57054836804019, 6.310426169027187, 6.181768627813379, 6.144557294068329, 6.053486853096191, 5.6755466358964135, 5.404083286030176, 5.152172062059994, 4.777616388266256, 4.777616388266256, 4.777616388266256, 4.777616388266256, 4.777616388266256, 4.777616388266256, 4.777616388266256, 4.777616388266256, 4.777616388266256, 4.777616388266256, 4.777616388266256, 63.65290450246596, 59.726609086308684, 49.38048549410084, 29.888944730441064, 28.389658056614387, 27.18663082025774, 26.27917021359631, 22.19279278791531, 21.11066503050741, 17.360688288591124, 16.25872235137548, 13.707602432435085, 13.023018810489878, 9.303042635010321, 8.001460327115819, 4.280645953718104, 4.143425922426603, 3.8600456096450686, 3.2791995508169287, 1.950277338791841, 1.950277338791841, 1.5902714164578715, 1.5902714164578715, 1.5902713034017728, 1.5902713034017728, 1.5902713034017728, 1.5051795468863847, 1.4409155782768281, 1.2809322657219524, 1.1860288884078047, 42.94042106308765, 27.079674038698546, 25.003464570776785, 24.000979041107286, 23.137154494743495, 22.33953644894733, 19.020980631268365, 18.55485691119337, 17.17295446196334, 13.939580002804883, 12.019622690592549, 10.678029890031572, 10.37844324608814, 10.28613037937964, 10.142892178542095, 9.933832626722772, 9.52713338661457, 9.508854829186111, 9.053584838412359, 8.967968403507836, 8.959077867234468, 8.187329926837858, 8.016112213378259, 7.256856225347703, 5.669648095435435, 5.440609800400115, 5.4217869727633925, 5.277898365178, 5.085437690648848, 4.977876644850554, 34.17754342469144, 30.872766173968138, 29.100172153886227, 25.182719525754173, 22.408361036022384, 20.17363584627968, 16.51339586315487, 14.596148912243192, 13.637425695369767, 13.22356153188364, 12.465865617721802, 12.465865617721802, 11.886899355040654, 10.172814782949752, 9.140311663497759, 8.8560303301931, 8.721867234739449, 6.797567389613955, 6.670183226139788, 6.665901314016279, 6.659788077036864, 6.659788077036864, 6.659788077036864, 6.659788077036864, 6.659788077036864, 6.659788077036864, 6.659788077036864, 6.659788077036864, 6.659788077036864, 6.659788077036864, 53.29752272357642, 37.538118043383264, 31.997283738648814, 27.222020991104873, 21.24341154445306, 20.969387069947786, 18.96284346797683, 15.491789713365831, 14.945406847241307, 14.144613728386744, 14.132511115936065, 12.384660747247304, 11.279130628558148, 10.872647819168147, 10.55547861410066, 8.701919557194909, 7.964959155644993, 7.960926534660885, 7.676876945012329, 5.530474701106705, 5.466209716828522, 4.9160675948083945, 4.644808421002089, 4.5872340839220795, 4.495228949012846, 4.407333159472038, 3.5910931780853645, 3.57925712424576, 3.57925712424576, 3.57925712424576, 47.07377231833585, 33.45822668724613, 32.51453780343844, 28.842862529061858, 21.99684525278296, 16.44133956309944, 15.884753774585821, 10.387593058473634, 10.382852615639258, 8.896136731312096, 8.780841742506677, 8.125495146691485, 8.0558573284833, 7.3833130413947385, 7.161156729319017, 7.1217229831593585, 7.012682445773271, 6.103878303933738, 5.627114843823954, 5.627114843823954, 5.627114843823954, 5.312574599872521, 5.210083982817643, 4.8181472749301175, 4.46398572824944, 4.454805171780032, 4.454804524767816, 4.454804524767816, 4.454804524767816, 4.454804524767816, 75.69439724560553, 33.53981043910801, 27.513153323885454, 25.413513643987148, 23.98998852536402, 22.581324351601825, 21.12165499229356, 17.812974002351456, 13.549945155750805, 13.330967182818524, 10.070176488827926, 7.856210073855381, 7.731042219637343, 7.731042219637343, 6.30716436856878, 5.95031364639189, 5.950130127137045, 5.3931726429375, 5.337132127762097, 5.036548233743042, 4.462123913559398, 4.292386526754084, 4.292386526754084, 4.292386526754084, 4.0279669397135685, 3.9566255313381844, 3.5926123587125245, 3.5651649144640993, 3.5164932215059785, 2.891467170102219, 38.87485122533234, 33.6125413311572, 22.890486227781537, 19.607147987414606, 18.659910860163965, 16.957507602248587, 14.865624144402812, 14.744479000989797, 12.63966536517143, 11.42958887423727, 11.417318016206737, 10.967866629219952, 10.674128171172677, 10.476104527337624, 10.258667664763085, 8.925532533801892, 8.366201561718988, 8.02296433262569, 7.388428455666741, 7.37106133192071, 7.3061289254983395, 6.6786631941309285, 6.53120033236243, 5.872304297123492, 5.647672850478251, 5.610700750336318, 5.451938466664788, 5.069235063911114, 4.30852713697597, 4.176039936180994, 30.271986909623, 28.77112046016382, 21.78415489381511, 21.52749643712608, 18.886384852791558, 18.038470011730965, 16.73031441424595, 16.70171595601385, 13.793051878884055, 13.045125153723639, 11.921438889191652, 10.01297220789369, 9.999673319770807, 9.481562030165009, 9.20502340968998, 8.978254980531487, 7.774232460255433, 6.935417091962938, 6.813400902684581, 6.760380006503554, 6.727351812470256, 6.528788158959455, 6.436228381660161, 6.117351538739211, 6.0423416954204585, 5.883167275242253, 5.864493571097612, 4.777147113322273, 4.064215179982326, 4.038708098109758, 64.9149249243355, 32.845644689008616, 25.048526350320564, 15.677121372742059, 12.433638936193836, 12.433416564569802, 11.88896694497745, 10.609005373336508, 10.082532244176718, 8.490766879093972, 7.796536913306386, 7.466347101619074, 7.407730416338642, 6.308188597844981, 5.928699155381014, 5.713348856024308, 5.662934993053205, 5.094609308447612, 5.0564642656658565, 4.720133515179607, 4.607513762298875, 4.498151239327476, 4.4597877817121505, 4.4593802828532825, 4.391628504871539, 4.391628504871539, 4.375781163387244, 4.351103848305196, 4.254913480785901, 4.238380427514326, 76.67983454079749, 65.5678272673119, 49.54968907113989, 24.51960771982034, 24.44556227806472, 18.624404310610895, 16.302510709165542, 12.280044082884379, 10.895177634549885, 9.994449592584843, 9.112786887689587, 8.117539598120254, 5.402168150163374, 5.40216775474822, 5.40216775474822, 4.837128376156616, 4.171065833228621, 3.6608009636751504, 2.75296928846681, 2.4474488040425277, 1.9307109884165397, 1.1741087237553314, 1.1741087237553314, 1.1741087237553314, 1.1741087237553314, 1.1741087237553314, 1.1741087237553314, 1.1741087237553314, 1.1741087237553314, 1.1741087237553314, 72.14003882365769, 1.1741087237553314, 90.48819576354607, 52.15039440268513, 37.33994281646382, 34.427614197510984, 30.10764361494707, 20.676237094596686, 9.702495122078158, 7.203066097199506, 7.121375758946882, 6.001797581280674, 5.625903657663938, 4.343921029521467, 4.243485024545381, 4.240778518178595, 4.221714053373415, 4.221714053373415, 3.8033111092566716, 3.8033111092566716, 3.8033111092566716, 3.8033111092566716, 3.8033111092566716, 3.8033111092566716, 3.8033111092566716, 3.8033359426391353, 3.36078921392359, 3.1159979269815397, 3.1159979269815397, 3.0721970655157964, 3.0427240759546907, 2.9762565177541456, 58.82898247471575, 48.56110735378349, 22.084729748809025, 18.23564080362374, 15.062450261498327, 14.368842220749334, 12.35714750413795, 11.83062332675447, 10.149276927904822, 9.359772006926566, 8.868921404359783, 7.806818022626825, 7.7285499943534735, 7.201201100006603, 7.086003454386281, 6.677662833571064, 6.241468696913971, 6.108459553332217, 5.2644379608869585, 4.8482309171109, 4.438315676982707, 4.358790903694446, 4.3545549213356445, 4.230034713691294, 4.230034713691294, 3.4856709926312255, 2.9754917009090778, 2.929383243678906, 2.7798328699798835, 2.269623810471259, 161.49422111782206, 27.279021337125204, 18.28014141618164, 13.101725509870658, 12.472892493594763, 12.452163584796812, 11.46607012982691, 10.956366243486462, 10.742577810517052, 8.896939771066984, 8.150153302548086, 7.550968200662978, 3.8063971478697765, 2.5961639146137387, 1.8412850026355403, 1.602774737907157, 1.3806261602198406, 1.2807254368344656, 1.2807254368344656, 1.2807254368344656, 1.2807254368344656, 1.0369162434976513, 0.9600841711540825, 0.9298312483174299, 0.9257367424103807, 0.8655890509546477, 0.8655890509546477, 0.8655890509546477, 0.8655890509546477, 0.859065886197055, 0.859065886197055, 0.859065886197055, 1.4144967314657535, 1.4144967314657535, 41.75070966232398, 25.689906636272955, 22.695398584163875, 21.029563698029293, 18.96096664202125, 17.18606714891026, 13.714544811926206, 11.760649689955851, 11.527752114501634, 11.465220846096065, 11.292717013040633, 9.698844374009267, 9.672319280933023, 8.717679312391766, 8.118466518266208, 8.100131325278035, 4.268809263054141, 3.8564827306935694, 3.4644999345264678, 3.271415219733102, 2.989401602840494, 2.491505814894981, 2.476029402135548, 2.1132587604885, 37.52443870200249, 1.6620316371135584, 1.4875588274274352, 1.4834784518915276, 1.4834784518915276, 1.4834784518915276, 1.4834784518915276, 48.17823775483582, 40.04727790765595, 18.213282693405418, 11.579144552080063, 10.545783897426048, 10.030856316574246, 8.896991870913633, 8.621534515985118, 8.063026112955828, 7.459929400739933, 7.37034638768118, 7.008163427852508, 6.639260835758738, 6.504263020546745, 5.667995502800166, 5.2268081397508395, 5.14129617799993, 5.083008273544066, 5.028566104946539, 4.917746677504265, 4.653631964060692, 4.620873509018646, 4.5924305103160545, 4.5924305103160545, 4.5924305103160545, 4.3934055994221755, 3.985003778714361, 3.9740737230468954, 3.441236172071515, 3.441236172071515, 3.441236172071515, 35.487679831680374, 27.38139438452199, 22.52621432076499, 22.049608203238417, 16.450014700320875, 13.707063978159384, 12.996935675916836, 9.924156894480268, 9.406160294576585, 8.940990393521112, 8.153010259917119, 7.639583574727791, 7.355633618810573, 7.037390035352055, 6.897245113278769, 6.100481103300142, 5.895052896141243, 5.879107041163409, 5.7098592014519705, 5.429003098043239, 5.363086797115898, 5.191962529653376, 5.1141172295406285, 5.08838117060656, 4.352877987482971, 4.19702051385323, 3.6163157623829183, 3.6100104948893708, 3.532212219767253, 3.493426072808679, 56.07528623674347, 22.738351625153378, 16.44827894080215, 13.175524618193881, 9.757432953847742, 9.221190234242512, 8.427956885295364, 8.069179604507948, 8.034574861914516, 7.9231947526917645, 7.511152197571325, 7.505012771167065, 7.4855030670063565, 7.106806958774916, 6.768905918343341, 6.359308438593262, 4.785501690235172, 4.738421908943822, 4.630038064018794, 4.541371706339307, 4.314507660152457, 4.314507660152457, 4.314507660152457, 4.314507660152457, 4.314507660152457, 4.314507660152457, 4.314507660152457, 4.314507660152457, 4.314507660152457, 4.314507660152457, 37.52443870200249, 40.821256251934365, 28.93931177300727, 28.734592600425582, 24.17920619041167, 15.715011500513082, 14.415556444060927, 13.777526042018653, 11.834580350471217, 10.526610751079225, 9.764025642906157, 8.83001819005472, 7.985453004977768, 7.8730587407386405, 7.494030753855076, 7.198335138620525, 5.880176103623007, 5.84073204630371, 5.203341096519398, 5.1175543003353345, 4.593975641653612, 4.198800847080622, 3.7709884603153654, 3.7009183737258606, 3.700918484596944, 2.709833208199519, 2.2773141036936138, 2.2773141036936138, 2.2773141036936138, 2.2773141036936138, 2.2773141036936138, 2.2773141036936138, 2.2773141036936138, 2.2773141036936138, 27.05608573219218, 21.416950716156123, 20.242850768575764, 13.647932928982216, 13.038285504758912, 10.558226256121154, 10.018037953592213, 9.312124870648667, 8.760297071093614, 8.678968312527804, 8.524676347074356, 8.090890000365363, 7.662848273872808, 7.328159637369192, 5.994520809602225, 5.994520809602225, 5.994520809602225, 5.994520809602225, 5.994520809602225, 5.994520809602225, 5.994520809602225, 5.994520809602225, 5.442859413346225, 5.254389144884486, 5.155532986417598, 5.1348150113880315, 4.75658207756452, 4.540125726120311, 4.473323990546376, 4.45549568400606, 4.45549568400606, 4.45549568400606, 60.89846453077216, 34.941976512849244, 27.157041066468423, 19.240166628177626, 15.710611118374477, 15.505793515634064, 15.015867907928088, 9.435124105390281, 8.54667528861797, 7.254756799370279, 6.617285832649375, 6.405472490274848, 6.150712868825065, 5.884908906794201, 5.595425086921022, 5.530579815936158, 4.3896872313529975, 4.244779437380771, 3.956523855417866, 2.9148838951771725, 2.899127673562704, 2.8676038489786135, 2.815881122410912, 2.8071075202572557, 2.677193777267025, 2.6216970135856767, 2.4951735031214293, 2.4490703494638666, 2.4490703494638666, 2.433631512395379, 30.577461508157437, 24.9776707979159, 24.951498687617306, 18.316254674551068, 16.901032444206262, 14.679948846859267, 10.191198540826, 9.48530602345432, 9.446814175399057, 8.358860018699042, 7.417759856859716, 7.07499257712322, 6.788329964733055, 6.553053676199294, 6.366459135317022, 5.89161505604341, 5.536758932227174, 5.159203775839259, 4.9034063437405475, 4.71936161789595, 4.667432222807376, 4.667432222807376, 4.539147552535424, 4.539147552535424, 4.014035414069715, 3.941033697830799, 3.3174234184274836, 2.9773304491031145, 2.818458616910395, 2.818458616910395, 25.538485773960964, 16.32326790356554, 14.257713105699164, 14.201267718144798, 13.73205279508149, 11.17009879586098, 10.34556712433524, 8.671424248360456, 8.392202140108301, 7.500581012133044, 7.429724973345899, 7.181612608544241, 6.802098961422244, 6.672388212650011, 6.620874988495922, 6.57126552606683, 6.308855947639565, 6.049958000077471, 6.015657101913719, 6.010228416099756, 6.010228416099756, 5.110129952931582, 4.959346937688793, 4.910394704177144, 4.7738657093963415, 4.2174831260275925, 4.063647206474092, 4.01768259773457, 4.017682287574628, 4.017682287574628, 4.017682287574628, 62.116141198892066, 23.53050467616731, 17.961636909774974, 15.752260120105834, 13.076364770385188, 10.777136427266914, 9.646305956199184, 6.692338097178424, 6.64511447667885, 6.546568046516787, 6.382712441265791, 6.12882356532835, 6.099612812523211, 6.041480882123356, 5.834640357479182, 5.426419031895021, 5.066350722551576, 3.82472461406555, 3.8148951769887125, 3.7879268735104334, 3.425043412450287, 2.987635514177242, 2.556889802777346, 2.556889802777346, 2.556889802777346, 2.5067223110999834, 2.380583730460266, 2.345310151486675, 2.345310151486675, 2.2465575958982145, 18.185779163006615, 58.0453925525373, 29.48010157702384, 13.450011426468999, 12.465834273463608, 9.459177121040522, 8.864227750275022, 7.740553971376072, 7.0019145939459095, 6.882607312159199, 6.367518455499946, 6.016210054058705, 5.063567762825433, 4.726674827263096, 4.6197179780119955, 4.493405071262229, 4.355353680917683, 4.0428141678470775, 3.989500830772474, 3.678333035656878, 3.23968730231075, 3.019295582041194, 2.7645896621330994, 2.7038006845878724, 2.6943991132366376, 2.6943991132366376, 2.6943991132366376, 2.6943991132366376, 2.6943991132366376, 2.6943991132366376, 2.6943991132366376, 2.6943991132366376, 2.6943991132366376, 2.6943991132366376, 21.760074427973098, 13.327446392968593, 12.683143401065921, 12.575147561422105, 9.65674012198002, 8.858333223709547, 7.981331567190705, 7.85382013163044, 7.846514140018619, 7.818016653780238, 6.875540646641217, 6.760784061694031, 6.191420772757676, 6.111831802402018, 5.796432298980451, 5.310627105793377, 4.475043573955385, 4.066397426711567, 3.9286756233109905, 3.8446330357994314, 3.7816135807398696, 3.7060115069664548, 3.7060115069664548, 3.7060115069664548, 3.589911363064588, 3.1995693248970074, 3.1995693248970074, 2.8185407527101334, 2.772467954515071, 2.2798596241005087, 2.2798596241005087, 27.115415740075335, 15.470397025816103, 13.583982147983782, 11.624755395882602, 10.51483054980135, 10.058594030939664, 9.35132064794432, 7.038387976967744, 6.2590619217942765, 5.820052035567506, 5.761726309401451, 5.616590984281459, 5.343357932508442, 5.288260603389069, 5.024224063886789, 4.976827080214402, 4.976827080214402, 4.898363326705025, 3.838187930951227, 3.7718839410913927, 3.656914637402453, 3.4909937282585326, 3.2732143605566315, 2.9565943909171284, 2.9152648569209823, 2.9152648569209823, 2.9152648569209823, 2.9152648569209823, 2.9152648569209823, 2.9152648569209823, 2.9152648569209823, 2.9152648569209823, 2.9152648569209823, 2.9152648569209823, 2.9152648569209823, 2.9152648569209823, 2.9152648569209823, 2.9152648569209823, 20.924539109821012, 14.479150529525443, 12.101040061619097, 10.365619690689948, 9.189612105663171, 9.184932058429213, 7.779064855341283, 5.930301904382609, 5.924689170250606, 5.8566984313073025, 5.766416712825628, 5.766416712825628, 5.1713553521254525, 4.646198993096223, 4.612588564629312, 3.769001269686826, 3.551338728073037, 3.5405276291026677, 3.3614797490174144, 3.352627767182761, 3.3405118866833146, 3.3405118866833146, 3.3405118866833146, 3.3405118866833146, 3.3405118866833146, 3.3405118866833146, 3.2672603356216516, 3.1505906976726097, 3.004652490493231, 2.5597456513313843, 23.397245629017064, 22.936691792807757, 21.34182611003771, 14.001866990895882, 11.653035557776452, 9.706139436078143, 8.310288076971842, 8.21116989545459, 7.003440717216169, 6.46746385315019, 5.970648767361871, 5.622758891161499, 5.089690445232228, 4.7311911311790915, 4.472948243531262, 4.165049928858659, 3.799674737493657, 3.4069651957148968, 3.324729718872473, 3.324729718872473, 2.806448551554165, 2.7843447825532524, 2.748927893289277, 2.748927893289277, 2.748927893289277, 2.748927893289277, 2.256981444531925, 2.136118734082243, 1.8673131651042707, 1.830077798898834, 1.830077798898834, 1.830077798898834, 18.058815308779543, 16.510640630970947, 15.142819510011433, 14.000622197283974, 9.95681964133331, 9.594257032747091, 8.952217562627473, 7.561224151116832, 7.451279250633027, 7.0687673406535305, 6.814747541222562, 5.435797078798357, 4.8839967667859865, 4.881661465319918, 4.819858827320336, 4.584295648287084, 4.308304212811179, 4.06412477286194, 3.651935414836167, 3.1686040338443675, 3.0289807748653708, 2.9785869722152256, 2.921057846019141, 2.921057846019141, 2.9210576184069126, 2.491692321783728, 2.241527704475717, 2.162179350217524, 2.139409022862213, 2.100391507012805], \"loglift\": [30.0, 29.0, 28.0, 27.0, 26.0, 25.0, 24.0, 23.0, 22.0, 21.0, 20.0, 19.0, 18.0, 17.0, 16.0, 15.0, 14.0, 13.0, 12.0, 11.0, 10.0, 9.0, 8.0, 7.0, 6.0, 5.0, 4.0, 3.0, 2.0, 1.0, 2.162, 2.1606, 2.1605, 2.1586, 2.1584, 2.1582, 2.1579, 2.1577, 2.1573, 2.1567, 2.1563, 2.1557, 2.1553, 2.155, 2.1532, 2.1503, 2.15, 2.1496, 2.1488, 2.1485, 2.1484, 2.1484, 2.1479, 2.1467, 2.1453, 2.1447, 2.1446, 2.1437, 2.1428, 2.1398, 1.8558, 1.9256, 1.4212, 2.3939, 2.3938, 2.3925, 2.3918, 2.3913, 2.3908, 2.3902, 2.39, 2.3891, 2.389, 2.387, 2.3867, 2.3861, 2.3837, 2.3832, 2.3831, 2.3817, 2.3812, 2.3811, 2.381, 2.381, 2.3807, 2.3805, 2.3803, 2.3792, 2.3784, 2.3779, 2.3768, 2.3758, 2.3754, 2.4714, 2.4712, 2.4711, 2.4696, 2.4688, 2.4682, 2.4674, 2.4664, 2.4664, 2.4659, 2.4642, 2.4628, 2.4617, 2.4611, 2.4608, 2.4598, 2.4595, 2.4577, 2.4577, 2.4562, 2.4558, 2.4553, 2.4547, 2.4539, 2.4536, 2.4527, 2.4513, 2.4507, 2.4439, 2.443, 1.874, 1.8118, 2.839, 2.8381, 2.8364, 2.8359, 2.8353, 2.8343, 2.8342, 2.8328, 2.8308, 2.8308, 2.8304, 2.8303, 2.8266, 2.8244, 2.8194, 2.8185, 2.8078, 2.7991, 2.7967, 2.7953, 2.7951, 2.7923, 2.7868, 2.7771, 2.7712, 2.7707, 2.7616, 2.7509, 2.7281, 2.7169, 2.0066, 2.0395, 2.9875, 2.9863, 2.9852, 2.977, 2.973, 2.9707, 2.9703, 2.9665, 2.9653, 2.9595, 2.9557, 2.9526, 2.9464, 2.9461, 2.946, 2.9048, 2.8991, 2.8979, 2.8897, 2.854, 2.8487, 2.8345, 2.7907, 2.7298, 2.7296, 2.7226, 2.7226, 2.6154, 2.4754, 2.4754, 2.2661, 2.4754, 2.4754, 3.6297, 3.6256, 3.6241, 3.6208, 3.619, 3.6165, 3.6138, 3.612, 3.6073, 3.6047, 3.5984, 3.5954, 3.592, 3.5912, 3.5908, 3.5894, 3.5863, 3.5842, 3.5809, 3.5801, 3.5764, 3.5662, 3.5657, 3.564, 3.5299, 3.5276, 3.5015, 3.49, 3.4802, 3.4749, 3.6623, 3.6619, 3.6611, 3.6556, 3.6552, 3.6514, 3.6486, 3.647, 3.646, 3.6405, 3.6389, 3.6361, 3.616, 3.6123, 3.6, 3.5917, 3.5831, 3.579, 3.5722, 3.556, 3.5394, 3.5341, 3.5288, 3.4992, 3.4777, 3.4777, 3.4777, 3.4777, 3.4777, 3.4777, 3.4777, 3.4777, 3.8031, 3.7999, 3.7987, 3.7884, 3.7793, 3.7682, 3.7659, 3.7634, 3.761, 3.7411, 3.7363, 3.7354, 3.7344, 3.7344, 3.7094, 3.7093, 3.707, 3.6965, 3.6955, 3.6896, 3.6766, 3.6748, 3.6736, 3.6698, 3.6359, 3.6265, 3.6128, 3.591, 3.5863, 3.5563, 3.905, 3.9006, 3.8987, 3.898, 3.895, 3.8925, 3.892, 3.8916, 3.8792, 3.8776, 3.8673, 3.8609, 3.8599, 3.8574, 3.8508, 3.8359, 3.8307, 3.8253, 3.8203, 3.811, 3.8068, 3.804, 3.8011, 3.8004, 3.7913, 3.787, 3.7837, 3.7778, 3.763, 3.7512, 3.9236, 3.923, 3.9198, 3.9189, 3.9182, 3.9149, 3.9063, 3.903, 3.9022, 3.9001, 3.8993, 3.8978, 3.8886, 3.8859, 3.8826, 3.8792, 3.8786, 3.8782, 3.8678, 3.8645, 3.8618, 3.8586, 3.845, 3.8344, 3.8072, 3.7951, 3.7892, 3.7843, 3.7784, 3.7741, 3.9262, 3.9261, 3.9222, 3.9196, 3.9165, 3.9162, 3.9151, 3.9149, 3.9071, 3.903, 3.896, 3.8743, 3.8732, 3.871, 3.8668, 3.8664, 3.8569, 3.8394, 3.8178, 3.805, 3.8038, 3.7767, 3.7635, 3.7635, 3.7561, 3.7541, 3.7444, 3.7389, 3.7353, 3.7306, 3.9457, 3.9421, 3.9392, 3.9341, 3.9267, 3.9189, 3.8989, 3.8813, 3.8745, 3.8466, 3.8428, 3.8334, 3.8238, 3.8194, 3.8142, 3.8107, 3.8092, 3.8055, 3.7835, 3.7581, 3.745, 3.7437, 3.7403, 3.688, 3.6792, 3.6767, 3.6703, 3.6661, 3.6384, 3.5965, 2.6087, 3.9938, 3.9912, 3.9796, 3.9786, 3.9784, 3.9725, 3.966, 3.9609, 3.957, 3.9541, 3.9516, 3.9486, 3.9408, 3.9347, 3.9155, 3.9094, 3.8979, 3.8941, 3.8874, 3.8867, 3.8775, 3.8506, 3.8286, 3.8277, 3.8259, 3.8058, 3.7916, 3.7058, 3.5962, 3.5924, 4.0101, 4.0098, 4.0092, 4.0031, 3.9978, 3.9916, 3.9897, 3.9888, 3.9821, 3.9729, 3.9721, 3.9703, 3.966, 3.9533, 3.949, 3.9083, 3.9002, 3.896, 3.8913, 3.8868, 3.872, 3.8694, 3.8679, 3.8668, 3.8444, 3.8282, 3.8172, 3.7303, 3.703, 3.6625, 4.0666, 4.0629, 4.0548, 4.0518, 4.0506, 4.0471, 4.0467, 4.044, 4.0391, 4.0378, 4.0275, 4.02, 4.0191, 4.0191, 4.0151, 4.011, 4.0108, 4.0051, 4.0003, 4.0003, 3.9862, 3.9811, 3.977, 3.9768, 3.9746, 3.9724, 3.9669, 3.9444, 3.942, 3.8895, 4.0921, 4.0898, 4.0843, 4.0796, 4.077, 4.0768, 4.0673, 4.0658, 4.0636, 4.0607, 4.0586, 4.0585, 4.0535, 4.05, 4.0476, 4.0401, 4.0398, 4.0385, 4.0323, 4.0288, 4.014, 4.0082, 4.0061, 4.0061, 3.9995, 3.9987, 3.993, 3.9912, 3.986, 3.9806, 4.1054, 4.0977, 4.0917, 4.0911, 4.0895, 4.0891, 4.0851, 4.0711, 4.0704, 4.0689, 4.0655, 4.0609, 4.0601, 4.0593, 4.0508, 4.0467, 4.0465, 4.0452, 4.0412, 4.0394, 4.0349, 4.0324, 4.029, 4.0162, 4.008, 4.0063, 4.0055, 4.0027, 3.9957, 3.9865, 4.1391, 4.1354, 4.1292, 4.1241, 4.1226, 4.0958, 4.0924, 4.0841, 4.078, 4.0776, 4.0716, 4.067, 4.0561, 4.0476, 4.0436, 4.0413, 4.0364, 4.0293, 4.0269, 4.0091, 4.0081, 4.0077, 4.0009, 3.9913, 3.9881, 3.9848, 3.9719, 3.9654, 3.9509, 3.9383, 3.9383, 4.2754, 4.271, 4.2637, 4.261, 4.2593, 4.238, 4.2342, 4.2294, 4.2236, 4.2014, 4.1996, 4.1974, 4.1959, 4.1944, 4.1788, 4.1668, 4.1539, 4.1378, 4.1378, 4.1378, 4.1373, 4.1314, 4.1292, 4.1198, 4.1194, 4.1149, 4.0856, 4.0783, 4.0753, 4.0487, 4.2744, 4.2727, 4.2708, 4.2672, 4.259, 4.2474, 4.2444, 4.2437, 4.2435, 4.2298, 4.2287, 4.2253, 4.1895, 4.1837, 4.166, 4.1504, 4.1427, 4.1378, 4.1007, 4.0861, 3.9968, 3.9599, 3.9599, 3.9599, 3.9599, 3.9599, 3.8798, 3.8798, 3.8798, 3.8798, 3.8798, 3.8798, 4.2838, 4.2707, 4.2699, 4.2683, 4.2672, 4.2671, 4.267, 4.2668, 4.2612, 4.243, 4.2417, 4.2345, 4.2181, 4.2084, 4.1924, 4.1718, 4.1683, 4.1537, 4.117, 4.0833, 4.0787, 4.0199, 3.9884, 3.8568, 3.8568, 3.8568, 3.8568, 3.8568, 3.8568, 3.8512, 4.305, 4.3018, 4.2992, 4.2974, 4.2779, 4.263, 4.2623, 4.2579, 4.2571, 4.2567, 4.2566, 4.2514, 4.2391, 4.2379, 4.2241, 4.2229, 4.2203, 4.2189, 4.2149, 4.2043, 4.1992, 4.1976, 4.1834, 4.1794, 4.1687, 4.167, 4.1601, 4.158, 4.1568, 4.1519, 4.1519, 4.3951, 4.3899, 4.3841, 4.3659, 4.3615, 4.3519, 4.3495, 4.3428, 4.3417, 4.3266, 4.3264, 4.326, 4.3252, 4.3184, 4.317, 4.3141, 4.3128, 4.307, 4.3054, 4.3012, 4.2986, 4.298, 4.2885, 4.2878, 4.2873, 4.284, 4.2732, 4.2637, 4.2508, 4.2507, 4.413, 4.4125, 4.4036, 4.3955, 4.3915, 4.3746, 4.3654, 4.3612, 4.3517, 4.3464, 4.3276, 4.2954, 4.2857, 4.2787, 4.1888, 4.1288, 4.0857, 4.0177, 3.906, 3.906, 3.906, 3.906, 3.8688, 3.8098, 3.6833, 3.4377, 3.1866, 3.1866, 3.0364, 2.8222, 4.4351, 4.4337, 4.4262, 4.4012, 4.3919, 4.3827, 4.3807, 4.3779, 4.3595, 4.3516, 4.3469, 4.3446, 4.3415, 4.3118, 4.3057, 4.3025, 4.3016, 4.2992, 4.2884, 4.2797, 4.2707, 4.2553, 4.2553, 4.2553, 4.2553, 4.2553, 4.2553, 4.2553, 4.2553, 4.2553, 4.2553, 4.2553, 4.4397, 4.4388, 4.4358, 4.4245, 4.423, 4.4216, 4.4205, 4.4145, 4.4124, 4.4035, 4.4001, 4.3899, 4.3865, 4.3586, 4.3424, 4.2353, 4.2273, 4.2085, 4.1582, 3.8922, 3.8922, 3.7057, 3.7057, 3.7057, 3.7057, 3.7057, 3.6408, 3.5833, 3.3933, 3.2297, 4.4476, 4.4359, 4.4332, 4.4318, 4.4304, 4.4291, 4.4223, 4.4211, 4.4173, 4.4053, 4.3951, 4.3856, 4.3832, 4.3824, 4.3811, 4.3793, 4.3753, 4.3751, 4.3703, 4.3693, 4.3692, 4.3594, 4.357, 4.3447, 4.3075, 4.3002, 4.2996, 4.2946, 4.2875, 4.2832, 4.4656, 4.4628, 4.4611, 4.4565, 4.4522, 4.4479, 4.4382, 4.4311, 4.4268, 4.4248, 4.4206, 4.4206, 4.4171, 4.4042, 4.3939, 4.3907, 4.3891, 4.3584, 4.3557, 4.3556, 4.3555, 4.3555, 4.3555, 4.3555, 4.3555, 4.3555, 4.3555, 4.3555, 4.3555, 4.3555, 4.4842, 4.4774, 4.4735, 4.4687, 4.4597, 4.4592, 4.4548, 4.4443, 4.4422, 4.4389, 4.4388, 4.4299, 4.4227, 4.4197, 4.4172, 4.3986, 4.3887, 4.3886, 4.3843, 4.3354, 4.3333, 4.3128, 4.3007, 4.298, 4.2934, 4.2887, 4.2338, 4.2328, 4.2328, 4.2328, 4.4822, 4.4747, 4.474, 4.4706, 4.4612, 4.4477, 4.4458, 4.4158, 4.4157, 4.4009, 4.3995, 4.3909, 4.3899, 4.3793, 4.3753, 4.3745, 4.3724, 4.3519, 4.3383, 4.3383, 4.3383, 4.3279, 4.3242, 4.3084, 4.2915, 4.2909, 4.2909, 4.2909, 4.2909, 4.2909, 4.5362, 4.522, 4.5163, 4.5137, 4.5117, 4.5094, 4.5068, 4.499, 4.4833, 4.4823, 4.4602, 4.4343, 4.4323, 4.4323, 4.4044, 4.3952, 4.3952, 4.3781, 4.3761, 4.3649, 4.3388, 4.3296, 4.3296, 4.3296, 4.3135, 4.3088, 4.2811, 4.2787, 4.2744, 4.2042, 4.5341, 4.5306, 4.5186, 4.5122, 4.5099, 4.5052, 4.4978, 4.4974, 4.4873, 4.4797, 4.4797, 4.4764, 4.4741, 4.4725, 4.4707, 4.4573, 4.4504, 4.4456, 4.4355, 4.4352, 4.4341, 4.4219, 4.4186, 4.402, 4.3953, 4.3942, 4.3891, 4.3753, 4.3397, 4.332, 4.5392, 4.5377, 4.528, 4.5276, 4.5219, 4.5197, 4.5159, 4.5158, 4.5046, 4.5009, 4.4944, 4.4799, 4.4798, 4.4748, 4.4719, 4.4693, 4.4533, 4.4386, 4.4361, 4.435, 4.4343, 4.43, 4.4279, 4.42, 4.4181, 4.4137, 4.4132, 4.3745, 4.3365, 4.3349, 4.5734, 4.5605, 4.5523, 4.5313, 4.5164, 4.5164, 4.5131, 4.5039, 4.4994, 4.4821, 4.4723, 4.4669, 4.4659, 4.4433, 4.4334, 4.4272, 4.4257, 4.406, 4.4045, 4.3902, 4.3849, 4.3794, 4.3774, 4.3774, 4.3738, 4.3738, 4.373, 4.3716, 4.3662, 4.3652, 4.5762, 4.5743, 4.5701, 4.5524, 4.5523, 4.5411, 4.5344, 4.5165, 4.5072, 4.4996, 4.4907, 4.4782, 4.4186, 4.4186, 4.4186, 4.397, 4.363, 4.3273, 4.2244, 4.1683, 4.0183, 3.3375, 3.3375, 3.3375, 3.3375, 3.3375, 3.3375, 3.3375, 3.3375, 3.3375, 2.5582, 3.3375, 4.5928, 4.5859, 4.5794, 4.5774, 4.5738, 4.5606, 4.5116, 4.4781, 4.4766, 4.4513, 4.4404, 4.3872, 4.3815, 4.3814, 4.3802, 4.3802, 4.3525, 4.3525, 4.3525, 4.3525, 4.3525, 4.3525, 4.3525, 4.3525, 4.3145, 4.2879, 4.2879, 4.2827, 4.279, 4.2705, 4.6912, 4.6882, 4.6668, 4.6584, 4.6482, 4.6454, 4.6352, 4.632, 4.6192, 4.6116, 4.6061, 4.5918, 4.5905, 4.5816, 4.5794, 4.5712, 4.5611, 4.5577, 4.5318, 4.5153, 4.4958, 4.4915, 4.4913, 4.4842, 4.4842, 4.4299, 4.3739, 4.3677, 4.3458, 4.2434, 4.7184, 4.6924, 4.6767, 4.6576, 4.6541, 4.654, 4.6478, 4.6441, 4.6425, 4.6248, 4.6152, 4.6061, 4.4752, 4.3343, 4.1172, 3.9847, 3.7912, 3.6631, 3.6631, 3.6631, 3.6631, 3.0764, 2.6676, 2.417, 2.3762, 1.3053, 1.3053, 1.3053, 1.3053, 1.0516, 1.0516, 1.0516, 0.5591, 0.5591, 4.7222, 4.7094, 4.705, 4.7019, 4.6974, 4.6926, 4.6796, 4.6688, 4.6673, 4.6668, 4.6656, 4.6524, 4.6522, 4.6418, 4.6339, 4.6336, 4.5248, 4.4984, 4.4666, 4.4477, 4.4149, 4.3342, 4.3311, 4.2397, 4.2264, 4.0444, 3.9184, 3.9148, 3.9148, 3.9148, 3.9148, 4.7494, 4.7458, 4.7197, 4.6916, 4.6839, 4.6795, 4.6678, 4.6644, 4.6569, 4.6475, 4.6459, 4.6392, 4.6316, 4.6286, 4.6065, 4.5917, 4.5885, 4.5862, 4.5841, 4.5796, 4.5678, 4.5662, 4.5648, 4.5648, 4.5648, 4.5547, 4.5301, 4.5294, 4.487, 4.487, 4.487, 4.7546, 4.7474, 4.7405, 4.7397, 4.7262, 4.7154, 4.7118, 4.6902, 4.6851, 4.68, 4.67, 4.6623, 4.6575, 4.6517, 4.6489, 4.6307, 4.6251, 4.6247, 4.6197, 4.6108, 4.6085, 4.6024, 4.5995, 4.5985, 4.5646, 4.5557, 4.5148, 4.5143, 4.5076, 4.5042, 4.777, 4.7545, 4.7398, 4.7264, 4.7023, 4.6968, 4.6874, 4.6825, 4.682, 4.6803, 4.6738, 4.6737, 4.6734, 4.6667, 4.66, 4.6508, 4.5996, 4.5975, 4.5925, 4.5882, 4.5762, 4.5762, 4.5762, 4.5762, 4.5762, 4.5762, 4.5762, 4.5762, 4.5762, 4.5762, 3.8279, 4.7808, 4.7722, 4.772, 4.7663, 4.7467, 4.7416, 4.7388, 4.7281, 4.7185, 4.7118, 4.7018, 4.6906, 4.6889, 4.6829, 4.6777, 4.6476, 4.6465, 4.6258, 4.6225, 4.5999, 4.5787, 4.5499, 4.5445, 4.5445, 4.431, 4.342, 4.342, 4.342, 4.342, 4.342, 4.342, 4.342, 4.342, 4.7766, 4.7681, 4.7657, 4.7445, 4.7414, 4.725, 4.7203, 4.7134, 4.7071, 4.7061, 4.7041, 4.6982, 4.6917, 4.6861, 4.6567, 4.6567, 4.6567, 4.6567, 4.6567, 4.6567, 4.6567, 4.6567, 4.64, 4.6334, 4.6298, 4.629, 4.6132, 4.6029, 4.5995, 4.5985, 4.5985, 4.5985, 4.797, 4.7866, 4.7795, 4.7663, 4.7561, 4.7553, 4.7535, 4.7179, 4.7077, 4.6881, 4.6755, 4.6707, 4.6644, 4.6573, 4.6487, 4.6466, 4.5991, 4.591, 4.5729, 4.472, 4.4698, 4.4653, 4.4577, 4.4564, 4.4355, 4.4258, 4.4017, 4.3922, 4.3922, 4.3889, 4.7963, 4.79, 4.7899, 4.7773, 4.7733, 4.7654, 4.7384, 4.7317, 4.7314, 4.7186, 4.7044, 4.6983, 4.6926, 4.6875, 4.6832, 4.671, 4.6603, 4.6472, 4.6371, 4.629, 4.6266, 4.6266, 4.6204, 4.6204, 4.5905, 4.5856, 4.5336, 4.4944, 4.4721, 4.4721, 4.7964, 4.777, 4.7691, 4.7688, 4.7667, 4.7516, 4.7451, 4.7278, 4.7242, 4.7108, 4.7096, 4.7052, 4.6978, 4.695, 4.6939, 4.6928, 4.6867, 4.68, 4.6791, 4.679, 4.679, 4.6498, 4.6438, 4.6418, 4.6358, 4.6071, 4.5977, 4.5946, 4.5946, 4.5946, 4.5946, 4.873, 4.8504, 4.8389, 4.832, 4.8205, 4.8058, 4.7959, 4.7531, 4.7521, 4.7499, 4.7462, 4.7399, 4.7391, 4.7376, 4.7319, 4.7192, 4.7062, 4.6399, 4.6391, 4.6371, 4.6067, 4.5582, 4.4905, 4.4905, 4.4905, 4.4807, 4.4538, 4.4456, 4.4456, 4.421, 3.896, 4.9856, 4.9712, 4.9356, 4.9303, 4.907, 4.9005, 4.8851, 4.8722, 4.8698, 4.8585, 4.8496, 4.8185, 4.8042, 4.7992, 4.7929, 4.7856, 4.7669, 4.7634, 4.7405, 4.6996, 4.6737, 4.6374, 4.6276, 4.626, 4.626, 4.626, 4.626, 4.626, 4.626, 4.626, 4.626, 4.626, 4.626, 4.977, 4.9513, 4.9479, 4.9473, 4.9254, 4.9168, 4.9052, 4.9033, 4.9032, 4.9028, 4.8862, 4.8838, 4.8707, 4.8686, 4.8599, 4.8443, 4.8087, 4.7852, 4.7761, 4.7701, 4.7654, 4.7596, 4.7596, 4.7596, 4.7501, 4.7122, 4.7122, 4.6629, 4.6558, 4.5574, 4.5574, 4.9927, 4.9684, 4.9604, 4.9493, 4.941, 4.9371, 4.9302, 4.8974, 4.8804, 4.8687, 4.867, 4.8626, 4.8536, 4.8516, 4.8417, 4.8398, 4.8398, 4.8365, 4.7779, 4.773, 4.764, 4.7497, 4.7285, 4.691, 4.6854, 4.6854, 4.6854, 4.6854, 4.6854, 4.6854, 4.6854, 4.6854, 4.6854, 4.6854, 4.6854, 4.6854, 4.6854, 4.6854, 5.0567, 5.038, 5.0258, 5.0133, 5.0019, 5.0019, 4.9836, 4.9452, 4.945, 4.9431, 4.9405, 4.9405, 4.9207, 4.8986, 4.897, 4.8459, 4.8282, 4.8273, 4.8106, 4.8097, 4.8085, 4.8085, 4.8085, 4.8085, 4.8085, 4.8085, 4.801, 4.7881, 4.7703, 4.7007, 5.0836, 5.0828, 5.08, 5.0582, 5.0453, 5.0296, 5.0135, 5.0122, 4.9923, 4.9809, 4.9684, 4.9582, 4.9396, 4.9245, 4.912, 4.8947, 4.8701, 4.8368, 4.8286, 4.8286, 4.7641, 4.7607, 4.7551, 4.7551, 4.7551, 4.7551, 4.6542, 4.62, 4.522, 4.5052, 4.5052, 4.5052, 5.0918, 5.0873, 5.0824, 5.0776, 5.0514, 5.0479, 5.041, 5.0218, 5.0199, 5.013, 5.008, 4.9717, 4.9508, 4.9507, 4.9481, 4.9372, 4.9227, 4.9081, 4.8782, 4.8316, 4.8149, 4.8084, 4.8006, 4.8006, 4.8006, 4.7286, 4.6702, 4.648, 4.6412, 4.6292], \"logprob\": [30.0, 29.0, 28.0, 27.0, 26.0, 25.0, 24.0, 23.0, 22.0, 21.0, 20.0, 19.0, 18.0, 17.0, 16.0, 15.0, 14.0, 13.0, 12.0, 11.0, 10.0, 9.0, 8.0, 7.0, 6.0, 5.0, 4.0, 3.0, 2.0, 1.0, -1.7985999584197998, -2.6770999431610107, -2.707900047302246, -3.2500998973846436, -3.290299892425537, -3.3415000438690186, -3.3880999088287354, -3.430000066757202, -3.4967000484466553, -3.607300043106079, -3.6675000190734863, -3.745300054550171, -3.806999921798706, -3.840399980545044, -4.036799907684326, -4.304100036621094, -4.3267998695373535, -4.351900100708008, -4.411399841308594, -4.435200214385986, -4.438199996948242, -4.441800117492676, -4.476900100708008, -4.549200057983398, -4.6331000328063965, -4.665299892425537, -4.670599937438965, -4.721099853515625, -4.768099784851074, -4.905799865722656, -3.1691999435424805, -4.017199993133545, -4.6066999435424805, -2.2539000511169434, -2.303100109100342, -2.770400047302246, -2.9453001022338867, -3.0601000785827637, -3.158900022506714, -3.269700050354004, -3.3090999126434326, -3.4514999389648438, -3.4646999835968018, -3.711899995803833, -3.746500015258789, -3.8080999851226807, -4.030399799346924, -4.066800117492676, -4.0782999992370605, -4.182400226593018, -4.216400146484375, -4.221199989318848, -4.225200176239014, -4.2270002365112305, -4.25, -4.263999938964844, -4.27239990234375, -4.343400001525879, -4.38730001449585, -4.417099952697754, -4.478499889373779, -4.527500152587891, -4.55109977722168, -2.431999921798706, -2.510999917984009, -2.541800022125244, -2.9583001136779785, -3.106600046157837, -3.2202999591827393, -3.343899965286255, -3.4804000854492188, -3.488600015640259, -3.5443999767303467, -3.734299898147583, -3.8687000274658203, -3.9602999687194824, -4.011499881744385, -4.036300182342529, -4.106299877166748, -4.1290998458862305, -4.242099761962891, -4.243599891662598, -4.331699848175049, -4.351399898529053, -4.382500171661377, -4.412399768829346, -4.454100131988525, -4.470600128173828, -4.513999938964844, -4.577700138092041, -4.600500106811523, -4.859799861907959, -4.888500213623047, -3.3015999794006348, -4.216100215911865, -2.446199893951416, -2.65339994430542, -2.949700117111206, -3.022900104522705, -3.103300094604492, -3.228100061416626, -3.243499994277954, -3.385200023651123, -3.570199966430664, -3.5734000205993652, -3.6034998893737793, -3.6143999099731445, -1.8173999786376953, -3.998199939727783, -4.237800121307373, -4.2778000831604, -4.644899845123291, -4.87060022354126, -4.923600196838379, -4.955100059509277, -4.958199977874756, -2.939199924468994, -5.122600078582764, -5.287700176239014, -5.376399993896484, -5.3831000328063965, -5.506999969482422, -5.635799884796143, -5.86899995803833, -5.96750020980835, -2.7535998821258545, -3.135999917984009, -1.0887000560760498, -1.7806999683380127, -2.166100025177002, -3.377700090408325, -3.674499988555908, -3.815200090408325, -3.835599899291992, -4.027100086212158, -4.082600116729736, -4.304500102996826, -4.430300235748291, -4.522200107574463, -4.684500217437744, -4.690100193023682, -4.693600177764893, -5.390100002288818, -5.459799766540527, -5.473299980163574, -5.564300060272217, -5.890100002288818, -5.93179988861084, -3.525099992752075, -6.3078999519348145, -6.607900142669678, -6.608799934387207, -6.639100074768066, -6.639100074768066, -7.03410005569458, -7.427800178527832, -7.427800178527832, -2.49399995803833, -7.427800178527832, -7.427800178527832, -1.645300030708313, -2.359800100326538, -2.533600091934204, -2.8280999660491943, -2.964400053024292, -3.124500036239624, -3.2720999717712402, -3.358299970626831, -3.5585999488830566, -3.65339994430542, -3.851900100708008, -3.9368999004364014, -4.02370023727417, -4.042300224304199, -4.053400039672852, -4.085999965667725, -4.154099941253662, -4.199100017547607, -4.264800071716309, -4.280700206756592, -4.349299907684326, -4.518599987030029, -4.527100086212158, -4.551199913024902, -4.967800140380859, -4.991099834442139, -5.223999977111816, -5.313499927520752, -5.384799957275391, -5.421299934387207, -1.8948999643325806, -1.9744999408721924, -2.099100112915039, -2.7255001068115234, -2.7569000720977783, -3.0290000438690186, -3.1939001083374023, -3.2720000743865967, -3.319999933242798, -3.552799940109253, -3.610300064086914, -3.706199884414673, -4.211299896240234, -4.2820000648498535, -4.48960018157959, -4.6092000007629395, -4.7204999923706055, -4.770599842071533, -4.848100185394287, -5.0131001472473145, -5.1605000495910645, -5.20359992980957, -5.245299816131592, -5.45419979095459, -5.585400104522705, -5.585400104522705, -5.585400104522705, -5.585400104522705, -5.585400104522705, -5.585400104522705, -5.585400104522705, -5.585400104522705, -1.1819000244140625, -1.9085999727249146, -2.086899995803833, -2.97979998588562, -3.400099992752075, -3.7534000873565674, -3.8159000873565674, -3.876300096511841, -3.9316000938415527, -4.309100151062012, -4.381999969482422, -4.395899772644043, -4.409800052642822, -4.410799980163574, -4.722899913787842, -4.724100112915039, -4.748499870300293, -4.854700088500977, -4.864299774169922, -4.918799877166748, -5.0320000648498535, -5.04640007019043, -5.05649995803833, -5.0868000984191895, -5.326200008392334, -5.384900093078613, -5.465199947357178, -5.583399772644043, -5.607600212097168, -5.751200199127197, -2.0336999893188477, -2.48799991607666, -2.63919997215271, -2.689300060272217, -2.872999906539917, -3.009000062942505, -3.0332000255584717, -3.0543999671936035, -3.523699998855591, -3.570199966430664, -3.833699941635132, -3.9697000980377197, -3.989000082015991, -4.036399841308594, -4.153800010681152, -4.377200126647949, -4.445300102233887, -4.5121002197265625, -4.569900035858154, -4.671000003814697, -4.713799953460693, -4.741099834442139, -4.768700122833252, -4.775599956512451, -4.85830020904541, -4.894700050354004, -4.922500133514404, -4.970099925994873, -5.082499980926514, -5.164299964904785, -2.3348000049591064, -2.3884999752044678, -2.6435999870300293, -2.7076001167297363, -2.751800060272217, -2.9423999786376953, -3.315999984741211, -3.4284000396728516, -3.4532999992370605, -3.5178000926971436, -3.5411999225616455, -3.58489990234375, -3.81469988822937, -3.8747000694274902, -3.9430999755859375, -4.007699966430664, -4.018400192260742, -4.025599956512451, -4.202700138092041, -4.251699924468994, -4.291100025177002, -4.336699962615967, -4.508600234985352, -4.627200126647949, -4.881700038909912, -4.978799819946289, -5.02400016784668, -5.059599876403809, -5.101099967956543, -5.130799770355225, -2.329400062561035, -2.3362998962402344, -2.6554999351501465, -2.819700002670288, -2.9862000942230225, -3.0011000633239746, -3.05430006980896, -3.063800096511841, -3.3722000122070312, -3.5062999725341797, -3.696899890899658, -4.135300159454346, -2.4656999111175537, -4.188899993896484, -4.252900123596191, -4.258299827575684, -4.389400005340576, -4.597300052642822, -4.808000087738037, -4.917200088500977, -4.926499843597412, -5.125999927520752, -5.212299823760986, -5.212299823760986, -5.258200168609619, -5.270299911499023, -5.326900005340576, -5.357800006866455, -5.377500057220459, -5.403299808502197, -1.3353999853134155, -1.9876999855041504, -2.313800096511841, -2.7118000984191895, -3.1038999557495117, -3.401599884033203, -3.911799907684326, -4.217899799346924, -4.315999984741211, -4.646299839019775, -4.683700084686279, -4.7729997634887695, -4.857100009918213, -4.894199848175049, -4.935699939727783, -4.963399887084961, -4.974899768829346, -5.002699851989746, -5.156000137329102, -5.311200141906738, -5.384099960327148, -5.390999794006348, -5.4095001220703125, -5.659599781036377, -5.6971001625061035, -5.707900047302246, -5.734399795532227, -5.751299858093262, -5.859000205993652, -6.007599830627441, -2.416300058364868, -1.4386999607086182, -1.8876999616622925, -2.851799964904785, -2.9052000045776367, -2.9184000492095947, -3.176500082015991, -3.403599977493286, -3.5539000034332275, -3.653899908065796, -3.7230000495910645, -3.780400037765503, -3.8422999382019043, -3.9921998977661133, -4.095799922943115, -4.3694000244140625, -4.443299770355225, -4.571300029754639, -4.610000133514404, -4.675300121307373, -4.682199954986572, -4.76609992980957, -4.980800151824951, -5.13070011138916, -5.136600017547607, -5.148200035095215, -5.268400192260742, -5.3471999168396, -5.73859977722168, -6.114999771118164, -6.126100063323975, -1.9600000381469727, -1.9926999807357788, -2.069999933242798, -2.5994999408721924, -2.9035000801086426, -3.177299976348877, -3.246999979019165, -3.2780001163482666, -3.487299919128418, -3.7197999954223633, -3.7386999130249023, -3.7785000801086426, -3.865799903869629, -4.0920000076293945, -4.158299922943115, -4.642099857330322, -4.717899799346924, -4.755000114440918, -4.79449987411499, -4.8317999839782715, -4.946599960327148, -4.9654998779296875, -4.976600170135498, -4.98390007019043, -5.133699893951416, -5.231100082397461, -5.293399810791016, -5.698400020599365, -5.803400039672852, -5.945700168609619, -2.021399974822998, -2.3696000576019287, -2.8694000244140625, -3.008500099182129, -3.056999921798706, -3.1919000148773193, -3.2053000926971436, -3.296799898147583, -3.443700075149536, -3.4786999225616455, -3.7265000343322754, -3.8761000633239746, -3.892899990081787, -3.8935000896453857, -3.963200092315674, -4.031000137329102, -4.034299850463867, -4.1219000816345215, -4.189799785614014, -4.190199851989746, -4.368800163269043, -4.427199840545654, -4.472499847412109, -4.473899841308594, -4.4969000816345215, -4.520199775695801, -4.574399948120117, -4.774600028991699, -4.79449987411499, -5.152599811553955, -2.5569000244140625, -2.700000047683716, -2.967099905014038, -3.152600049972534, -3.242500066757202, -3.2472000122070312, -3.5206000804901123, -3.5571000576019287, -3.6087000370025635, -3.6751999855041504, -3.718899965286255, -3.721400022506714, -3.82069993019104, -3.884700059890747, -3.9260001182556152, -4.047299861907959, -4.052599906921387, -4.071000099182129, -4.159900188446045, -4.207099914550781, -4.3871002197265625, -4.449100017547607, -4.471099853515625, -4.47160005569458, -4.537199974060059, -4.545000076293945, -4.599299907684326, -4.6153998374938965, -4.6620001792907715, -4.707799911499023, -2.178299903869629, -2.7235000133514404, -3.0078999996185303, -3.0320000648498535, -3.0920000076293945, -3.1082000732421875, -3.248300075531006, -3.6268999576568604, -3.6421000957489014, -3.676300048828125, -3.7467000484466553, -3.836199998855591, -3.8506999015808105, -3.8650999069213867, -4.009799957275391, -4.0721001625061035, -4.0746002197265625, -4.093900203704834, -4.151199817657471, -4.1757001876831055, -4.234499931335449, -4.26609992980957, -4.307799816131592, -4.452099800109863, -4.534299850463867, -4.550600051879883, -4.558700084686279, -4.58489990234375, -4.648200035095215, -4.726600170135498, -1.6442999839782715, -2.095900058746338, -2.5713999271392822, -2.8445000648498535, -2.912400007247925, -3.6940999031066895, -3.7625999450683594, -3.910900115966797, -4.008500099182129, -4.015100002288818, -4.1031999588012695, -4.164899826049805, -4.30049991607666, -4.3958001136779785, -4.437099933624268, -4.460899829864502, -4.508900165557861, -4.575399875640869, -4.597099781036377, -4.746099948883057, -4.754000186920166, -4.756800174713135, -4.808499813079834, -4.877600193023682, -4.899799823760986, -4.922500133514404, -5.005899906158447, -5.04610013961792, -5.130799770355225, -5.200099945068359, -5.200099945068359, -1.604099988937378, -2.0866000652313232, -2.576200008392334, -2.711199998855591, -2.7892000675201416, -3.446199893951416, -3.5315001010894775, -3.6273000240325928, -3.734600067138672, -4.063700199127197, -4.086900234222412, -4.114299774169922, -4.132699966430664, -4.149799823760986, -4.321000099182129, -4.4369001388549805, -4.548900127410889, -4.674300193786621, -4.674300193786621, -4.674300193786621, -4.678299903869629, -4.7210001945495605, -4.736700057983398, -4.80079984664917, -4.803800106048584, -4.833499908447266, -5.009500026702881, -5.0493998527526855, -5.0655999183654785, -5.200300216674805, -1.9215999841690063, -2.0878000259399414, -2.2362000942230225, -2.477299928665161, -2.8691999912261963, -3.252500057220459, -3.3329999446868896, -3.349400043487549, -3.3552000522613525, -3.6507999897003174, -3.6705000400543213, -3.733099937438965, -4.224100112915039, -4.286900043487549, -4.458199977874756, -4.589799880981445, -4.649400234222412, -4.6859002113342285, -4.9303998947143555, -5.014599800109863, -5.433199882507324, -5.573200225830078, -5.573200225830078, -5.573200225830078, -5.573200225830078, -5.573200225830078, -5.836100101470947, -5.836100101470947, -5.836100101470947, -5.836100101470947, -5.836100101470947, -5.836100101470947, -1.7086999416351318, -2.680299997329712, -2.7179999351501465, -2.7860000133514404, -2.832900047302246, -2.839099884033203, -2.8396999835968018, -2.8510000705718994, -3.053800106048584, -3.52839994430542, -3.5564000606536865, -3.6937999725341797, -3.9530999660491943, -4.081500053405762, -4.2652997970581055, -4.463900089263916, -4.49459981918335, -4.613800048828125, -4.868100166320801, -5.061600208282471, -5.0858001708984375, -5.360000133514404, -5.486100196838379, -5.916200160980225, -5.916200160980225, -5.916200160980225, -5.916200160980225, -5.916200160980225, -5.916200160980225, -5.932000160217285, -2.5336999893188477, -2.688699960708618, -2.801500082015991, -2.8761000633239746, -3.4358999729156494, -3.7227001190185547, -3.7353999614715576, -3.8060998916625977, -3.818700075149536, -3.825000047683716, -3.826900005340576, -3.902899980545044, -4.066299915313721, -4.081600189208984, -4.237100124359131, -4.249599933624268, -4.275899887084961, -4.290200233459473, -4.329400062561035, -4.427800178527832, -4.472099781036377, -4.4857001304626465, -4.600100040435791, -4.630000114440918, -4.706999778747559, -4.718800067901611, -4.764999866485596, -4.7789998054504395, -4.786499977111816, -4.8180999755859375, -4.8180999755859375, -2.17549991607666, -2.486799955368042, -2.751199960708618, -3.29830002784729, -3.397900104522705, -3.5840001106262207, -3.626699924468994, -3.7356998920440674, -3.7518999576568604, -3.961199998855591, -3.964200019836426, -3.9691998958587646, -3.9784998893737793, -4.059999942779541, -4.076099872589111, -4.1082000732421875, -4.122600078582764, -4.183499813079834, -4.199999809265137, -4.241300106048584, -4.266300201416016, -4.271599769592285, -4.358699798583984, -4.364699840545654, -4.368800163269043, -4.397600173950195, -4.485099792480469, -4.557400226593018, -4.649199962615967, -4.649700164794922, -1.5716999769210815, -1.628999948501587, -2.3510000705718994, -2.73799991607666, -2.888000011444092, -3.349299907684326, -3.5339999198913574, -3.6105000972747803, -3.761699914932251, -3.8380000591278076, -4.0725998878479, -4.385499954223633, -4.465000152587891, -4.519000053405762, -5.055300235748291, -5.316500186920166, -5.4770002365112305, -5.697700023651123, -6.002200126647949, -6.002200126647949, -6.002200126647949, -6.002200126647949, -6.092299938201904, -6.226200103759766, -6.484600067138672, -6.912300109863281, -7.287899971008301, -7.287899971008301, -7.49370002746582, -7.770400047302246, -2.0336999893188477, -2.137200117111206, -2.561199903488159, -3.3322999477386475, -3.5167999267578125, -3.674299955368042, -3.704699993133545, -3.747499942779541, -3.9883999824523926, -4.078100204467773, -4.127799987792969, -4.151500225067139, -4.182700157165527, -4.443900108337402, -4.490300178527832, -4.514100074768066, -4.521100044250488, -4.538400173187256, -4.61359977722168, -4.67140007019043, -4.728099822998047, -4.818999767303467, -4.818999767303467, -4.818999767303467, -4.818999767303467, -4.818999767303467, -4.818999767303467, -4.818999767303467, -4.818999767303467, -4.818999767303467, -4.818999767303467, -4.818999767303467, -2.045099973678589, -2.1096999645233154, -2.3029000759124756, -2.816200017929077, -2.8691999912261963, -2.9138998985290527, -2.948899984359741, -3.124000072479248, -3.1760001182556152, -3.380500078201294, -3.4495999813079834, -3.6303999423980713, -3.684999942779541, -4.049300193786621, -4.21619987487793, -4.948800086975098, -4.989500045776367, -5.079100131988525, -5.292399883270264, -6.078000068664551, -6.078000068664551, -6.468699932098389, -6.468699932098389, -6.468699932098389, -6.468699932098389, -6.468699932098389, -6.588500022888184, -6.689599990844727, -6.997399806976318, -7.2378997802734375, -2.430799961090088, -2.903599977493286, -2.9860000610351562, -3.02839994430542, -3.0664000511169434, -3.102799892425537, -3.270400047302246, -3.2964000701904297, -3.3775999546051025, -3.5982000827789307, -3.7565999031066895, -3.884399890899658, -3.915299892425537, -3.924999952316284, -3.9402999877929688, -3.9630000591278076, -4.008800029754639, -4.010900020599365, -4.064799785614014, -4.075300216674805, -4.076399803161621, -4.176199913024902, -4.19980001449585, -4.311600208282471, -4.595600128173828, -4.644100189208984, -4.648200035095215, -4.680099964141846, -4.724400043487549, -4.75, -2.6410999298095703, -2.745500087738037, -2.806299924850464, -2.9556000232696533, -3.0766000747680664, -3.186000108718872, -3.395900011062622, -3.526400089263916, -3.598599910736084, -3.631500005722046, -3.6946001052856445, -3.6946001052856445, -3.745699882507324, -3.914299964904785, -4.031599998474121, -4.066500186920166, -4.0833001136779785, -4.36329984664917, -4.384900093078613, -4.3856000900268555, -4.38670015335083, -4.38670015335083, -4.38670015335083, -4.38670015335083, -4.38670015335083, -4.38670015335083, -4.38670015335083, -4.38670015335083, -4.38670015335083, -4.38670015335083, -2.1782000064849854, -2.5355000495910645, -2.6991000175476074, -2.865499973297119, -3.122499942779541, -3.135999917984009, -3.240999937057495, -3.4535999298095703, -3.4916000366210938, -3.549999952316284, -3.5508999824523926, -3.6919000148773193, -3.79259991645813, -3.8322999477386475, -3.8643999099731445, -4.076099872589111, -4.174499988555908, -4.175099849700928, -4.215799808502197, -4.59250020980835, -4.606299877166748, -4.732900142669678, -4.801799774169922, -4.816999912261963, -4.841899871826172, -4.866199970245361, -5.125999927520752, -5.130300045013428, -5.130300045013428, -5.130300045013428, -2.3043999671936035, -2.6531999111175537, -2.6826000213623047, -2.805799961090088, -3.0861001014709473, -3.3907999992370605, -3.4270999431610107, -3.8819000720977783, -3.8824000358581543, -4.051700115203857, -4.066100120544434, -4.152299880981445, -4.161900043487549, -4.259799957275391, -4.294300079345703, -4.300600051879883, -4.3180999755859375, -4.477399826049805, -4.572299957275391, -4.572299957275391, -4.572299957275391, -4.6402997970581055, -4.66349983215332, -4.757500171661377, -4.8506999015808105, -4.853300094604492, -4.853300094604492, -4.853300094604492, -4.853300094604492, -4.853300094604492, -1.7754000425338745, -2.6034998893737793, -2.8071999549865723, -2.88919997215271, -2.948899984359741, -3.011699914932251, -3.081199884414673, -3.2592999935150146, -3.5485000610351562, -3.5659000873565674, -3.8684000968933105, -4.1427001953125, -4.160699844360352, -4.160699844360352, -4.392099857330322, -4.45959997177124, -4.45959997177124, -4.574999809265137, -4.587500095367432, -4.656599998474121, -4.803800106048584, -4.851799964904785, -4.851799964904785, -4.851799964904785, -4.93149995803833, -4.954100131988525, -5.0782999992370605, -5.0883002281188965, -5.106299877166748, -5.372200012207031, -2.4437999725341797, -2.5927000045776367, -2.989000082015991, -3.1501998901367188, -3.201900005340576, -3.302299976348877, -3.4412999153137207, -3.450000047683716, -3.6140999794006348, -3.7223000526428223, -3.723400115966797, -3.766900062561035, -3.796299934387207, -3.8166000843048096, -3.839400053024292, -3.992000102996826, -4.063700199127197, -4.110300064086914, -4.2027997970581055, -4.205399990081787, -4.215400218963623, -4.317500114440918, -4.3429999351501465, -4.466000080108643, -4.511600017547607, -4.519400119781494, -4.553199768066406, -4.639800071716309, -4.837900161743164, -4.876800060272217, -2.688800096511841, -2.7411999702453613, -3.0290000438690186, -3.041300058364868, -3.1779000759124756, -3.2260000705718994, -3.3050999641418457, -3.3069000244140625, -3.509500026702881, -3.5689001083374023, -3.6654999256134033, -3.8543999195098877, -3.8559000492095947, -3.914099931716919, -3.9465999603271484, -3.974100112915039, -4.134099960327148, -4.263000011444092, -4.283199787139893, -4.292200088500977, -4.297699928283691, -4.331999778747559, -4.348400115966797, -4.407100200653076, -4.42140007019043, -4.452400207519531, -4.456099987030029, -4.699900150299072, -4.899499893188477, -4.907400131225586, -1.891700029373169, -2.585900068283081, -2.8650999069213867, -3.3547000885009766, -3.6013998985290527, -3.6013998985290527, -3.6494998931884766, -3.772700071334839, -3.8280999660491943, -4.017099857330322, -4.112299919128418, -4.160900115966797, -4.1697998046875, -4.353000164031982, -4.425000190734863, -4.468200206756592, -4.478600025177002, -4.604100227355957, -4.613100051879883, -4.696199893951416, -4.7256999015808105, -4.755199909210205, -4.765699863433838, -4.7657999992370605, -4.7846999168396, -4.7846999168396, -4.7891998291015625, -4.796199798583984, -4.823999881744385, -4.828800201416016, -1.7223999500274658, -1.8809000253677368, -2.1651999950408936, -2.886399984359741, -2.8894999027252197, -3.172600030899048, -3.3125, -3.613800048828125, -3.742799997329712, -3.8366000652313232, -3.9377999305725098, -4.065999984741211, -4.532800197601318, -4.532800197601318, -4.532800197601318, -4.664999961853027, -4.847099781036377, -5.013199806213379, -5.401199817657471, -5.574900150299072, -5.961999893188477, -7.140200138092041, -7.140200138092041, -7.140200138092041, -7.140200138092041, -7.140200138092041, -7.140200138092041, -7.140200138092041, -7.140200138092041, -7.140200138092041, -3.801500082015991, -7.140200138092041, -1.5401999950408936, -2.0982000827789307, -2.438800096511841, -2.5220000743865967, -2.659600019454956, -3.0485999584198, -3.854300022125244, -4.1855998039245605, -4.198500156402588, -4.394800186157227, -4.470399856567383, -4.782199859619141, -4.811299800872803, -4.812099933624268, -4.817800045013428, -4.817800045013428, -4.94980001449585, -4.94980001449585, -4.94980001449585, -4.94980001449585, -4.94980001449585, -4.94980001449585, -4.94980001449585, -4.949900150299072, -5.111599922180176, -5.213799953460693, -5.213799953460693, -5.2332000732421875, -5.246399879455566, -5.277100086212158, -1.8724000453948975, -2.0673000812530518, -2.876499891281128, -3.0764000415802, -3.2778000831604004, -3.3278000354766846, -3.488800048828125, -3.535599946975708, -3.7016000747680664, -3.7901999950408936, -3.849600076675415, -3.991499900817871, -4.002799987792969, -4.082399845123291, -4.1006999015808105, -4.168300151824951, -4.245999813079834, -4.270899772644043, -4.445499897003174, -4.544300079345703, -4.652200222015381, -4.674499988555908, -4.6757001876831055, -4.7118000984191895, -4.7118000984191895, -4.959700107574463, -5.173900127410889, -5.195799827575684, -5.269999980926514, -5.575200080871582, -0.8353999853134155, -2.639699935913086, -3.0557000637054443, -3.407900094985962, -3.4605000019073486, -3.4623000621795654, -3.551100015640259, -3.6001999378204346, -3.621500015258789, -3.827699899673462, -3.924999952316284, -4.010499954223633, -4.826300144195557, -5.349899768829346, -5.910600185394287, -6.18179988861084, -6.524499893188477, -6.727700233459473, -6.727700233459473, -6.727700233459473, -6.727700233459473, -7.525599956512451, -8.011300086975098, -8.293999671936035, -8.339200019836426, -9.47719955444336, -9.47719955444336, -9.47719955444336, -9.47719955444336, -9.73859977722168, -9.73859977722168, -9.73859977722168, -9.732399940490723, -9.732399940490723, -2.184299945831299, -2.6826999187469482, -2.8111000061035156, -2.890399932861328, -2.9983999729156494, -3.1015000343322754, -3.340100049972534, -3.504699945449829, -3.52620005607605, -3.532099962234497, -3.5485000610351562, -3.7137999534606934, -3.7167999744415283, -3.8310999870300293, -3.9102001190185547, -3.9126999378204346, -4.662099838256836, -4.79010009765625, -4.928999900817871, -5.005300045013428, -5.128300189971924, -5.39109992980957, -5.4004998207092285, -5.650300025939941, -2.786799907684326, -6.0858001708984375, -6.322700023651123, -6.328999996185303, -6.328999996185303, -6.328999996185303, -6.328999996185303, -2.0139000415802, -2.202399969100952, -3.0162999629974365, -3.4974000453948975, -3.598599910736084, -3.65310001373291, -3.7848000526428223, -3.8196001052856445, -3.8940000534057617, -3.9811999797821045, -3.9948999881744385, -4.0518999099731445, -4.11359977722168, -4.137199878692627, -4.296899795532227, -4.3927998542785645, -4.412399768829346, -4.42609977722168, -4.439000129699707, -4.465799808502197, -4.532800197601318, -4.541399955749512, -4.548999786376953, -4.548999786376953, -4.548999786376953, -4.603499889373779, -4.725599765777588, -4.729100227355957, -4.91540002822876, -4.91540002822876, -4.91540002822876, -2.314500093460083, -2.5810000896453857, -2.7829999923706055, -2.8052000999450684, -3.1117000579833984, -3.3048999309539795, -3.3617000579833984, -3.6530001163482666, -3.711699962615967, -3.7674999237060547, -3.869800090789795, -3.9426000118255615, -3.985300064086914, -4.035299777984619, -4.058199882507324, -4.19920015335083, -4.238999843597412, -4.242199897766113, -4.276299953460693, -4.335700035095215, -4.350100040435791, -4.388700008392334, -4.406700134277344, -4.412799835205078, -4.602799892425537, -4.648099899291992, -4.837900161743164, -4.840199947357178, -4.86870002746582, -4.883200168609619, -1.8344999551773071, -2.7595999240875244, -3.0982000827789307, -3.3334999084472656, -3.657900094985962, -3.719899892807007, -3.8192999362945557, -3.8677000999450684, -3.872499942779541, -3.8880999088287354, -3.947999954223633, -3.948899984359741, -3.951900005340576, -4.010499954223633, -4.065899848937988, -4.137499809265137, -4.4730000495910645, -4.485000133514404, -4.513199806213379, -4.536799907684326, -4.600100040435791, -4.600100040435791, -4.600100040435791, -4.600100040435791, -4.600100040435791, -4.600100040435791, -4.600100040435791, -4.600100040435791, -4.600100040435791, -4.600100040435791, -3.1854000091552734, -2.148200035095215, -2.5007998943328857, -2.50819993019104, -2.6863999366760254, -3.136899948120117, -3.228300094604492, -3.276400089263916, -3.4391000270843506, -3.5657999515533447, -3.6477999687194824, -3.7583000659942627, -3.869999885559082, -3.8859000205993652, -3.9412999153137207, -3.9867000579833984, -4.218999862670898, -4.226900100708008, -4.3632001876831055, -4.382999897003174, -4.513599872589111, -4.624800205230713, -4.761000156402588, -4.785200119018555, -4.785200119018555, -5.210299968719482, -5.473299980163574, -5.473299980163574, -5.473299980163574, -5.473299980163574, -5.473299980163574, -5.473299980163574, -5.473299980163574, -5.473299980163574, -2.563800096511841, -2.805999994277954, -2.864799976348877, -3.2802000045776367, -3.3289999961853027, -3.556299924850464, -3.6135001182556152, -3.6935999393463135, -3.7609000205993652, -3.7713000774383545, -3.791100025177002, -3.849299907684326, -3.910099983215332, -3.9605000019073486, -4.190700054168701, -4.190700054168701, -4.190700054168701, -4.190700054168701, -4.190700054168701, -4.190700054168701, -4.190700054168701, -4.190700054168701, -4.303899765014648, -4.345699787139893, -4.3684000968933105, -4.373199939727783, -4.4654998779296875, -4.52239990234375, -4.540599822998047, -4.545599937438965, -4.545599937438965, -4.545599937438965, -1.7319999933242798, -2.2978999614715576, -2.5571000576019287, -2.914900064468384, -3.1277999877929688, -3.141700029373169, -3.1756999492645264, -3.6758999824523926, -3.7850000858306885, -3.968400001525879, -4.0731000900268555, -4.110400199890137, -4.157199859619141, -4.208600044250488, -4.267600059509277, -4.281300067901611, -4.559899806976318, -4.601500034332275, -4.690000057220459, -5.096399784088135, -5.104000091552734, -5.1194000244140625, -5.145299911499023, -5.149700164794922, -5.2179999351501465, -5.248600006103516, -5.322199821472168, -5.350399971008301, -5.350399971008301, -5.360000133514404, -2.4217000007629395, -2.6303000450134277, -2.6314001083374023, -2.9530999660491943, -3.037600040435791, -3.1863999366760254, -3.5782999992370605, -3.6566998958587646, -3.6612000465393066, -3.796299934387207, -3.9298999309539795, -3.9834001064300537, -4.030399799346924, -4.070799827575684, -4.104000091552734, -4.193699836730957, -4.266499996185303, -4.350200176239014, -4.411200046539307, -4.457499980926514, -4.4710001945495605, -4.4710001945495605, -4.505000114440918, -4.505000114440918, -4.6579999923706055, -4.68120002746582, -4.905399799346924, -5.052800178527832, -5.129899978637695, -5.129899978637695, -2.601599931716919, -3.0685999393463135, -3.2118000984191895, -3.216099977493286, -3.251800060272217, -3.473400115966797, -3.5566000938415527, -3.7504000663757324, -3.7867000102996826, -3.912400007247925, -3.923099994659424, -3.9614999294281006, -4.023200035095215, -4.045199871063232, -4.054100036621094, -4.062699794769287, -4.109600067138672, -4.158100128173828, -4.16480016708374, -4.165800094604492, -4.165800094604492, -4.3572001457214355, -4.393099784851074, -4.405099868774414, -4.439199924468994, -4.591800212860107, -4.638500213623047, -4.652900218963623, -4.652900218963623, -4.652900218963623, -4.652900218963623, -1.636199951171875, -2.629499912261963, -2.911099910736084, -3.0492000579833984, -3.2469000816345215, -3.4549999237060547, -3.575700044631958, -3.9842000007629395, -3.992300033569336, -4.009399890899658, -4.03849983215332, -4.085299968719482, -4.09089994430542, -4.1020002365112305, -4.142499923706055, -4.227700233459473, -4.3094000816345215, -4.656899929046631, -4.660200119018555, -4.669300079345703, -4.8003997802734375, -4.985499858856201, -5.209000110626221, -5.209000110626221, -5.209000110626221, -5.238500118255615, -5.3171000480651855, -5.340199947357178, -5.340199947357178, -5.407800197601318, -3.841599941253662, -1.5914000272750854, -2.2832999229431152, -3.1036999225616455, -3.1849000453948975, -3.4842000007629395, -3.5557000637054443, -3.7065999507904053, -3.8199000358581543, -3.839400053024292, -3.928499937057495, -3.9941999912261963, -4.1975998878479, -4.280799865722656, -4.308700084686279, -4.342700004577637, -4.381199836730957, -4.474400043487549, -4.491199970245361, -4.595200061798096, -4.763199806213379, -4.859600067138672, -4.98390007019043, -5.015999794006348, -5.021100044250488, -5.021100044250488, -5.021100044250488, -5.021100044250488, -5.021100044250488, -5.021100044250488, -5.021100044250488, -5.021100044250488, -5.021100044250488, -5.021100044250488, -2.581199884414673, -3.097100019454956, -3.150099992752075, -3.1591999530792236, -3.445199966430664, -3.54010009765625, -3.655900001525879, -3.6738998889923096, -3.6749000549316406, -3.678999900817871, -3.8241000175476074, -3.8433001041412354, -3.9444000720977783, -3.959399938583374, -4.020999908447266, -4.124199867248535, -4.330999851226807, -4.450300216674805, -4.493899822235107, -4.521500110626221, -4.542600154876709, -4.568699836730957, -4.568699836730957, -4.568699836730957, -4.610000133514404, -4.7631001472473145, -4.7631001472473145, -4.9390997886657715, -4.962600231170654, -5.256800174713135, -5.256800174713135, -2.3454999923706055, -2.9309000968933105, -3.0689001083374023, -3.23580002784729, -3.344399929046631, -3.392699956893921, -3.4725000858306885, -3.7894999980926514, -3.923799991607666, -4.008200168609619, -4.019999980926514, -4.049900054931641, -4.108799934387207, -4.121099948883057, -4.182300090789795, -4.193699836730957, -4.193699836730957, -4.212800025939941, -4.5152997970581055, -4.537700176239014, -4.577700138092041, -4.638299942016602, -4.723899841308594, -4.8632001876831055, -4.882900238037109, -4.882900238037109, -4.882900238037109, -4.882900238037109, -4.882900238037109, -4.882900238037109, -4.882900238037109, -4.882900238037109, -4.882900238037109, -4.882900238037109, -4.882900238037109, -4.882900238037109, -4.882900238037109, -4.882900238037109, -2.540600061416626, -2.927500009536743, -3.1191000938415527, -3.2864999771118164, -3.4182000160217285, -3.418800115585327, -3.6031999588012695, -3.9130001068115234, -3.914099931716919, -3.9275999069213867, -3.94569993019104, -3.94569993019104, -4.074399948120117, -4.20359992980957, -4.212500095367432, -4.4654998779296875, -4.542699813842773, -4.5467000007629395, -4.615200042724609, -4.61870002746582, -4.623600006103516, -4.623600006103516, -4.623600006103516, -4.623600006103516, -4.623600006103516, -4.623600006103516, -4.653299808502197, -4.702499866485596, -4.7677001953125, -4.997700214385986, -2.4019999504089355, -2.4226999282836914, -2.4976000785827637, -2.9407999515533447, -3.137399911880493, -3.335900068283081, -3.507200002670288, -3.5206000804901123, -3.69950008392334, -3.7904999256134033, -3.882999897003174, -3.953200101852417, -4.071400165557861, -4.1595001220703125, -4.2281999588012695, -4.316800117492676, -4.433199882507324, -4.5756001472473145, -4.6082000732421875, -4.6082000732421875, -4.842199802398682, -4.853499889373779, -4.8719000816345215, -4.8719000816345215, -4.8719000816345215, -4.8719000816345215, -5.170000076293945, -5.259200096130371, -5.491799831390381, -5.52869987487793, -5.52869987487793, -5.52869987487793, -2.6528000831604004, -2.746999979019165, -2.8382999897003174, -2.9214999675750732, -3.288599967956543, -3.329200029373169, -3.405400037765503, -3.593400001525879, -3.6098999977111816, -3.6695001125335693, -3.711199998855591, -3.973599910736084, -4.101399898529053, -4.1020002365112305, -4.117400169372559, -4.178400039672852, -4.255000114440918, -4.328000068664551, -4.464700222015381, -4.653299808502197, -4.715099811553955, -4.738399982452393, -4.765699863433838, -4.765699863433838, -4.765699863433838, -4.996699810028076, -5.160900115966797, -5.219099998474121, -5.236499786376953, -5.267000198364258]}, \"token.table\": {\"Topic\": [37, 15, 32, 36, 18, 28, 47, 13, 46, 20, 31, 4, 31, 31, 39, 33, 1, 2, 6, 5, 26, 17, 1, 49, 19, 52, 39, 3, 3, 13, 41, 6, 43, 36, 7, 43, 14, 19, 6, 37, 40, 47, 40, 32, 49, 44, 30, 15, 23, 24, 16, 15, 6, 51, 40, 25, 1, 37, 27, 28, 7, 21, 44, 53, 29, 18, 13, 27, 20, 19, 48, 39, 25, 41, 15, 49, 17, 9, 1, 45, 31, 3, 47, 46, 3, 41, 33, 13, 2, 21, 13, 27, 50, 38, 14, 11, 44, 39, 48, 39, 49, 23, 34, 4, 3, 22, 6, 22, 6, 2, 31, 39, 1, 11, 33, 20, 29, 1, 5, 16, 11, 32, 5, 3, 23, 34, 43, 32, 20, 19, 45, 48, 53, 42, 44, 10, 23, 15, 5, 11, 32, 13, 21, 36, 3, 42, 10, 44, 10, 28, 15, 10, 10, 32, 48, 43, 11, 19, 33, 46, 14, 12, 36, 51, 52, 44, 5, 46, 24, 41, 36, 49, 1, 6, 1, 20, 2, 22, 13, 43, 34, 44, 7, 26, 30, 3, 48, 39, 39, 44, 28, 25, 25, 36, 3, 51, 53, 38, 6, 23, 10, 28, 31, 8, 53, 36, 6, 19, 44, 4, 53, 50, 26, 9, 28, 25, 11, 43, 39, 45, 42, 35, 10, 2, 8, 53, 11, 43, 54, 26, 28, 33, 15, 9, 30, 30, 22, 26, 9, 20, 24, 42, 22, 27, 31, 24, 26, 30, 53, 21, 3, 4, 5, 12, 18, 27, 1, 25, 9, 52, 39, 50, 51, 42, 43, 33, 46, 42, 39, 28, 33, 13, 46, 14, 2, 33, 34, 21, 18, 34, 36, 50, 44, 16, 45, 17, 21, 23, 52, 26, 8, 41, 18, 3, 18, 18, 52, 1, 32, 8, 31, 45, 23, 47, 48, 37, 54, 5, 40, 1, 47, 45, 29, 46, 3, 36, 16, 22, 46, 10, 10, 4, 25, 11, 40, 41, 53, 10, 11, 47, 48, 51, 41, 51, 15, 19, 18, 29, 6, 39, 43, 21, 44, 45, 26, 37, 15, 37, 49, 27, 52, 3, 2, 29, 29, 25, 18, 54, 4, 25, 34, 29, 41, 37, 53, 47, 14, 38, 7, 29, 12, 34, 31, 22, 36, 36, 19, 16, 3, 39, 42, 22, 50, 10, 36, 52, 37, 43, 20, 40, 20, 11, 52, 7, 48, 49, 43, 39, 43, 37, 27, 22, 22, 52, 41, 42, 7, 30, 29, 35, 17, 22, 51, 8, 20, 10, 53, 37, 32, 49, 7, 50, 42, 26, 47, 34, 23, 41, 44, 12, 28, 47, 3, 4, 38, 5, 34, 4, 17, 13, 49, 15, 5, 53, 5, 41, 9, 31, 10, 20, 21, 31, 31, 48, 17, 43, 33, 1, 44, 36, 49, 19, 47, 19, 41, 30, 24, 4, 4, 36, 36, 35, 3, 20, 24, 7, 18, 9, 11, 38, 19, 10, 27, 41, 49, 44, 40, 7, 11, 28, 39, 22, 54, 12, 45, 47, 27, 18, 9, 32, 21, 37, 5, 28, 3, 28, 46, 25, 34, 26, 28, 15, 6, 33, 9, 28, 8, 18, 18, 17, 26, 26, 53, 52, 19, 35, 43, 29, 16, 6, 5, 22, 24, 13, 13, 1, 19, 12, 8, 50, 54, 24, 33, 3, 4, 9, 2, 5, 11, 23, 17, 52, 37, 17, 21, 49, 30, 53, 4, 1, 35, 16, 32, 39, 53, 38, 51, 28, 8, 4, 9, 45, 51, 30, 9, 46, 41, 54, 37, 1, 41, 16, 42, 24, 50, 19, 51, 46, 49, 33, 45, 22, 41, 35, 7, 48, 31, 36, 30, 40, 39, 12, 44, 2, 19, 21, 7, 45, 51, 41, 1, 12, 28, 14, 12, 30, 31, 25, 46, 13, 13, 50, 32, 37, 52, 31, 51, 14, 51, 20, 2, 54, 1, 48, 49, 9, 28, 10, 28, 42, 37, 4, 16, 46, 47, 28, 23, 8, 19, 37, 15, 4, 17, 43, 1, 5, 18, 4, 49, 54, 11, 34, 12, 12, 13, 4, 48, 35, 18, 3, 50, 33, 7, 33, 35, 51, 15, 54, 45, 40, 47, 32, 15, 10, 54, 40, 17, 30, 17, 25, 13, 43, 41, 14, 25, 34, 46, 22, 24, 54, 22, 22, 33, 4, 41, 5, 11, 40, 16, 9, 21, 26, 14, 15, 41, 24, 45, 36, 6, 30, 22, 8, 31, 42, 47, 36, 29, 3, 44, 8, 27, 27, 40, 15, 14, 43, 10, 32, 19, 51, 12, 34, 43, 16, 43, 52, 20, 16, 5, 14, 24, 9, 23, 51, 37, 22, 24, 28, 52, 2, 35, 17, 23, 33, 49, 12, 31, 46, 17, 48, 11, 7, 51, 30, 41, 35, 27, 28, 25, 53, 1, 52, 3, 5, 28, 3, 11, 53, 47, 26, 2, 54, 46, 12, 46, 13, 44, 6, 53, 3, 26, 38, 25, 14, 42, 1, 11, 17, 12, 48, 4, 52, 37, 29, 26, 8, 29, 22, 9, 52, 54, 44, 37, 54, 54, 52, 51, 43, 39, 2, 8, 17, 2, 32, 9, 21, 17, 40, 31, 53, 15, 51, 25, 12, 51, 13, 21, 53, 26, 7, 48, 35, 7, 29, 25, 19, 24, 7, 18, 7, 42, 13, 42, 29, 23, 50, 51, 42, 10, 14, 4, 18, 44, 54, 18, 46, 51, 31, 37, 32, 19, 52, 8, 42, 42, 18, 20, 23, 26, 24, 5, 9, 2, 18, 33, 31, 37, 27, 53, 48, 23, 10, 25, 39, 20, 42, 45, 38, 13, 18, 45, 27, 33, 20, 50, 19, 34, 33, 16, 31, 16, 21, 11, 46, 1, 8, 1, 54, 19, 41, 30, 8, 42, 51, 26, 11, 27, 45, 2, 21, 54, 12, 2, 6, 20, 32, 22, 49, 34, 51, 50, 17, 39, 47, 1, 32, 23, 6, 2, 20, 13, 19, 50, 29, 3, 33, 4, 5, 21, 49, 15, 25, 15, 32, 50, 1, 51, 16, 20, 10, 43, 22, 46, 20, 9, 12, 20, 44, 14, 23, 16, 27, 22, 37, 14, 16, 18, 47, 18, 50, 39, 29, 8, 42, 15, 51, 47, 6, 23, 53, 32, 44, 19, 6, 34, 36, 27, 25, 42, 49, 26, 12, 36, 30, 48, 48, 3, 12, 35, 9, 21, 7, 43, 46, 25, 14, 28, 15, 50, 17, 26, 27, 49, 14, 17, 16, 46, 30, 34, 12, 34, 44, 26, 14, 10, 19, 23, 23, 23, 53, 34, 25, 47, 30, 37, 12, 34, 17, 45, 4, 41, 7, 36, 34, 24, 42, 37, 48, 46, 21, 10, 49, 3, 8, 53, 7, 9, 7, 44, 40, 38, 49, 4, 22, 5, 36, 51, 49, 43, 40, 13, 17, 17, 35, 23, 41, 21, 45, 19, 15, 40, 15, 40, 22, 5, 39, 45, 15, 50, 7, 20, 38, 38, 38, 51, 8, 15, 33, 44, 40, 20, 23, 5, 10, 38, 30, 9, 25, 19, 24, 2, 46, 39, 3, 50, 46, 51, 51, 5, 23, 37, 26, 32, 47, 22, 32, 44, 23, 9, 48, 39, 23, 13, 35, 6, 20, 24, 1, 33, 39, 31, 17, 44, 7, 21, 6, 40, 24, 49, 51, 54, 7, 21, 30, 39, 24, 15, 39, 32, 28, 49, 15, 40, 6, 14, 45, 35, 30, 52, 45, 18, 30, 29, 29, 10, 52, 14, 2, 50, 42, 49, 29, 20, 39, 45, 50, 36, 11, 41, 44, 31, 6, 33, 35, 8, 9, 44, 8, 32, 2, 24, 9, 23, 14, 11, 10, 6, 1, 45, 33, 25, 40, 36, 12, 34, 40, 51, 29, 49, 17, 48, 35, 35, 49, 50, 39, 42, 16, 2, 28, 45, 52, 22, 7, 30, 49, 49, 38, 43, 11, 13, 48, 2, 8, 53, 34, 2, 44, 46, 38, 43, 19, 20, 2, 38, 43, 30, 16, 40, 24, 16, 53, 25, 47, 3, 47, 29, 27, 47, 14, 2, 10, 12, 54, 1, 11, 6, 29, 38, 29, 41, 52, 16, 7, 21, 32, 45, 9, 14, 17, 4, 13, 21, 6, 54, 21, 47, 6, 40, 54, 53, 27, 1, 20, 15, 34, 21, 25, 14, 3, 50, 10, 16, 13, 49, 14, 9, 11, 29, 12, 52, 53, 19, 32, 7, 53, 53, 4, 32, 32, 12, 8, 31, 44, 46, 1, 16, 25, 48, 23, 36, 43, 48, 45, 35, 34, 8, 20, 13, 42, 20, 47, 3, 22, 36, 16, 5, 54, 34, 11, 40, 11, 14, 7, 41, 9, 25, 5, 35, 54, 1, 16, 3, 41, 34, 4, 15, 52, 34, 35, 48, 1, 2, 27, 18, 21, 4, 40, 8, 15, 16, 6, 43, 45, 19, 26, 46, 40, 47, 48, 34, 21, 50, 36, 30, 43, 51, 5, 54, 53, 37, 3, 30, 30, 50, 6, 8, 50, 48, 28, 12, 47, 44, 16, 26, 40, 8, 10, 22, 48, 25, 27, 7, 31, 41, 42, 18, 13, 2, 42, 40, 27, 27, 18, 33, 39, 8, 10, 33, 43, 27, 45, 31, 17, 51, 8, 11, 21, 3, 14, 9, 29, 1, 27, 4, 42, 27, 11, 25, 26, 25, 36, 3, 4, 14, 43, 32, 12, 54, 54, 18, 52, 28, 25, 42, 28, 20, 22, 47, 14, 30, 31, 46, 11, 53, 31, 5, 30, 21, 26, 28, 16, 13, 45, 18, 50, 7, 2, 31, 8, 37, 54, 48, 51, 47, 20, 5, 50, 18, 52, 51, 51, 49, 26, 1, 3, 36, 36, 54, 23, 17, 19, 45, 30, 24, 18, 24, 41, 31, 6, 43, 48, 10, 29, 40, 4, 12, 39, 53, 3, 4, 6, 7, 13, 29, 29, 35, 33, 48, 37, 27, 49, 28, 2, 9, 13, 37, 5, 7, 50, 22, 5, 50, 33, 52, 34, 40, 20, 33, 4, 23, 32, 54, 37, 16, 5, 43, 12, 50, 32, 5, 47, 46, 17, 5, 51, 2, 12, 14, 52, 27, 44, 24, 7, 29, 47, 17, 27, 52, 33, 42], \"Freq\": [0.8966521289098336, 0.8598733345410833, 0.9474274593037676, 0.9779408302494852, 0.8435252855209482, 0.9009295687182852, 0.9130661325735904, 0.931733290506943, 0.943681129489062, 0.9776461690005358, 0.9908263058974838, 0.9114227890902759, 0.9837285922057069, 0.9468954969341745, 0.6740913551692899, 0.8525885380183286, 0.7857218463285934, 0.20099861185150064, 0.9414926621204723, 0.4794597626342868, 0.8599337135028753, 0.9114487810834991, 0.9914854427797123, 0.9514569697591188, 0.9292020013974316, 0.8709917448608915, 0.6740913551692899, 0.9620306744271778, 0.9935178057261014, 0.9328977214978208, 0.9860710386342639, 0.8406258034163424, 0.9711730556032658, 0.788786379504549, 0.8636579368788052, 0.9294795146295165, 0.9550211621354057, 0.9426829341754817, 0.9515352822662176, 0.8010934994310229, 0.8133806522197646, 0.9332610352020334, 0.7869355674314196, 0.9817764052672385, 0.7422805293301581, 0.8340950275776559, 0.9480838697688038, 0.9510394948017029, 0.9531581686664011, 0.9876481170497378, 0.9747471876487855, 0.977694965410267, 0.9915561802475513, 0.7988417533608067, 0.8821460774853904, 0.8137282737727531, 0.9904042981576628, 0.9884453344587956, 0.8549795919490406, 0.9689103399803809, 0.9941629360752875, 0.9346774630882976, 0.9132110401138828, 0.8374299334658817, 0.8865931541461664, 0.9213685524394827, 0.8929879223140292, 0.786559632291875, 0.7952300988320862, 0.9151277757092334, 0.9400392161189244, 0.9176754171982882, 0.9131657913340392, 0.9322989146267119, 0.961410989886589, 0.8717626515463209, 0.9005906897916405, 0.9655449972896333, 0.9817967633441644, 0.8015474665381089, 0.6916903711306175, 0.9895873718647751, 0.8992282536296003, 0.8570022678538377, 0.9861044742147183, 0.8756783352431073, 0.9198838538221832, 0.7913917550058084, 0.9849169646500053, 0.8418498615469074, 0.935985169142703, 0.9508515839749506, 0.8874710307633455, 0.5430989762957069, 0.9893848489306095, 0.9692702176441536, 0.7789959309398234, 0.6016732640160176, 0.8527656773805437, 0.9478987584549772, 0.751973774979543, 0.8124726327225023, 0.9375401256769932, 0.9511729888318273, 0.9934300446075764, 0.9665143027527281, 0.9190163597402221, 0.9254033429992051, 0.7983016123692807, 0.9821980117986662, 0.6989118946537671, 0.862231800088144, 0.9968213194483887, 0.9503779340080561, 0.9492106861049953, 0.7952300988320862, 0.9856647570141541, 0.9919580399544483, 0.9588836840729024, 0.9818012532156177, 0.9826002630067769, 0.9562284557672377, 0.8369901252450499, 0.9936310263514182, 0.9553724109113756, 0.8751434799448429, 0.9798816516849491, 0.9545532858998096, 0.9516408195936666, 0.897506423843855, 0.9112266521929656, 0.9464616218106693, 0.927720685609631, 0.9434988187689252, 0.8340950275776559, 0.980435784844807, 0.9393026000351338, 0.9751908356608188, 0.9724188487945594, 0.9736298557780682, 0.9634486824651499, 0.9724297834421987, 0.9650505637815532, 0.788786379504549, 0.9883515074970134, 0.6953284676504647, 0.9565830776538173, 0.8941896469947923, 0.8834642292829924, 0.9655462825382374, 0.9164478730435893, 0.9559801653679924, 0.9774311748795834, 0.7890736865758683, 0.44512546743774084, 0.738052804854676, 0.8562127752254872, 0.8936493330144017, 0.8910417466809818, 0.6717427017892744, 0.8316954505723713, 0.908009853735703, 0.6719850886741378, 0.867795471617849, 0.7959668318841602, 0.8340950275776559, 0.9361237218031897, 0.8812227304145965, 0.5080613243743123, 0.9189322584970913, 0.6418489507588973, 0.84626088025525, 0.9994366691870635, 0.9291639879830867, 0.9633743302962708, 0.9517808436572149, 0.9864105167941729, 0.866753833558282, 0.7500431920330203, 0.8707055308983289, 0.882934380517093, 0.8340950275776559, 0.9126351946227147, 0.6643725674246641, 0.8979069626424248, 0.6048682270582127, 0.38491614449158995, 0.6740913551692899, 0.8077448507982264, 0.9471287844587039, 0.9074711053498348, 0.8372375835414354, 0.8372375835414354, 0.9875793252748284, 0.9759890514141225, 0.9357411693460609, 0.8524972798181839, 0.929970923799941, 0.9407787608438435, 0.8794859452946366, 0.985697319153111, 0.9009295687182852, 0.9054406639016342, 0.9956950812182801, 0.7126444555316835, 0.7887812292274922, 0.9742566939260916, 0.9614308331446366, 0.8651705807005038, 0.9933029081725421, 0.7275563702061554, 0.8921158969559175, 0.9878344158922753, 0.9917733868076143, 0.9009295687182852, 0.7923395133819937, 0.9684711473440145, 0.4391137781029342, 0.885526484764665, 0.816636402640629, 0.9808242398941356, 0.7264883078713328, 0.9300747351443183, 0.9773444274532352, 0.9020247234334674, 0.7275563702061554, 0.8831265121629361, 0.9675420141164726, 0.46249632339675983, 0.9214453403333911, 0.9530344796738647, 0.8875240732367026, 0.9664294347970995, 0.9542582087726217, 0.8301946312045881, 0.8979069626424248, 0.9696372597101024, 0.6288235207796841, 0.9260464304392264, 0.7952300988320862, 0.5475759353017973, 0.6953284676504647, 0.9162218831303559, 0.8818889489852888, 0.8414758004121522, 0.481902209021465, 0.98974273825257, 0.8979069626424248, 0.9284476140540898, 0.7658126678093556, 0.07840486189772307, 0.4340269140766813, 0.4844300395823604, 0.6391214320743742, 0.9365019524479978, 0.9635356443047676, 0.9972109968225004, 0.8372375835414354, 0.8847178479005721, 0.6121336516085933, 0.9493186892754951, 0.8356752288833671, 0.6860440125197893, 0.8864061744070558, 0.4391137781029342, 0.9322229797029608, 0.7096077224622895, 0.9351408899762135, 0.9820192358789671, 0.9591571094658301, 0.9190066906622174, 0.9295420101038174, 0.8812227304145965, 0.9952997991054465, 0.9815689020195975, 0.9530675214075952, 0.8681471627345153, 0.9729911627037064, 0.9449426935006965, 0.9651409922350014, 0.7106118420319849, 0.8180853403123666, 0.9386029772790145, 0.9216922935964228, 0.7124771621917465, 0.9359461519124957, 0.8418498615469074, 0.8803967694473094, 0.966907552445955, 0.8748403058724155, 0.9473066127828232, 0.8196074892019876, 0.9190605068358976, 0.983860483304573, 0.927534956227429, 0.8030335352315037, 0.8980659556875884, 0.9787143212384204, 0.9646348331935083, 0.9924135503993657, 0.7941947171678918, 0.9323470402006048, 0.9386942787437673, 0.9062246320048752, 0.9165107514909896, 0.719467713904136, 0.8804434740547414, 0.9211348213245208, 0.9499838222525665, 0.9929110084724142, 0.835466952486628, 0.9538825244342366, 0.9688322375488324, 0.9488360183367511, 0.9754193049588344, 0.7106118420319849, 0.980624538899179, 0.8494392601582192, 0.9608582078839203, 0.967385517397225, 0.8311733445342684, 0.9810159913968811, 0.9724580749763067, 0.8850443858220205, 0.8709984813084776, 0.986257770753302, 0.7275563702061554, 0.9564754136326051, 0.9382854824103289, 0.9466902140557095, 0.921417968389716, 0.8902197104957357, 0.9484160882822165, 0.8037249306696185, 0.984028711817331, 0.7477295655674029, 0.8633065913938882, 0.9367426489687155, 0.9623454963542737, 0.9353224770732281, 0.9340767645501139, 0.9718333632388191, 0.9609667953211866, 0.9040643416071291, 0.9462531462662589, 0.9294636501330666, 0.9930312777182034, 0.6721578149214653, 0.9626311193262658, 0.9700964058171396, 0.7813276287664568, 0.9965201787329308, 0.995368236843614, 0.8381627516162801, 0.8788494533633485, 0.8259702418355197, 0.9127960561932199, 0.9413685067001718, 0.9471186123108102, 0.880972410371232, 0.8474336556659446, 0.8792946360606231, 0.9162803091985835, 0.8985179619785227, 0.535528811496469, 0.7466991626684905, 0.9723652320786993, 0.788146870506912, 0.8279087189250253, 0.8381627516162801, 0.875547892165509, 0.9568083095969789, 0.959413477366187, 0.9070134376688975, 0.8926474732694162, 0.6418489507588973, 0.8051820377623953, 0.9361815602032716, 0.9911604091197797, 0.4732028177036117, 0.6953284676504647, 0.9308664963798049, 0.9650702284824907, 0.9585796890750731, 0.9672939959286205, 0.8980659556875884, 0.8331943403156035, 0.8335260701893117, 0.9837826760332524, 0.8681604030467249, 0.6623122236670688, 0.7587156492931474, 0.8447518611179637, 0.9890892515704767, 0.875901306562941, 0.8310880030903939, 0.7687368415412296, 0.8641835198591334, 0.7816233624991326, 0.9710979007073959, 0.8732412687933125, 0.9888926591080733, 0.9325688023112112, 0.8705481698264431, 0.9209793970834418, 0.6953284676504647, 0.8279087189250253, 0.8614859616093967, 0.9537713207012588, 0.7192406257653922, 0.9528071240536995, 0.9272314907036137, 0.6860440125197893, 0.9410221788850512, 0.6623122236670688, 0.9896532288606529, 0.9839832773317865, 0.44060165186245664, 0.8514545137671452, 0.7396994946411335, 0.9934745227815821, 0.8953677524612712, 0.8358580267899622, 0.5127475872839093, 0.9665975658770428, 0.9193069481800682, 0.9929048410598588, 0.8481688100327103, 0.8590950090473533, 0.8844270160180095, 0.9009295687182852, 0.7827589585476741, 0.014958150706407719, 0.9847449215051749, 0.9969396978145646, 0.4794597626342868, 0.9859057847574818, 0.9854459625391486, 0.9154074651161205, 0.9467584651617954, 0.981990085576713, 0.9802493135403143, 0.8177134784643589, 0.8942647627959398, 0.9672506361201001, 0.952397875120327, 0.9642851730144922, 0.7927492780935085, 0.806048183234824, 0.8596362366666397, 0.8323126473736596, 0.7447926075116525, 0.8937281297884696, 0.982031382224497, 0.9514050157766594, 0.7955473827541525, 0.8173471752173495, 0.9925810598183995, 0.8810328702985354, 0.788786379504549, 0.7422805293301581, 0.952069518800851, 0.9225704764142517, 0.805182107282695, 0.7821486720904317, 0.9841751463130433, 0.7441672362267276, 0.9920376755029834, 0.9141250116547283, 0.8887461116026587, 0.6509999057186836, 0.9913398492678897, 0.9785088296709303, 0.7952300988320862, 0.6066978661454542, 0.9785289604703343, 0.9747313825251108, 0.9219458428499301, 0.8347496100689856, 0.9159098922473506, 0.9383765658819128, 0.9830964203483116, 0.8749646045749221, 0.9232945595195838, 0.7422805293301581, 0.8340950275776559, 0.8991803202781256, 0.05430755670486089, 0.9368053531588504, 0.9621936204339842, 0.930490375533988, 0.9899399328728358, 0.7381663132078035, 0.8474855348306474, 0.8496308233807047, 0.8065578089731552, 0.8929490421394762, 0.8855533568228645, 0.9062009530154169, 0.9171049949613133, 0.9240694481115485, 0.9322403409383785, 0.9004442334878189, 0.8826687042731547, 0.9834573926186321, 0.971730224332666, 0.7612216058064265, 0.908107566794532, 0.8892542262758699, 0.9792238485827687, 0.9253885030443567, 0.9812654178701916, 0.9330060464290817, 0.9000294021811385, 0.9335574794734256, 0.9009295687182852, 0.9903671166247834, 0.9972013873324547, 0.9015067273479251, 0.9479456785723761, 0.9513237973954561, 0.9473884394971752, 0.443069659443917, 0.909012774438185, 0.9077908502355356, 0.9255543750201508, 0.9744352526364093, 0.9190777669601804, 0.8559386554526988, 0.9412116559271964, 0.8578600243433079, 0.9015115873997513, 0.9908319954299615, 0.7573700830764664, 0.9155326118553602, 0.9905069760661328, 0.8786739606323881, 0.8493747791099225, 0.7928656558070682, 0.6250841275534416, 0.8488042838095843, 0.9762824283485807, 0.9424302609336814, 0.9908137354334507, 0.9171345340129796, 0.8901503435942264, 0.9862400402912888, 0.9931791517892803, 0.9782606782214659, 0.9533167139655835, 0.9279500721870586, 0.8431273956398244, 0.9508832681610007, 0.8864259009870811, 0.9163036244171675, 0.9422823101231058, 0.9631264518709836, 0.4681387715227532, 0.9824367578712754, 0.9944549056020149, 0.8957622566951146, 0.9803716837693239, 0.8911542822347617, 0.6722423218242649, 0.8567217518170082, 0.9593522345014694, 0.6860440125197893, 0.8752436781721958, 0.8967162893428602, 0.9917826048370626, 0.942095634696837, 0.6974464065921666, 0.8590988481621809, 0.8885548169481124, 0.9717058506890013, 0.946687727676948, 0.9568197562175536, 0.4761017156378663, 0.8606664273082735, 0.9984892347898926, 0.7861046305073054, 0.975159136906886, 0.8807911482815631, 0.9617893250210047, 0.9319915298864476, 0.9821767466781117, 0.7563923754885556, 0.7096077224622895, 0.7422805293301581, 0.9227074099228862, 0.7470508922374949, 0.7543341164571264, 0.829573576291688, 0.98177328576056, 0.970180623218583, 0.7822003114203667, 0.89643409225927, 0.9641150276247071, 0.8960602124435122, 0.7954553875835993, 0.865925835386123, 0.8563495525722878, 0.9134984472897825, 0.9928580488237846, 0.985952874984952, 0.6246392681992267, 0.8279087189250253, 0.9067161600298848, 0.6860440125197893, 0.8699125377534622, 0.7371470001054408, 0.2627454653841175, 0.9418232858358987, 0.8248559312255321, 0.9395458906425926, 0.84249275269315, 0.9543605687492646, 0.9111525264483304, 0.8475722616448567, 0.6061299274262224, 0.7973197483722776, 0.8938460450485614, 0.7183839345041112, 0.9176856812768099, 0.8473313342735692, 0.8531226454960193, 0.9624309056259823, 0.9663287915248292, 0.8947572565625485, 0.6623122236670688, 0.9971569854173324, 0.9198283025504891, 0.9837547784949517, 0.9329996416105965, 0.7422805293301581, 0.8324751929819594, 0.9009295687182852, 0.9805000654317735, 0.9172347829528715, 0.9675283574937505, 0.8185369742314913, 0.9468027513586446, 0.9035514355918965, 0.9156036706660917, 0.9789147336797076, 0.9817763987573243, 0.8845751216806136, 0.8403677860612256, 0.9661283065564871, 0.8867626791476194, 0.8963951121120319, 0.9885536641031066, 0.9815621364698979, 0.4391137781029342, 0.9902559334235939, 0.9601516861005555, 0.8926497306907081, 0.974645098087158, 0.6173435314493079, 0.6311927835216011, 0.8903795307939371, 0.8926329003508074, 0.9029245516140075, 0.8472454125508362, 0.8208499958068665, 0.9761160559915697, 0.9176862385467485, 0.9004998140845443, 0.8522386278862984, 0.9933067667661478, 0.737753762161426, 0.8988340138310664, 0.8706390849068112, 0.8806174898112793, 0.9255543750201508, 0.6110201715172382, 0.8928230111879931, 0.9394360034762235, 0.816636402640629, 0.7528223727225317, 0.8319151376354298, 0.9610979767349468, 0.8107745972313815, 0.9739917508497389, 0.6963296582166125, 0.8709984813084776, 0.9610975945083673, 0.9626869231118506, 0.9418865403402386, 0.8372375835414354, 0.968081919787275, 0.9512305664162256, 0.8493260917934534, 0.928415399932656, 0.986802142889754, 0.9651237309994961, 0.6028775190078193, 0.8855762713364289, 0.9728513265211814, 0.8193931571078048, 0.7543341164571264, 0.9122498251141519, 0.865124609009177, 0.9866353117665001, 0.9068780447239527, 0.9746820767436741, 0.8815825219104053, 0.8561444181159119, 0.8537886283020982, 0.8212920162064123, 0.8418498615469074, 0.9563524135041575, 0.8224071132560903, 0.9698079837337209, 0.8504692915083506, 0.7947866412377381, 0.8129139022799354, 0.788786379504549, 0.9853825395330852, 0.8885548169481124, 0.9145299663404624, 0.9655816951822745, 0.6989118946537671, 0.9107796727448244, 0.8319151376354298, 0.8329786120292234, 0.911829126627841, 0.9525623331975269, 0.9384520507626751, 0.9018472001292349, 0.8035554686028361, 0.9059947291430408, 0.7548928905375012, 0.97218546022019, 0.9463507530703453, 0.4391137781029342, 0.9576663787527595, 0.9435348858624943, 0.805182107282695, 0.6860440125197893, 0.9513721536257345, 0.9421999348136219, 0.8560570764694188, 0.9051001797619167, 0.7144897101004125, 0.8537233150459355, 0.7952300988320862, 0.9408613685201022, 0.9440996559036251, 0.6448359969347824, 0.9737961297119289, 0.9836535427278866, 0.8479795437939224, 0.8165992869889206, 0.9615618834881532, 0.9515692459650802, 0.9608869672612318, 0.9626286988799627, 0.8671920211295624, 0.998510378995908, 0.8269369115190274, 0.8734170123934543, 0.8237076041461279, 0.8498823450152729, 0.9025038870139355, 0.8894260426179376, 0.9054406639016342, 0.883869822352683, 0.8607111037403365, 0.669425701531994, 0.9869170262834436, 0.8279087189250253, 0.6860440125197893, 0.9863045136393674, 0.8947554630857248, 0.5179439108181301, 0.9463234492973518, 0.9009295687182852, 0.8372375835414354, 0.5464248572392412, 0.9885394606800147, 0.9647276572361287, 0.9985328770217402, 0.9656052768725538, 0.9009295687182852, 0.9665491847898405, 0.9782555401483665, 0.7183018470025807, 0.8311643957248469, 0.9862746477665446, 0.97889401513021, 0.6846835157913662, 0.7753134347459092, 0.8331219406580942, 0.9618660706705563, 0.8784455112161706, 0.8983795072140678, 0.9403743118280201, 0.9439600476168925, 0.9933668737705635, 0.6288235207796841, 0.9308752681511822, 0.913568901631949, 0.8682059582158629, 0.8712346477946696, 0.9863036861080938, 0.914597972385353, 0.9037712746598571, 0.8253030546952316, 0.8527656773805437, 0.9940905013616723, 0.8980659556875884, 0.6827375708916368, 0.9040815246834867, 0.7771928892508216, 0.909194252956731, 0.8354002113639075, 0.8029600062230543, 0.9801883237944333, 0.634801594976279, 0.8725440736996523, 0.9186347873949662, 0.8467396380234562, 0.9039030859451038, 0.938061172353547, 0.8948204836115532, 0.958864147584254, 0.9499733804610154, 0.9731448367625113, 0.9764832273606882, 0.9747315360916469, 0.9775503591617168, 0.9779439063863388, 0.9774957022919163, 0.9761151641566155, 0.9882672543463691, 0.9010296498714877, 0.9279090613355736, 0.9839053819314798, 0.6015526581445745, 0.9170440438872648, 0.9462564695250375, 0.8372375835414354, 0.9361869542572259, 0.6860440125197893, 0.8372063225541206, 0.9315895069120999, 0.8423294036457406, 0.9702584103099599, 0.9953816981648472, 0.7843701972600594, 0.9911341157050126, 0.8279087189250253, 0.9075783144288477, 0.7763715869381659, 0.9719776873811815, 0.9456701228404425, 0.9382559067815816, 0.9683913296726903, 0.99140674004576, 0.8441629042044477, 0.9280264579714628, 0.6953284676504647, 0.9689405503228822, 0.934012565715014, 0.9003975439984558, 0.6764539654624742, 0.6953284676504647, 0.9636345925574363, 0.8237680691889034, 0.9912470710264266, 0.9247404956712321, 0.7758654654209597, 0.8190013611807285, 0.9190109654124988, 0.9527021314166813, 0.9570095026906038, 0.8403177566144746, 0.7598152033927807, 0.9117543400243929, 0.8383088006893312, 0.6656343807904682, 0.8711440548855347, 0.8674983508967086, 0.8834820067526264, 0.9161445555514632, 0.9850177137626914, 0.9634415604066933, 0.6288234760751555, 0.9086745591937367, 0.9390472919015445, 0.8846289664139487, 0.9915180279929904, 0.9271000341436275, 0.9640034282882489, 0.9001597435080384, 0.7092140379581146, 0.9325962473319983, 0.7859024125420051, 0.8569508476372, 0.9708975743805465, 0.9801814902702082, 0.8372375835414354, 0.6740913551692899, 0.9886497208672386, 0.9223737475388897, 0.9673803526969396, 0.9620863810188688, 0.9767816347239766, 0.8686028684115924, 0.9366990505555275, 0.9780993981939303, 0.7428117920688782, 0.9798821479038345, 0.9542631560693143, 0.8547915035997603, 0.9141224962227417, 0.9579813867711916, 0.9375080192225326, 0.891014870299261, 0.9468416536308941, 0.8418498615469074, 0.9936331173909756, 0.8570022678538377, 0.996217477774424, 0.9802928470265477, 0.9825374446590932, 0.8214822167479613, 0.959791970123775, 0.9726435077099295, 0.75293060357138, 0.9354338333460429, 0.9492217519477301, 0.8037249306696185, 0.6099049383870985, 0.9107483105836942, 0.9151701582620742, 0.8935871577813108, 0.9898804964828527, 0.9449561336447246, 0.4461243097746568, 0.94653668096187, 0.9854961551784447, 0.9882443862620891, 0.9866122324608141, 0.885320402292175, 0.9173040068722069, 0.9837143852517108, 0.896985622728871, 0.6860440125197893, 0.809495597722966, 0.9543442691725229, 0.959423298308774, 0.9154112335612157, 0.9775227885474342, 0.8724954654895115, 0.9480170998257713, 0.9852111618204665, 0.9785218015811856, 0.8145627928005168, 0.9688887493406219, 0.8948721002923881, 0.4386234965648545, 0.8898323189697382, 0.975111058961825, 0.9004104309700568, 0.8503345332590293, 0.9472201022051218, 0.9765460974106239, 0.7422805293301581, 0.9514162598997207, 0.8088300130651452, 0.9685843600285009, 0.6962936299632112, 0.6250841275534416, 0.9933129491396686, 0.6860440125197893, 0.9787971859465813, 0.8018502997265634, 0.9852784046776927, 0.8891080621282483, 0.9176337134859296, 0.7473775616140831, 0.8991624598022275, 0.8480947078298559, 0.8737879028325934, 0.957145272193604, 0.980531742278251, 0.9636528955442133, 0.96028374837334, 0.9728779520480504, 0.944670304778646, 0.9847335824938221, 0.7092140379581146, 0.7139865642000877, 0.9773392975788573, 0.9339834902195424, 0.7382530637060427, 0.7862974339158175, 0.7532067155753395, 0.9510420799588071, 0.9551091011389572, 0.7077163041469261, 0.6953284676504647, 0.9502707571424164, 0.8203636938408093, 0.9532658849774512, 0.8488812178028944, 0.9074380991454188, 0.7202794807365213, 0.9493922230778336, 0.9203664082689443, 0.8661091728194171, 0.9872490057970371, 0.942595431720007, 0.7074172789595466, 0.9598669789166098, 0.9392264516343842, 0.6953284676504647, 0.7899568421630108, 0.6288234760751555, 0.9947303511426885, 0.9946048679672896, 0.9771895842322881, 0.7863912010206399, 0.8197241617917815, 0.983877517794888, 0.8020376066638997, 0.8623302560323772, 0.8631111439512686, 0.9038182254507927, 0.9647598449442591, 0.8765939760257205, 0.8480574268587677, 0.9343159813381409, 0.961507207718888, 0.9001033344708991, 0.895794234896256, 0.7213789420876525, 0.9893246542574441, 0.6940031845556744, 0.9601297254481119, 0.7422805293301581, 0.94531541473386, 0.9134115564882602, 0.8199903021697571, 0.9536817972628876, 0.8979069626424248, 0.7050672154785829, 0.917696162241982, 0.8978345229217176, 0.8340950275776559, 0.6288235207796841, 0.8949547838950926, 0.9205024438366581, 0.9319460196313161, 0.81932128351927, 0.8608599178125635, 0.9420928541013993, 0.9591618616464352, 0.9252275703102195, 0.8372375835414354, 0.7113247191164631, 0.970777431393552, 0.9012427891833313, 0.8849774573867297, 0.7851436209970825, 0.967505094700865, 0.8218171032932741, 0.9728854358424887, 0.8525888106043907, 0.9628666140879796, 0.788786379504549, 0.8433553244916961, 0.9697490254392651, 0.6953284676504647, 0.9020262594803649, 0.927890267279098, 0.9281373458745419, 0.8523740330052129, 0.9163488911803397, 0.7422805293301581, 0.9901457686117496, 0.946275881249783, 0.8892431805780568, 0.9301777638281986, 0.977079196422596, 0.9273509455107385, 0.8187594562492362, 0.8595436920863975, 0.9636879501527854, 0.8901935028253244, 0.9845268541687064, 0.9180557596710897, 0.4794597626342868, 0.6573057398812859, 0.8593541648946293, 0.865853720733256, 0.943565627120039, 0.8717797471581542, 0.9514927399676596, 0.989689895794511, 0.9635396115675964, 0.9201036740657836, 0.9764615748390292, 0.9516515317047453, 0.8505332852383006, 0.6898626846406607, 0.8998116879570437, 0.880361698522828, 0.9482462467717303, 0.9359098210764667, 0.8717797471581542, 0.8580042616301684, 0.9980007294374743, 0.777910912480727, 0.8270435751231257, 0.8602677283514223, 0.9031044326248422, 0.9623479749902961, 0.8648958420202996, 0.7703673827149559, 0.9270334365049236, 0.7243090336929205, 0.7961428370106488, 0.9754836753185312, 0.9664850633927596, 0.9579853975566397, 0.8977676747300738, 0.975544191532461, 0.9340967655917078, 0.8723601419619584, 0.9797734225234451, 0.9907812617413032, 0.623917994431184, 0.9110743861005096, 0.9465557285018772, 0.9931339734098205, 0.9226909757020558, 0.682203934952984, 0.9933552146623909, 0.9570683062168452, 0.702772088217789, 0.9745926490336333, 0.809495597722966, 0.981114798950744, 0.8524679258424315, 0.6860440125197893, 0.9765976555091742, 0.9156616789320299, 0.9297904004029907, 0.9225817180358584, 0.969034354827927, 0.9117871781838264, 0.8624406623610299, 0.8963050629979996, 0.9217685457443443, 0.9559175373015065, 0.892836857166437, 0.9774545984683181, 0.9279456039234928, 0.8716994728235392, 0.9833772987245956, 0.8171774611573233, 0.8758053985512801, 0.9695056224165043, 0.9882996312638551, 0.9878268669620197, 0.9754966194667967, 0.6690302159802228, 0.7582218676593737, 0.9660610831202875, 0.8340950275776559, 0.9884463636363187, 0.9763339596650441, 0.9374248344965429, 0.7652854080445889, 0.481902209021465, 0.7420573579313422, 0.9695937327897188, 0.9257760198745151, 0.8279087189250253, 0.987310386490815, 0.8885548169481124, 0.6113562069211043, 0.6247872060390393, 0.9165146821609274, 0.9309867034363666, 0.9624143196256534, 0.9033392729838997, 0.8155868353731757, 0.8975523556737506, 0.8717797471581542, 0.8860598419091467, 0.9672248789047024, 0.7582413526691997, 0.8778873135733214, 0.8992667538305783, 0.8924641003346584, 0.9573944354380693, 0.9875682096704715, 0.8979068322311606, 0.9197391625589403, 0.9756551025775452, 0.9163691186426948, 0.8980659556875884, 0.7604986144177434, 0.9947630284366628, 0.7095870436064919, 0.9319475648840397, 0.8569084811728211, 0.9473753266518283, 0.9537831452611918, 0.9542189917635603, 0.9730416934914128, 0.9461376900454734, 0.9208270529818187, 0.8701278810304529, 0.976639913246323, 0.8977676747300738, 0.9587332639064279, 0.9489585210875382, 0.8274937519322255, 0.9788084815320958, 0.8821372852431203, 0.9920898523052063, 0.8340950275776559, 0.8683627100861444, 0.9495079479620935, 0.9868322645758029, 0.481902209021465, 0.869149912716163, 0.8838431852639749, 0.9948054147994977, 0.7587156492931474, 0.8542325472252591, 0.9338004301537114, 0.9978993389212206, 0.9355428332745634, 0.9563478368569043, 0.9309984398254585, 0.8709984813084776, 0.8330837440427458, 0.9781838609284458, 0.9449587939324381, 0.938346681847376, 0.795358512312007, 0.8136584623499062, 0.7422805293301581, 0.9653415079604579, 0.7822003114203667, 0.8194927912683461, 0.9889063063473379, 0.7422805293301581, 0.7933121499455406, 0.5862845857525371, 0.37309019093343265, 0.9530499363515064, 0.9969465806569003, 0.9532590893905887, 0.7628646596597423, 0.8670896067707058, 0.8393103463504836, 0.9972347703046088, 0.8191513249498559, 0.9184099141076393, 0.9043280398128377, 0.912711365955385, 0.8106096101167942, 0.9356723692336318, 0.9942686985107406, 0.9029189822172529, 0.9895070142510718, 0.8758397904633419, 0.7895412653081093, 0.7078175381626617, 0.9933181636494299, 0.8409399721844162, 0.8157594373360894, 0.9531133715788943, 0.8503146694738112, 0.9948942268335328, 0.7892072546657704, 0.9767846235597704, 0.8991855858141414, 0.4391137781029342, 0.8555927131159858, 0.8619559968075107, 0.9104554335994117, 0.847442606837247, 0.9619937214438948, 0.8454530559206416, 0.8452442834633395, 0.8378953752567545, 0.9919426858068722, 0.9421613888956138, 0.9147106055237457, 0.9190146295057382, 0.8264520183340073, 0.8516029069065497, 0.9847732823049342, 0.9073663609653975, 0.9920818463248894, 0.9690720280100411, 0.989596777894751, 0.9717648014751052, 0.9854443372525789, 0.9193373884254596, 0.8588795498866876, 0.871985149835651, 0.8310225148228926, 0.8980659556875884, 0.9812752057595242, 0.8716603425251293, 0.9669648289229418, 0.9417700773277834, 0.6861336752757474, 0.8421382363011837, 0.9897077543449472, 0.9878129600154703, 0.9855597263325933, 0.950534170871659, 0.9331824036332677, 0.970118803265774, 0.893633330963418, 0.8418498615469074, 0.7466991626684905, 0.9734996121148641, 0.9037150593156832, 0.46741880085283916, 0.9830216925822926, 0.9464862132899272, 0.9905370041234063, 0.7952300988320862, 0.9093729754194814, 0.9108238539673577, 0.9553025447044078, 0.8788717680602203, 0.8103985221745301, 0.9872790418834181, 0.7803085423408158, 0.9756966480038676, 0.9608442639225757, 0.9581634727139531, 0.6624061625155298, 0.9652592542137339, 0.9015292975744765, 0.9669088312792539, 0.9492247315333898, 0.9782941188164506, 0.9558155567982343, 0.8805490598416572, 0.8831646782956617, 0.9186672731916818, 0.9613633133975837, 0.6015526581445745, 0.7275563702061554, 0.9910852492931124, 0.8773069071058408, 0.8212283223007524, 0.9301874292436835, 0.9195756792507587, 0.8350469520388508, 0.7612683205800009, 0.8486637284408419, 0.9953830096391632, 0.9571659241479378, 0.9193784748024336, 0.7978546291880145, 0.8266477476686448, 0.9275964467655726, 0.906000398618706, 0.7919899459990821, 0.9547687156775604, 0.9664738640658078, 0.8969036635335966, 0.89012974927692, 0.9600432013610853, 0.9927665382890781, 0.9327099384684281, 0.6623122236670688, 0.9189336405318389, 0.9885863882868996, 0.8731914998596954, 0.9632105511439901, 0.9331549959198444, 0.8171300467283509, 0.8298998255564786, 0.9108238539673577, 0.9928650375098077, 0.9333847327892891, 0.951642996961053, 0.9769155685755856, 0.8840641473494619, 0.7704215847387956, 0.9504249398282855, 0.9252263030300159, 0.8594395152954596, 0.12475734899450219, 0.6602881129507645, 0.9984156714312437, 0.968972446307557, 0.9688850835625653, 0.8587558280825535, 0.9581401981235856, 0.935091677581617, 0.9176532121558927, 0.8609187867208424, 0.7910666010557207, 0.9178372611648687, 0.8276116564061171, 0.9895424243945189, 0.9807653639959373, 0.7578774207534589, 0.8926497306907081, 0.8985171993337205, 0.9091396717057592, 0.8656371987229523, 0.8811456687004792, 0.9691904881664513, 0.9048456396157732, 0.9817298381670764, 0.9545013695669432, 0.7067505024127099, 0.8496690410508005, 0.9483788331385548, 0.9424390972237389, 0.8972314741592964, 0.7925367200483839, 0.8158172521535341, 0.7926205633274999, 0.9656717702818608, 0.8075690836584808, 0.8425338309752788, 0.9443017004140569, 0.4391137781029342, 0.7816188404449761, 0.9989067965350842, 0.8026673207261239, 0.5464248572392412, 0.9743304147207694, 0.9987100295373442, 0.8378534679229908, 0.767741942968984, 0.8726586472775885, 0.9626609189449332, 0.786162851659574, 0.8770466357738202, 0.7822003114203667, 0.8995255147544663, 0.9843147662938398, 0.8952472294788876, 0.9525251968665313, 0.9454992581430788, 0.9922948207111837, 0.7780139212979716, 0.8822922760614151, 0.9607978659414503, 0.9393643390168714, 0.7895229167998603, 0.8372375835414354, 0.8920638030873065, 0.9914110728557051, 0.7494661747632679, 0.7147927893365807, 0.867566962266143, 0.9353528445207954, 0.9524792584365915, 0.9987628419780835, 0.6953284676504647, 0.9738489614682215, 0.8836278825220446, 0.8268043094256725, 0.760261403943916, 0.9425035238141787, 0.8027274060704136, 0.913987157969595, 0.9524165168064999, 0.8690906740746067, 0.4391137781029342, 0.9316975733813692, 0.7102572562749496, 0.9813488000504849, 0.9532135958100737, 0.9510376750853987, 0.9083509168960884, 0.8886652162594496, 0.9890141447121426, 0.9934197790202054, 0.8799863137505878, 0.984566905920655, 0.8611765303200654, 0.9938694762188365, 0.9365023420036926, 0.9949431213600326, 0.9727461491615311, 0.8873208786582635, 0.7884735874620109, 0.9895643957145536, 0.700828807716332, 0.8372375835414354, 0.7069660862822064, 0.5472583274925565, 0.4496851373194651, 0.8368863213912556, 0.8106095858327776, 0.8983833778700918, 0.976132367077132, 0.6714593257327538, 0.6846834624400294, 0.9804432616596525, 0.8998510913806871, 0.9009295687182852, 0.8372375835414354, 0.863923783064554, 0.9626286988799627, 0.9155659033908021, 0.9389148641409912, 0.8820806686331223, 0.8676855700380636, 0.9731567150349493, 0.6989118946537671, 0.8831149706235186, 0.7964330456421176, 0.5464248572392412, 0.8402918395792238, 0.9325696427020889, 0.9546823537044775, 0.8418498615469074, 0.5127475872839093, 0.9009295687182852, 0.9178616155440796, 0.9775965322770499, 0.9360364972159402, 0.8909876005433871, 0.8912860089331854, 0.896976667227749, 0.9945652504402333, 0.9270980795594649, 0.6940347137841245, 0.825043210273415, 0.9285301622182128, 0.8965476508919472, 0.6860440125197893, 0.8145984673283605, 0.6623122236670688, 0.4794597626342868, 0.7636161107828175, 0.9249203531601077, 0.8439261295100999, 0.6860440125197893, 0.6860440125197893, 0.7234346664151388, 0.7240385266120665, 0.4775421560334575, 0.5173373357029123, 0.788786379504549, 0.788786379504549, 0.6846834624400294, 0.9278823664853303, 0.9683067445758977, 0.8080173805715738, 0.9852465158572568, 0.8689329657378515, 0.9600349479149746, 0.9411785179416308, 0.481902209021465, 0.8585785834729417, 0.9742564101843483, 0.9784877318611686, 0.9217509589949466, 0.840130080034327, 0.8613284002511807, 0.9682548161016199, 0.9224719204998637, 0.9495967358449596, 0.9472971559242369, 0.9693594901369521, 0.9272481669227426, 0.04437952598449561, 0.9541598086666557, 0.9980735788900378, 0.8279087189250253, 0.9142782745218625, 0.9414683681172795, 0.8381627516162801, 0.9255543072736062, 0.7381498929426877, 0.9522443056189971, 0.9859086042313915, 0.9222051742567055, 0.9665419298021266, 0.8847108879918407, 0.9774264474676952, 0.9940332907774078, 0.8838969175897604, 0.9185783787917196, 0.9668421114342923, 0.8279087189250253, 0.809495597722966, 0.9416088981934367, 0.7440935157047901, 0.8625995685103511, 0.8918814070163553, 0.8980659556875884, 0.974253978053547, 0.9497518341471469, 0.896101373653767, 0.9731981081087367, 0.9152928214022654, 0.879099267679765, 0.949659714495413, 0.9245305995190739, 0.9057326413252478, 0.9221026060703718, 0.8369901252450499, 0.4391137781029342, 0.9145762277082609, 0.4386234965648545, 0.9368446621248865, 0.9978292552357589, 0.7466991626684905, 0.9030553905637966, 0.8797666496173153, 0.9027244286256338, 0.6860440125197893, 0.9949902318117683, 0.7110370367448381, 0.966799745579795, 0.7734916144093599, 0.9848010969375629, 0.8977676747300738, 0.7936577407384439, 0.9934431480861832, 0.919864834589868, 0.7466991050242731, 0.8751853805715536, 0.9582942412727049, 0.8670896067707058, 0.8373198281553852, 0.8442610070605169], \"Term\": [\"aaa\", \"ab\", \"ability\", \"able\", \"abnormal\", \"abreast\", \"abrupt\", \"abruptly\", \"absolutely\", \"acc\", \"accelerate\", \"accelerated\", \"acceleration\", \"accelerator\", \"accept\", \"accessory\", \"accident\", \"accident\", \"accord\", \"acid\", \"acknowledge\", \"act\", \"activate\", \"active\", \"actually\", \"acura\", \"ad\", \"adaptive_cruise\", \"adaptive_cruise_control\", \"add\", \"addition\", \"additional\", \"address\", \"addtionally\", \"adjacent\", \"adjust\", \"adjustment\", \"admit\", \"advertise\", \"advertised\", \"advertising\", \"advise\", \"advisor\", \"aeb\", \"aftersal\", \"age\", \"agency\", \"ago\", \"agree\", \"ahead\", \"air\", \"alarm\", \"alert\", \"alfa\", \"alignment\", \"allegedly\", \"allow\", \"almost\", \"alone\", \"already\", \"also\", \"always\", \"amber\", \"ambulance\", \"america\", \"amount\", \"analysis\", \"angle\", \"annoying\", \"answer\", \"anti\", \"anti_lock\", \"anymore\", \"anyone\", \"anything\", \"app\", \"apparent_reason\", \"apparently\", \"appear\", \"apple\", \"application\", \"apply\", \"appointment\", \"appose\", \"approach\", \"appropriate\", \"approx\", \"approximate\", \"approximately\", \"appx\", \"april\", \"area\", \"around\", \"assembly\", \"assist\", \"assistance\", \"assistant\", \"associate\", \"associated\", \"assume\", \"assurance\", \"asterisk\", \"atla\", \"attach\", \"attempt\", \"attention\", \"audible\", \"audio\", \"austin\", \"auto\", \"autobrak\", \"automate\", \"automatic\", \"autonomous\", \"autopilot\", \"autozone\", \"available\", \"avoid\", \"avoidance\", \"aware\", \"away\", \"awd\", \"baby\", \"back\", \"backing\", \"backup\", \"backup_camera\", \"backwards\", \"bad\", \"balance\", \"balloon\", \"barely\", \"barrier\", \"base\", \"basic\", \"battery\", \"bcm\", \"because\", \"become\", \"beep\", \"beeping\", \"begin\", \"behind\", \"belief\", \"believe\", \"better\", \"big\", \"bill\", \"bind\", \"black\", \"blame\", \"blank\", \"blind_spot\", \"blind_spot_detection\", \"blind_spot_monitor\", \"blindingly\", \"blindspot\", \"blinker\", \"block\", \"blow\", \"bluetooth\", \"blurry\", \"blvd\", \"board\", \"body\", \"bogg\", \"bolt\", \"book\", \"booster\", \"bottom\", \"boulder\", \"box\", \"brake\", \"brakea\", \"braking\", \"brand_new\", \"break\", \"breaking\", \"bridge\", \"brightness\", \"broken\", \"bug\", \"buick\", \"bulletin\", \"bumped\", \"bumper\", \"bumper\", \"bundle\", \"burn\", \"business\", \"busy\", \"butt\", \"buttock\", \"button\", \"buy\", \"ca\", \"cabin\", \"cable\", \"calibration\", \"california\", \"call\", \"caller\", \"calmly\", \"camera\", \"camper\", \"camry\", \"can\", \"capability\", \"capture\", \"car\", \"cara\", \"care\", \"case\", \"cause\", \"celsius\", \"cement\", \"center\", \"ceo\", \"certain\", \"cgi\", \"change\", \"changed\", \"charge\", \"check\", \"check_engine_light\", \"chest\", \"chevrolet\", \"child\", \"circumstance\", \"city\", \"claim\", \"clean\", \"clear\", \"clearly\", \"click\", \"clicking\", \"close\", \"closed\", \"closely\", \"cloud\", \"clubman\", \"clue\", \"cluster\", \"cmb\", \"coast\", \"cockpit\", \"code\", \"colleague\", \"collide\", \"collided\", \"collision\", \"collision\", \"collision\", \"collison\", \"collusion\", \"com\", \"come\", \"comfort\", \"comfortable\", \"comment\", \"common\", \"communicate\", \"commuter\", \"company\", \"comparable\", \"compare\", \"compensation\", \"complain\", \"complaint\", \"completely\", \"complicated\", \"component\", \"compressor\", \"computer\", \"concern\", \"concerned\", \"concrete\", \"condition\", \"conditioner\", \"confirm\", \"confirmed\", \"confused\", \"connect\", \"connection\", \"connector\", \"consider\", \"considerably\", \"consistently\", \"console\", \"constant\", \"constantly\", \"construction\", \"consumer_write\", \"contact\", \"contact_own\", \"contact_stat\", \"contacting\", \"continue\", \"continuously\", \"control\", \"controller\", \"conversation\", \"cool\", \"copy\", \"corner\", \"corp\", \"corporate\", \"correctly\", \"cost\", \"could\", \"countertop\", \"couple\", \"cover\", \"crack\", \"crash\", \"crashed\", \"create\", \"critical\", \"cross\", \"cross_traffic\", \"crossing\", \"cruise_control\", \"crv\", \"cue\", \"cup\", \"curb\", \"curiously\", \"currently\", \"customer\", \"cycle\", \"cycling\", \"cylinder\", \"daily\", \"dalla\", \"damage\", \"damaged\", \"danbury\", \"danger\", \"dangerous\", \"dangerously\", \"dark\", \"dash\", \"dashboard\", \"database\", \"date\", \"daughter\", \"day\", \"daylight\", \"daytime\", \"dead\", \"deadly\", \"dealer\", \"dealership\", \"dealrship\", \"death\", \"debris\", \"decelerate\", \"deceleration\", \"december\", \"decide\", \"decline\", \"deductible\", \"deeply\", \"definitely\", \"defogger\", \"degrease\", \"degree\", \"delay\", \"denver\", \"departue\", \"departure\", \"deploy\", \"depress\", \"depressed\", \"depth\", \"descent\", \"described\", \"description\", \"design\", \"desire\", \"desperately\", \"destination\", \"detect\", \"detection\", \"determine\", \"deterrent\", \"develop\", \"device\", \"diagnose\", \"diagnostic\", \"dick\", \"didna\", \"difference\", \"difficult\", \"dim\", \"dimly\", \"dimmer\", \"direction\", \"directly\", \"dirty\", \"disability\", \"disable\", \"disabled\", \"disappear\", \"disappointed\", \"disappointing\", \"disarm\", \"disclose\", \"disconnect\", \"disconnected\", \"discover\", \"discuss\", \"discussion\", \"disengage\", \"disgust\", \"display\", \"distance\", \"distract\", \"distraction\", \"district\", \"do\", \"document\", \"dodge\", \"doesna\", \"dog\", \"dona\", \"door\", \"doorbell\", \"downhill\", \"download\", \"downpayment\", \"drift\", \"drive\", \"drive\", \"driver\", \"drivetrain\", \"driveway\", \"driving\", \"drop\", \"dry\", \"due\", \"duplicate\", \"durango\", \"duty\", \"dynamic\", \"early\", \"easily\", \"east\", \"easy\", \"ecu\", \"effort\", \"elantra\", \"electric\", \"electrical\", \"electronic\", \"else\", \"email\", \"emergency\", \"emission\", \"emmission\", \"emphasize\", \"employee\", \"empty\", \"enclave\", \"encounter\", \"end\", \"ending\", \"engage\", \"engaged\", \"engagement\", \"engaging\", \"engine\", \"engineer\", \"enhance\", \"enhanced\", \"enough\", \"entertainment\", \"entire\", \"envision\", \"episode\", \"equip\", \"error\", \"error_message\", \"especially\", \"essential\", \"ethernet\", \"evasive\", \"even\", \"even\", \"even_though\", \"evening\", \"event\", \"ever\", \"everything\", \"evidence\", \"exact\", \"example\", \"exceed\", \"exhaust\", \"exist\", \"existent\", \"exit\", \"exl\", \"expect\", \"experience\", \"explain\", \"express\", \"expressway\", \"extend\", \"extremely\", \"eye\", \"eyesight\", \"face\", \"fact\", \"factory\", \"fahrenheit\", \"fail\", \"failure\", \"failure_mileage\", \"fall\", \"false\", \"family\", \"fan\", \"far\", \"fast\", \"faub\", \"fault\", \"faulty\", \"fca\", \"fcw\", \"fcws\", \"fear\", \"feature\", \"feb\", \"february\", \"feel\", \"feel_safe\", \"fence\", \"fiat\", \"fight\", \"figure\", \"file\", \"finally\", \"find\", \"fine\", \"fire\", \"first\", \"fix\", \"flash\", \"flashing\", \"flat\", \"flat_tire\", \"flaw\", \"floor\", \"florida\", \"flow\", \"fob\", \"foil\", \"follow\", \"foot\", \"footage\", \"force\", \"forcefully\", \"forester\", \"forget\", \"form\", \"fort\", \"fortunately\", \"forum\", \"forward\", \"fourth\", \"frame\", \"free\", \"freedom\", \"freeway\", \"freeze\", \"frequently\", \"friday\", \"friend\", \"front\", \"frontal\", \"fsc\", \"fuel\", \"full\", \"fully\", \"function\", \"functional\", \"funxtion\", \"furnish\", \"furthermore\", \"fuse\", \"fusion\", \"future\", \"garage\", \"gas\", \"gateway\", \"gauge\", \"gear\", \"gearshift\", \"general\", \"generate\", \"genesis\", \"gentle\", \"get\", \"give\", \"glare\", \"glich\", \"glitch\", \"gmail\", \"gmc\", \"go\", \"go\", \"good\", \"gps\", \"grab\", \"gray\", \"green\", \"grill\", \"grind\", \"grocery\", \"ground\", \"guarantee\", \"guess\", \"guidance\", \"guide\", \"gutter\", \"half\", \"hand\", \"handle\", \"hannah\", \"happen\", \"haptic\", \"hard\", \"harness\", \"hat\", \"hatch\", \"haywire\", \"hazard\", \"hazardous\", \"head\", \"headlight\", \"hear\", \"heat\", \"heater\", \"heavy\", \"help\", \"helpful\", \"hesitate\", \"high\", \"highlander\", \"highly\", \"highway\", \"hill\", \"hinrich\", \"hit\", \"hold\", \"hollow\", \"home\", \"honk\", \"hop\", \"hope\", \"horn\", \"horrible\", \"hospital\", \"hot\", \"hour\", \"house\", \"housing\", \"houston\", \"however\", \"hrs\", \"https\", \"huge\", \"human\", \"humidity\", \"hundred\", \"hurt\", \"husband\", \"hvac\", \"hwy\", \"hypothesis\", \"hyundai\", \"ice\", \"icon\", \"identify\", \"idk\", \"idle\", \"ignition\", \"ignore\", \"iihs\", \"illuminate\", \"image\", \"imagine\", \"immediate\", \"immediately\", \"impact\", \"impend\", \"important\", \"impossible\", \"improve\", \"inappropriate\", \"inappropriately\", \"inch\", \"incident\", \"incline\", \"include\", \"inconvenience\", \"incorrect\", \"incorrectly\", \"increasingly\", \"incredibly\", \"indicate\", \"indication\", \"indicator\", \"inevitable\", \"infiniti\", \"info\", \"informaiton\", \"information\", \"information_act_foia\", \"informed\", \"infotainment\", \"infront\", \"initial\", \"initialization\", \"initially\", \"injure\", \"injury\", \"inoperable\", \"inside\", \"inspect\", \"instal\", \"installation\", \"instance\", \"instead\", \"institute\", \"instrument_cluster\", \"instrument_panel\", \"instrumention\", \"insulate\", \"insurance\", \"insurance_company\", \"intellilink\", \"intend\", \"interested\", \"interior\", \"intermittantly\", \"intermittent\", \"intermittently\", \"internal\", \"intersection\", \"interstate\", \"interval\", \"intervention\", \"investigate\", \"investigation\", \"involve\", \"iphone\", \"island\", \"issue\", \"ita\", \"item\", \"jammed\", \"january\", \"jerk\", \"jobsite\", \"join\", \"journey\", \"jump\", \"june\", \"keep\", \"keepnupdat\", \"kerkorian\", \"key\", \"kick\", \"kid\", \"kill\", \"kilometer\", \"kne\", \"knife\", \"know\", \"land\", \"lane\", \"lane_departure\", \"language\", \"large\", \"last\", \"lastly\", \"latch\", \"late\", \"later\", \"lawsuit\", \"lcd\", \"ldw\", \"lead\", \"leak\", \"learn\", \"lease\", \"least\", \"leave\", \"leesburg\", \"left\", \"leg\", \"lemon_law\", \"length\", \"less\", \"letter\", \"level\", \"lift\", \"liftgate\", \"light\", \"lighthouse\", \"lighting\", \"like\", \"likely\", \"limit\", \"limitation\", \"limited\", \"line\", \"link\", \"list\", \"literature\", \"little\", \"live\", \"lka\", \"load\", \"local\", \"locate\", \"location\", \"lock\", \"long\", \"longer\", \"look\", \"lose\", \"loss\", \"lot\", \"loud\", \"love\", \"low\", \"lower\", \"luckily\", \"lucky\", \"lumbar\", \"lurch\", \"magnetic\", \"mail\", \"main\", \"maintain\", \"major\", \"make\", \"making\", \"malfunction\", \"malfunctiona\", \"malibu\", \"manage\", \"manual\", \"manually\", \"manufacture\", \"manufacturer\", \"many\", \"map\", \"march\", \"marginally\", \"mark\", \"market\", \"marking\", \"master\", \"matic\", \"matter\", \"maximum\", \"may\", \"mazda\", \"mbusa\", \"md\", \"mdx\", \"mean\", \"mechanic\", \"mechanism\", \"median\", \"medium\", \"meet\", \"memory\", \"mention\", \"merced\", \"mercede\", \"mercedes_benz\", \"message\", \"metal\", \"mgr\", \"mid\", \"middle\", \"mil\", \"mile\", \"mileage\", \"miles_per_hour\", \"min\", \"mindful\", \"mine\", \"minimum\", \"minor\", \"minute\", \"mirror\", \"miserable\", \"misguide\", \"mitigation\", \"mode\", \"model\", \"moderate\", \"module\", \"moisture\", \"moment\", \"monitor\", \"monitoring\", \"month\", \"morning\", \"mostly\", \"mother\", \"motion\", \"motor\", \"motorist\", \"mount\", \"mountain\", \"move\", \"moving\", \"mph\", \"much\", \"multiple\", \"museum\", \"music\", \"must\", \"name\", \"narrowly\", \"national\", \"nationally\", \"nature\", \"navigation\", \"near\", \"nearby\", \"need\", \"neighborhood\", \"network\", \"neutral\", \"never\", \"new\", \"next\", \"nhsta\", \"nhtsa\", \"night\", \"niro\", \"niussan\", \"noice\", \"noise\", \"non\", \"none\", \"normal\", \"normally\", \"north\", \"not\", \"nothing\", \"nothing_wrong\", \"notice\", \"noticeable\", \"noticing\", \"notification\", \"notify\", \"november\", \"ntsb\", \"numerous\", \"object\", \"obliterate\", \"obstruction\", \"obtain\", \"occasion\", \"occupant\", \"occupy\", \"occur\", \"occuranc\", \"occurrence\", \"odd\", \"odometer\", \"offer\", \"office\", \"offline\", \"often\", \"oil\", \"ok\", \"old\", \"oliver\", \"oncoming_traffic\", \"one\", \"ongoing\", \"online\", \"open\", \"opening\", \"operable\", \"operate\", \"operating\", \"operational\", \"opinion\", \"opportunity\", \"option\", \"order\", \"original\", \"ota\", \"other\", \"outline\", \"outside\", \"overhead\", \"overheat\", \"override\", \"own\", \"owner\", \"ownership\", \"package\", \"pain\", \"palm\", \"panel\", \"panic\", \"par\", \"paragraph\", \"parameter\", \"park\", \"parking\", \"parking_lot\", \"parking_space\", \"parking_spot\", \"part\", \"partial\", \"partially\", \"particular\", \"pas\", \"pass\", \"passat\", \"passenger_side\", \"past\", \"pay\", \"payment\", \"pcs\", \"pdf\", \"pedal\", \"pend\", \"people\", \"perception\", \"perform\", \"performance\", \"period\", \"permanently\", \"permit\", \"persist\", \"personally\", \"petal\", \"philadelphia\", \"phillip\", \"phoenix\", \"phone\", \"photo\", \"physical\", \"pick\", \"pickup\", \"picture\", \"piece\", \"pillow\", \"pilot\", \"place\", \"placement\", \"plan\", \"plastic\", \"play\", \"playing\", \"pm\", \"pocket\", \"point\", \"poistion\", \"pole\", \"police_report\", \"pong\", \"poor\", \"poorly\", \"pop\", \"porsche\", \"portion\", \"pose\", \"position\", \"possible\", \"possibly\", \"post\", \"power\", \"power_steer\", \"power_steering\", \"powered\", \"practically\", \"pray\", \"pre\", \"precede\", \"precision\", \"premature\", \"prematurely\", \"premier\", \"premium\", \"presafe\", \"present\", \"press\", \"pressing\", \"pressure\", \"prevent\", \"previous\", \"previously\", \"primary\", \"prime\", \"prior\", \"prius\", \"private\", \"probability\", \"probably\", \"problem\", \"problematic\", \"proceed\", \"process\", \"produce\", \"product\", \"programming\", \"promote\", \"prompt\", \"proof\", \"proper\", \"properly\", \"property\", \"protect\", \"protection\", \"provide\", \"proximity\", \"public\", \"pull\", \"purchase\", \"purpose\", \"pursuant\", \"push\", \"put\", \"question\", \"quick\", \"quickly\", \"quit\", \"quite\", \"radar\", \"rader\", \"radio\", \"rail\", \"railroad\", \"rain\", \"ram\", \"ramp\", \"random\", \"randomly\", \"range\", \"rapid\", \"rapidly\", \"rate\", \"rather\", \"rattle\", \"rd\", \"reach\", \"react\", \"read\", \"reader\", \"realize\", \"really\", \"rear\", \"rear_end\", \"rear_view\", \"reasonable\", \"reassurance\", \"reboot\", \"rebooting\", \"recall\", \"receive\", \"recently\", \"recess\", \"recognition\", \"recommend\", \"record\", \"recover\", \"recurrent\", \"red\", \"redact\", \"reference\", \"reflector\", \"refuse\", \"regard\", \"regardless\", \"register\", \"regular\", \"relevant\", \"reliability\", \"rely\", \"remain\", \"remind\", \"remote\", \"rental\", \"reoccurr\", \"rep\", \"repair\", \"reparked\", \"repeat\", \"replace\", \"replicate\", \"replication\", \"reply\", \"report\", \"representative\", \"reproduce\", \"reprogramm\", \"request\", \"require\", \"research\", \"reset\", \"residential\", \"resistance\", \"resolution\", \"resolve\", \"respectfully\", \"respond\", \"response\", \"responsive\", \"restart\", \"restarting\", \"result\", \"retainment\", \"retract\", \"retrieve\", \"reverse\", \"richmond\", \"ride\", \"ridiculous\", \"right\", \"rim\", \"ring\", \"risk\", \"road\", \"road_departure_mitigation\", \"roadside\", \"roadway\", \"roatation\", \"rogue\", \"roll\", \"room\", \"root\", \"rough\", \"round\", \"row\", \"rpm\", \"rub\", \"rubber\", \"run\", \"rural\", \"rush\", \"safe\", \"safe\", \"safely\", \"safety\", \"sale\", \"salesman\", \"santa\", \"saturday\", \"say\", \"scan\", \"scar\", \"scared\", \"scary\", \"score\", \"scratch\", \"screen\", \"seal\", \"seat\", \"seat_belt\", \"seatbelt\", \"sec\", \"second\", \"secondary\", \"secure\", \"security\", \"sedan\", \"see\", \"seek\", \"seem\", \"seize\", \"sel\", \"selection\", \"selector\", \"self\", \"sell\", \"sense\", \"sensing\", \"sensitive\", \"sensitivity\", \"sensor\", \"separate_occasion\", \"separation\", \"sept\", \"sequence\", \"series\", \"serious\", \"seriously\", \"service\", \"service_department\", \"set\", \"setting\", \"several\", \"shade\", \"shake\", \"shape\", \"share\", \"sheehan\", \"shift\", \"shock\", \"shop\", \"short\", \"shortly\", \"shoulder\", \"show\", \"shut\", \"side\", \"sight\", \"sign\", \"signal\", \"significant\", \"silver\", \"simi\", \"similar\", \"simple\", \"simultaneously\", \"sit\", \"site\", \"situation\", \"situational\", \"skid\", \"slab\", \"slight\", \"slightly\", \"slope\", \"slow\", \"slower\", \"small\", \"smart\", \"snow\", \"snowy\", \"software\", \"software_updat\", \"solution\", \"someone\", \"something\", \"sometimes\", \"son\", \"sonar\", \"sonata\", \"soon\", \"sore\", \"sorry\", \"sound\", \"source\", \"speaker\", \"specialist\", \"specific\", \"specifically\", \"specification\", \"specify\", \"speed\", \"speedometer\", \"spine\", \"sporadic\", \"spot\", \"spurious\", \"st\", \"stabilitrak\", \"stability\", \"stall\", \"stand\", \"standard\", \"star\", \"start\", \"starter\", \"startling\", \"startup\", \"state\", \"station\", \"stationary\", \"stay\", \"steady\", \"steel\", \"steep\", \"steer\", \"steering\", \"steering_pilot\", \"steering_wheel\", \"step\", \"stereo\", \"sticker\", \"stiff\", \"still\", \"still\", \"stomp\", \"stop\", \"store\", \"straight\", \"strange\", \"street\", \"strike\", \"strongly\", \"strut\", \"subsequently\", \"suburban\", \"succession\", \"sudden\", \"suddenly\", \"suffer\", \"sugar\", \"suggest\", \"suggestion\", \"suite\", \"sun\", \"sunny\", \"supply\", \"support\", \"suppose\", \"supposedly\", \"surely\", \"surface\", \"surprise\", \"surprised\", \"surround\", \"suspect\", \"sustain\", \"suv\", \"swerving\", \"swing\", \"switch\", \"symbol\", \"symptom\", \"system\", \"systemic\", \"tail\", \"tailgate\", \"take\", \"tampa\", \"tape\", \"tar\", \"tech\", \"technician\", \"technology\", \"telematic\", \"telephone\", \"tell\", \"temperature\", \"terrible\", \"tesla\", \"test\", \"tested\", \"testing\", \"text\", \"thankfully\", \"theft\", \"therapist\", \"therefore\", \"think\", \"thirdly\", \"thousand\", \"throttle\", \"throttle_body\", \"tight\", \"time\", \"tiny\", \"tire\", \"tire_pressure\", \"title\", \"tlx\", \"tomorrow\", \"tone\", \"top\", \"total\", \"totally\", \"touareg\", \"touch\", \"tour\", \"tow\", \"town\", \"track\", \"traction\", \"trade\", \"traffic\", \"trailer\", \"transfer\", \"transmission\", \"trap\", \"travel\", \"trigger\", \"truck\", \"trunk\", \"trust\", \"truth\", \"try\", \"tsb\", \"tsp\", \"turbo\", \"turn\", \"turn\", \"turning\", \"tv\", \"ultimately\", \"unable\", \"unacceptable\", \"unannounced\", \"unavailable\", \"uncheck\", \"unchecked\", \"uncomfortable\", \"understand\", \"underwater\", \"undivided\", \"unexpected\", \"unexpectedly\", \"unintended\", \"unintended_acceleration\", \"unintentionally\", \"unit\", \"unknown\", \"unlatch\", \"unlock\", \"unrelated\", \"unsafe\", \"unsettling\", \"unsuspecting\", \"unsync\", \"unusual\", \"update\", \"upgrade\", \"uphill\", \"upload\", \"usa\", \"use\", \"used\", \"useless\", \"usual\", \"usually\", \"utilize\", \"vague\", \"valid\", \"vancouver\", \"variability\", \"variety\", \"various\", \"vary\", \"vaughn\", \"vaughnkerkorian\", \"vegas\", \"veh\", \"vehicle\", \"vehicle\", \"vehicler\", \"vehiclewould\", \"verification\", \"verify\", \"vibrate\", \"vibration\", \"video\", \"videotape\", \"view\", \"vin\", \"virtual\", \"visibility\", \"visit\", \"visual\", \"volkswagen\", \"volt\", \"voltage\", \"vw\", \"wagon\", \"wait\", \"wall\", \"want\", \"warm\", \"warn\", \"warn\", \"warning\", \"warninga\", \"warrant\", \"warranty\", \"warrany\", \"warrenty\", \"watch\", \"water\", \"way\", \"wea\", \"weather\", \"website\", \"week\", \"well\", \"wet\", \"whatsoever\", \"wheel\", \"wheelerbis\", \"wheen\", \"white\", \"whole\", \"wide\", \"widespread\", \"wif\", \"wife\", \"willing\", \"wind\", \"window\", \"windshield\", \"wipe\", \"wire\", \"wiring\", \"wish\", \"witness\", \"wobbling\", \"woebcken\", \"wonder\", \"wook\", \"word\", \"work\", \"worker\", \"working\", \"worried\", \"worse\", \"worth\", \"would\", \"wreck\", \"write\", \"writing\", \"wrong\", \"xxxxx\", \"yard\", \"year\", \"year_old\", \"yell\", \"yesterday\", \"yet\", \"youtu\", \"youtube\", \"zone\"]}, \"R\": 30, \"lambda.step\": 0.01, \"plot.opts\": {\"xlab\": \"PC1\", \"ylab\": \"PC2\"}, \"topic.order\": [11, 33, 53, 36, 2, 14, 28, 19, 52, 6, 8, 38, 35, 29, 48, 34, 5, 40, 27, 49, 50, 10, 17, 12, 41, 39, 4, 20, 3, 18, 9, 44, 22, 42, 26, 7, 15, 43, 16, 45, 1, 23, 54, 25, 31, 32, 30, 47, 21, 51, 13, 37, 46, 24]};\n",
       "\n",
       "function LDAvis_load_lib(url, callback){\n",
       "  var s = document.createElement('script');\n",
       "  s.src = url;\n",
       "  s.async = true;\n",
       "  s.onreadystatechange = s.onload = callback;\n",
       "  s.onerror = function(){console.warn(\"failed to load library \" + url);};\n",
       "  document.getElementsByTagName(\"head\")[0].appendChild(s);\n",
       "}\n",
       "\n",
       "if(typeof(LDAvis) !== \"undefined\"){\n",
       "   // already loaded: just create the visualization\n",
       "   !function(LDAvis){\n",
       "       new LDAvis(\"#\" + \"ldavis_el1026423941271292407831683634\", ldavis_el1026423941271292407831683634_data);\n",
       "   }(LDAvis);\n",
       "}else if(typeof define === \"function\" && define.amd){\n",
       "   // require.js is available: use it to load d3/LDAvis\n",
       "   require.config({paths: {d3: \"https://cdnjs.cloudflare.com/ajax/libs/d3/3.5.5/d3.min\"}});\n",
       "   require([\"d3\"], function(d3){\n",
       "      window.d3 = d3;\n",
       "      LDAvis_load_lib(\"https://cdn.rawgit.com/bmabey/pyLDAvis/files/ldavis.v1.0.0.js\", function(){\n",
       "        new LDAvis(\"#\" + \"ldavis_el1026423941271292407831683634\", ldavis_el1026423941271292407831683634_data);\n",
       "      });\n",
       "    });\n",
       "}else{\n",
       "    // require.js not available: dynamically load d3 & LDAvis\n",
       "    LDAvis_load_lib(\"https://cdnjs.cloudflare.com/ajax/libs/d3/3.5.5/d3.min.js\", function(){\n",
       "         LDAvis_load_lib(\"https://cdn.rawgit.com/bmabey/pyLDAvis/files/ldavis.v1.0.0.js\", function(){\n",
       "                 new LDAvis(\"#\" + \"ldavis_el1026423941271292407831683634\", ldavis_el1026423941271292407831683634_data);\n",
       "            })\n",
       "         });\n",
       "}\n",
       "</script>"
      ],
      "text/plain": [
       "PreparedData(topic_coordinates=            Freq  cluster  topics         x         y\n",
       "topic                                                \n",
       "10     11.496997        1       1 -0.243960 -0.284272\n",
       "32      9.108460        1       2 -0.213527 -0.167203\n",
       "52      8.423507        1       3 -0.249157  0.156989\n",
       "35      5.825381        1       4 -0.252723  0.242579\n",
       "1       5.035592        1       5 -0.225382  0.191769\n",
       "13      2.642039        1       6 -0.093913 -0.038711\n",
       "27      2.553997        1       7 -0.074422 -0.031617\n",
       "18      2.223720        1       8 -0.059304 -0.023965\n",
       "51      1.998873        1       9 -0.023054 -0.011131\n",
       "5       1.956267        1      10 -0.041793 -0.017280\n",
       "7       1.951207        1      11 -0.053770 -0.023602\n",
       "37      1.926155        1      12 -0.069290 -0.141754\n",
       "34      1.834493        1      13 -0.038816 -0.016610\n",
       "28      1.798886        1      14 -0.046170 -0.019107\n",
       "47      1.698473        1      15 -0.022664 -0.011192\n",
       "33      1.644379        1      16 -0.026994 -0.012028\n",
       "4       1.630671        1      17  0.012731 -0.001499\n",
       "39      1.583287        1      18 -0.023321 -0.011036\n",
       "26      1.380599        1      19  0.002683 -0.004375\n",
       "48      1.378272        1      20  0.007820 -0.003006\n",
       "49      1.367919        1      21 -0.005433 -0.006505\n",
       "9       1.324792        1      22  0.012502 -0.001284\n",
       "16      1.216075        1      23  0.046586  0.005741\n",
       "11      1.202292        1      24  0.036095  0.003062\n",
       "40      1.170003        1      25  0.030813  0.002772\n",
       "38      1.164470        1      26  0.027605  0.001420\n",
       "3       1.147863        1      27  0.035240  0.003359\n",
       "19      1.121539        1      28  0.003065 -0.003709\n",
       "2       1.110858        1      29  0.020400  0.000291\n",
       "17      1.110697        1      30  0.011419 -0.001328\n",
       "8       1.059549        1      31  0.022857  0.000855\n",
       "43      1.050580        1      32  0.046258  0.005637\n",
       "21      1.038653        1      33  0.048838  0.006174\n",
       "41      1.018867        1      34  0.022085  0.001278\n",
       "25      1.018187        1      35  0.030644  0.027454\n",
       "6       1.003052        1      36  0.024483  0.001032\n",
       "14      0.904443        1      37  0.040329  0.004370\n",
       "42      0.888307        1      38  0.059260  0.007227\n",
       "15      0.871728        1      39  0.086653  0.012842\n",
       "44      0.850601        1      40  0.049134  0.006307\n",
       "0       0.840892        1      41  0.068552  0.009285\n",
       "22      0.829516        1      42  0.078641  0.012133\n",
       "53      0.821646        1      43  0.059279  0.007609\n",
       "24      0.816262        1      44  0.034030  0.003543\n",
       "30      0.814077        1      45  0.070499  0.009331\n",
       "31      0.803442        1      46  0.088140  0.011971\n",
       "29      0.798656        1      47  0.036859  0.004091\n",
       "46      0.754708        1      48  0.090410  0.016104\n",
       "20      0.673689        1      49  0.070426  0.009620\n",
       "50      0.662889        1      50  0.093171  0.012905\n",
       "12      0.657783        1      51  0.102570  0.013747\n",
       "36      0.611107        1      52  0.103448  0.013931\n",
       "45      0.597505        1      53  0.088064  0.012014\n",
       "23      0.586097        1      54  0.102105  0.013770, topic_info=     Category        Freq                Term       Total  loglift  logprob\n",
       "term                                                                       \n",
       "72    Default  707.000000              system  707.000000  30.0000  30.0000\n",
       "2     Default  794.000000               brake  794.000000  29.0000  29.0000\n",
       "158   Default  401.000000               drive  401.000000  28.0000  28.0000\n",
       "332   Default  285.000000              camera  285.000000  27.0000  27.0000\n",
       "141   Default  354.000000             problem  354.000000  26.0000  26.0000\n",
       "16    Default  399.000000               issue  399.000000  25.0000  25.0000\n",
       "73    Default  380.000000                time  380.000000  24.0000  24.0000\n",
       "21    Default  212.000000                park  212.000000  23.0000  23.0000\n",
       "465   Default  213.000000             warning  213.000000  22.0000  22.0000\n",
       "426   Default  161.000000              driver  161.000000  21.0000  21.0000\n",
       "13    Default  274.000000                  go  274.000000  20.0000  20.0000\n",
       "104   Default  309.000000                lane  309.000000  19.0000  19.0000\n",
       "270   Default  182.000000               start  182.000000  18.0000  18.0000\n",
       "154   Default  357.000000           collision  357.000000  17.0000  17.0000\n",
       "127   Default  241.000000                work  241.000000  16.0000  16.0000\n",
       "44    Default  285.000000              dealer  285.000000  15.0000  15.0000\n",
       "48    Default  330.000000               front  330.000000  14.0000  14.0000\n",
       "123   Default  277.000000                take  277.000000  13.0000  13.0000\n",
       "144   Default  320.000000                stop  320.000000  12.0000  12.0000\n",
       "403   Default  160.000000                also  160.000000  11.0000  11.0000\n",
       "106   Default  211.000000               light  211.000000  10.0000  10.0000\n",
       "63    Default  238.000000              safety  238.000000   9.0000   9.0000\n",
       "477   Default  148.000000                make  148.000000   8.0000   8.0000\n",
       "97    Default  128.000000             failure  128.000000   7.0000   7.0000\n",
       "336   Default  138.000000                fail  138.000000   6.0000   6.0000\n",
       "701   Default  116.000000                 see  116.000000   5.0000   5.0000\n",
       "491   Default  131.000000                 say  131.000000   4.0000   4.0000\n",
       "124   Default  171.000000               truck  171.000000   3.0000   3.0000\n",
       "362   Default  104.000000             feature  104.000000   2.0000   2.0000\n",
       "223   Default  116.000000              screen  116.000000   1.0000   1.0000\n",
       "...       ...         ...                 ...         ...      ...      ...\n",
       "1993  Topic54   17.219335        deceleration   18.058815   5.0918  -2.6528\n",
       "1684  Topic54   15.671160  service_department   16.510641   5.0873  -2.7470\n",
       "2378  Topic54   14.303339              wiring   15.142820   5.0824  -2.8383\n",
       "2353  Topic54   13.161142             usually   14.000622   5.0776  -2.9215\n",
       "934   Topic54    9.117339                live    9.956820   5.0514  -3.2886\n",
       "2867  Topic54    8.754777                 lka    9.594257   5.0479  -3.3292\n",
       "941   Topic54    8.112737         significant    8.952218   5.0410  -3.4054\n",
       "1657  Topic54    6.721744             recover    7.561224   5.0218  -3.5934\n",
       "2374  Topic54    6.611799             husband    7.451279   5.0199  -3.6099\n",
       "927   Topic54    6.229287              figure    7.068767   5.0130  -3.6695\n",
       "914   Topic54    5.975267           corporate    6.814748   5.0080  -3.7112\n",
       "4125  Topic54    4.596149              haptic    5.435797   4.9717  -3.9736\n",
       "1650  Topic54    4.044516                  md    4.883997   4.9508  -4.1014\n",
       "1645  Topic54    4.042181             improve    4.881661   4.9507  -4.1020\n",
       "2818  Topic54    3.980378               steel    4.819859   4.9481  -4.1174\n",
       "933   Topic54    3.744815                list    4.584296   4.9372  -4.1784\n",
       "929   Topic54    3.468824            identify    4.308304   4.9227  -4.2550\n",
       "924   Topic54    3.224644                ever    4.064125   4.9081  -4.3280\n",
       "3636  Topic54    2.812455              museum    3.651935   4.8782  -4.4647\n",
       "3091  Topic54    2.329124                 hop    3.168604   4.8316  -4.6533\n",
       "2352  Topic54    2.189500               stomp    3.028981   4.8149  -4.7151\n",
       "2377  Topic54    2.139107        unacceptable    2.978587   4.8084  -4.7384\n",
       "3910  Topic54    2.081481         unannounced    2.921058   4.8006  -4.7657\n",
       "3911  Topic54    2.081481        verification    2.921058   4.8006  -4.7657\n",
       "3909  Topic54    2.081481             lawsuit    2.921058   4.8006  -4.7657\n",
       "1858  Topic54    1.652212            systemic    2.491692   4.7286  -4.9967\n",
       "3248  Topic54    1.402047             network    2.241528   4.6702  -5.1609\n",
       "820   Topic54    1.322699        circumstance    2.162179   4.6480  -5.2191\n",
       "2543  Topic54    1.299929      simultaneously    2.139409   4.6412  -5.2365\n",
       "1846  Topic54    1.260911              friday    2.100392   4.6292  -5.2670\n",
       "\n",
       "[1699 rows x 6 columns], token_table=      Topic      Freq                     Term\n",
       "term                                          \n",
       "3057     37  0.896652                      aaa\n",
       "372      15  0.859873                       ab\n",
       "908      32  0.947427                  ability\n",
       "0        36  0.977941                     able\n",
       "674      18  0.843525                 abnormal\n",
       "4150     28  0.900930                  abreast\n",
       "1761     47  0.913066                   abrupt\n",
       "191      13  0.931733                 abruptly\n",
       "2603     46  0.943681               absolutely\n",
       "401      20  0.977646                      acc\n",
       "578      31  0.990826               accelerate\n",
       "3859      4  0.911423              accelerated\n",
       "1044     31  0.983729             acceleration\n",
       "1104     31  0.946895              accelerator\n",
       "3399     39  0.674091                   accept\n",
       "635      33  0.852589                accessory\n",
       "579       1  0.785722                 accident\n",
       "579       2  0.200999                 accident\n",
       "437       6  0.941493                   accord\n",
       "3679      5  0.479460                     acid\n",
       "1989     26  0.859934              acknowledge\n",
       "580      17  0.911449                      act\n",
       "236       1  0.991485                 activate\n",
       "193      49  0.951457                   active\n",
       "581      19  0.929202                 actually\n",
       "1060     52  0.870992                    acura\n",
       "3400     39  0.674091                       ad\n",
       "128       3  0.962031          adaptive_cruise\n",
       "78        3  0.993518  adaptive_cruise_control\n",
       "1325     13  0.932898                      add\n",
       "...     ...       ...                      ...\n",
       "949      32  0.949660                     wire\n",
       "2378     54  0.924531                   wiring\n",
       "1932     37  0.905733                     wish\n",
       "1247     16  0.922103                  witness\n",
       "3941      5  0.836990                 wobbling\n",
       "3740     43  0.439114                 woebcken\n",
       "2937     12  0.914576                   wonder\n",
       "3769     50  0.438623                     wook\n",
       "950      32  0.936845                     word\n",
       "127       5  0.997829                     work\n",
       "4103     47  0.746699                   worker\n",
       "1737     46  0.903055                  working\n",
       "633      17  0.879767                  worried\n",
       "3291      5  0.902724                    worse\n",
       "3852     51  0.686044                    worth\n",
       "77        2  0.994990                    would\n",
       "1359     12  0.711037                    wreck\n",
       "560      14  0.966800                    write\n",
       "2630     52  0.773492                  writing\n",
       "1176     27  0.984801                    wrong\n",
       "4124     44  0.897768                    xxxxx\n",
       "568      24  0.793658                     yard\n",
       "495       7  0.993443                     year\n",
       "2303     29  0.919865                 year_old\n",
       "4104     47  0.746699                     yell\n",
       "710      17  0.875185                yesterday\n",
       "1177     27  0.958294                      yet\n",
       "3827     52  0.867090                    youtu\n",
       "1437     33  0.837320                  youtube\n",
       "2341     42  0.844261                     zone\n",
       "\n",
       "[1641 rows x 3 columns], R=30, lambda_step=0.01, plot_opts={'xlab': 'PC1', 'ylab': 'PC2'}, topic_order=[11, 33, 53, 36, 2, 14, 28, 19, 52, 6, 8, 38, 35, 29, 48, 34, 5, 40, 27, 49, 50, 10, 17, 12, 41, 39, 4, 20, 3, 18, 9, 44, 22, 42, 26, 7, 15, 43, 16, 45, 1, 23, 54, 25, 31, 32, 30, 47, 21, 51, 13, 37, 46, 24])"
      ]
     },
     "execution_count": 41,
     "metadata": {},
     "output_type": "execute_result"
    }
   ],
   "source": [
    "# Visualize the topics\n",
    "pyLDAvis.enable_notebook()\n",
    "vis = pyLDAvis.gensim.prepare(optimal_model, corpus, id2word)\n",
    "vis"
   ]
  },
  {
   "cell_type": "code",
   "execution_count": 48,
   "metadata": {
    "collapsed": true
   },
   "outputs": [],
   "source": [
    "def format_topics_sentences(ldamodel=optimal_model, corpus=corpus, texts=data):\n",
    "    # Init output\n",
    "    sent_topics_df = pd.DataFrame()\n",
    "\n",
    "    # Get main topic in each document\n",
    "    for i, row in enumerate(ldamodel[corpus]):\n",
    "        row = sorted(row, key=lambda x: (x[1]), reverse=True)\n",
    "        # Get the Dominant topic, Perc Contribution and Keywords for each document\n",
    "        for j, (topic_num, prop_topic) in enumerate(row):\n",
    "            if j == 0:  # => dominant topic\n",
    "                wp = ldamodel.show_topic(topic_num)\n",
    "                topic_keywords = \", \".join([word for word, prop in wp])\n",
    "                sent_topics_df = sent_topics_df.append(pd.Series([int(topic_num), round(prop_topic,4), topic_keywords]), ignore_index=True)\n",
    "            else:\n",
    "                break\n",
    "    sent_topics_df.columns = ['Dominant_Topic', 'Perc_Contribution', 'Topic_Keywords']\n",
    "\n",
    "    # Add original text to the end of the output\n",
    "    contents = pd.Series(texts)\n",
    "    sent_topics_df = pd.concat([sent_topics_df, contents], axis=1)\n",
    "    return(sent_topics_df)\n"
   ]
  },
  {
   "cell_type": "code",
   "execution_count": 45,
   "metadata": {
    "collapsed": true
   },
   "outputs": [],
   "source": [
    "ori_text = data[['CDESCR']][data[\"prediction\"] == 1]\n",
    "ori_text['CDESCR'] = ori_text['CDESCR'].apply(lambda x:x.lower())\n",
    "ori_text = ori_text['CDESCR'].tolist()"
   ]
  },
  {
   "cell_type": "code",
   "execution_count": 49,
   "metadata": {
    "collapsed": true
   },
   "outputs": [],
   "source": [
    "df_topic_sents_keywords = format_topics_sentences(ldamodel=optimal_model, corpus=corpus, texts=ori_text)"
   ]
  },
  {
   "cell_type": "code",
   "execution_count": 50,
   "metadata": {},
   "outputs": [
    {
     "data": {
      "text/html": [
       "<div>\n",
       "<style>\n",
       "    .dataframe thead tr:only-child th {\n",
       "        text-align: right;\n",
       "    }\n",
       "\n",
       "    .dataframe thead th {\n",
       "        text-align: left;\n",
       "    }\n",
       "\n",
       "    .dataframe tbody tr th {\n",
       "        vertical-align: top;\n",
       "    }\n",
       "</style>\n",
       "<table border=\"1\" class=\"dataframe\">\n",
       "  <thead>\n",
       "    <tr style=\"text-align: right;\">\n",
       "      <th></th>\n",
       "      <th>Document_No</th>\n",
       "      <th>Dominant_Topic</th>\n",
       "      <th>Topic_Perc_Contrib</th>\n",
       "      <th>Keywords</th>\n",
       "      <th>Text</th>\n",
       "    </tr>\n",
       "  </thead>\n",
       "  <tbody>\n",
       "    <tr>\n",
       "      <th>0</th>\n",
       "      <td>0</td>\n",
       "      <td>2.0</td>\n",
       "      <td>0.1669</td>\n",
       "      <td>replace, available, cover, order, warranty, di...</td>\n",
       "      <td>release button for emergency brake broke and c...</td>\n",
       "    </tr>\n",
       "    <tr>\n",
       "      <th>1</th>\n",
       "      <td>1</td>\n",
       "      <td>32.0</td>\n",
       "      <td>0.4188</td>\n",
       "      <td>issue, time, safety, happen, would, get, mile,...</td>\n",
       "      <td>i was traveling approximately 45 mph on route ...</td>\n",
       "    </tr>\n",
       "    <tr>\n",
       "      <th>2</th>\n",
       "      <td>2</td>\n",
       "      <td>52.0</td>\n",
       "      <td>0.3862</td>\n",
       "      <td>lane, dealer, take, back, adaptive_cruise_cont...</td>\n",
       "      <td>tl* the contact owns a 2012 ford explorer. the...</td>\n",
       "    </tr>\n",
       "    <tr>\n",
       "      <th>3</th>\n",
       "      <td>3</td>\n",
       "      <td>52.0</td>\n",
       "      <td>0.2763</td>\n",
       "      <td>lane, dealer, take, back, adaptive_cruise_cont...</td>\n",
       "      <td>the adaptive cruise has not recognized stopped...</td>\n",
       "    </tr>\n",
       "    <tr>\n",
       "      <th>4</th>\n",
       "      <td>4</td>\n",
       "      <td>52.0</td>\n",
       "      <td>0.2873</td>\n",
       "      <td>lane, dealer, take, back, adaptive_cruise_cont...</td>\n",
       "      <td>we were returning home via i55 and i turned on...</td>\n",
       "    </tr>\n",
       "    <tr>\n",
       "      <th>5</th>\n",
       "      <td>5</td>\n",
       "      <td>32.0</td>\n",
       "      <td>0.2396</td>\n",
       "      <td>issue, time, safety, happen, would, get, mile,...</td>\n",
       "      <td>on february 22nd and 27th 2014, while travelin...</td>\n",
       "    </tr>\n",
       "    <tr>\n",
       "      <th>6</th>\n",
       "      <td>6</td>\n",
       "      <td>51.0</td>\n",
       "      <td>0.3607</td>\n",
       "      <td>cause, transmission, well, result, line, power...</td>\n",
       "      <td>driving on an interstate freeway with adaptive...</td>\n",
       "    </tr>\n",
       "    <tr>\n",
       "      <th>7</th>\n",
       "      <td>7</td>\n",
       "      <td>10.0</td>\n",
       "      <td>0.6173</td>\n",
       "      <td>brake, front, stop, go, mph, road, come, speed...</td>\n",
       "      <td>to whom it concerns,    i have a great safety ...</td>\n",
       "    </tr>\n",
       "    <tr>\n",
       "      <th>8</th>\n",
       "      <td>8</td>\n",
       "      <td>39.0</td>\n",
       "      <td>0.1893</td>\n",
       "      <td>failure, repair, entertainment, manufacturer, ...</td>\n",
       "      <td>tl* the contact owns a 2013 freightliner casca...</td>\n",
       "    </tr>\n",
       "    <tr>\n",
       "      <th>9</th>\n",
       "      <td>9</td>\n",
       "      <td>1.0</td>\n",
       "      <td>0.2810</td>\n",
       "      <td>system, problem, work, collision, fix, still, ...</td>\n",
       "      <td>front left wheel came off when pulling into ga...</td>\n",
       "    </tr>\n",
       "  </tbody>\n",
       "</table>\n",
       "</div>"
      ],
      "text/plain": [
       "   Document_No  Dominant_Topic  Topic_Perc_Contrib  \\\n",
       "0            0             2.0              0.1669   \n",
       "1            1            32.0              0.4188   \n",
       "2            2            52.0              0.3862   \n",
       "3            3            52.0              0.2763   \n",
       "4            4            52.0              0.2873   \n",
       "5            5            32.0              0.2396   \n",
       "6            6            51.0              0.3607   \n",
       "7            7            10.0              0.6173   \n",
       "8            8            39.0              0.1893   \n",
       "9            9             1.0              0.2810   \n",
       "\n",
       "                                            Keywords  \\\n",
       "0  replace, available, cover, order, warranty, di...   \n",
       "1  issue, time, safety, happen, would, get, mile,...   \n",
       "2  lane, dealer, take, back, adaptive_cruise_cont...   \n",
       "3  lane, dealer, take, back, adaptive_cruise_cont...   \n",
       "4  lane, dealer, take, back, adaptive_cruise_cont...   \n",
       "5  issue, time, safety, happen, would, get, mile,...   \n",
       "6  cause, transmission, well, result, line, power...   \n",
       "7  brake, front, stop, go, mph, road, come, speed...   \n",
       "8  failure, repair, entertainment, manufacturer, ...   \n",
       "9  system, problem, work, collision, fix, still, ...   \n",
       "\n",
       "                                                Text  \n",
       "0  release button for emergency brake broke and c...  \n",
       "1  i was traveling approximately 45 mph on route ...  \n",
       "2  tl* the contact owns a 2012 ford explorer. the...  \n",
       "3  the adaptive cruise has not recognized stopped...  \n",
       "4  we were returning home via i55 and i turned on...  \n",
       "5  on february 22nd and 27th 2014, while travelin...  \n",
       "6  driving on an interstate freeway with adaptive...  \n",
       "7  to whom it concerns,    i have a great safety ...  \n",
       "8  tl* the contact owns a 2013 freightliner casca...  \n",
       "9  front left wheel came off when pulling into ga...  "
      ]
     },
     "execution_count": 50,
     "metadata": {},
     "output_type": "execute_result"
    }
   ],
   "source": [
    "# Format\n",
    "df_dominant_topic = df_topic_sents_keywords.reset_index()\n",
    "df_dominant_topic.columns = ['Document_No', 'Dominant_Topic', 'Topic_Perc_Contrib', 'Keywords', 'Text']\n",
    "\n",
    "# Show\n",
    "df_dominant_topic.head(10)"
   ]
  },
  {
   "cell_type": "code",
   "execution_count": 51,
   "metadata": {
    "collapsed": true
   },
   "outputs": [],
   "source": [
    "df_dominant_topic.to_csv(\"topic_keywords_54.csv\",index=False)"
   ]
  },
  {
   "cell_type": "code",
   "execution_count": 173,
   "metadata": {},
   "outputs": [
    {
     "data": {
      "text/html": [
       "<div>\n",
       "<style>\n",
       "    .dataframe thead tr:only-child th {\n",
       "        text-align: right;\n",
       "    }\n",
       "\n",
       "    .dataframe thead th {\n",
       "        text-align: left;\n",
       "    }\n",
       "\n",
       "    .dataframe tbody tr th {\n",
       "        vertical-align: top;\n",
       "    }\n",
       "</style>\n",
       "<table border=\"1\" class=\"dataframe\">\n",
       "  <thead>\n",
       "    <tr style=\"text-align: right;\">\n",
       "      <th></th>\n",
       "      <th>Topic_Num</th>\n",
       "      <th>Topic_Perc_Contrib</th>\n",
       "      <th>Keywords</th>\n",
       "      <th>Text</th>\n",
       "    </tr>\n",
       "  </thead>\n",
       "  <tbody>\n",
       "    <tr>\n",
       "      <th>0</th>\n",
       "      <td>1.0</td>\n",
       "      <td>0.4291</td>\n",
       "      <td>problem, work, drive, take, get, fail, control...</td>\n",
       "      <td>front left wheel came off when pulling into ga...</td>\n",
       "    </tr>\n",
       "    <tr>\n",
       "      <th>1</th>\n",
       "      <td>4.0</td>\n",
       "      <td>0.1478</td>\n",
       "      <td>screen, never, note, impossible, near, copy, m...</td>\n",
       "      <td>pedal brake makes a \"click\" sound when is pres...</td>\n",
       "    </tr>\n",
       "    <tr>\n",
       "      <th>2</th>\n",
       "      <td>6.0</td>\n",
       "      <td>0.1448</td>\n",
       "      <td>accident, open, complaint, disable, want, mode...</td>\n",
       "      <td>( first complaint)when in gear on a hill the v...</td>\n",
       "    </tr>\n",
       "    <tr>\n",
       "      <th>3</th>\n",
       "      <td>7.0</td>\n",
       "      <td>0.1669</td>\n",
       "      <td>monitor, reset, motion, yet, area, wrong, com,...</td>\n",
       "      <td>vehicle has repeatedly thrown errors with warn...</td>\n",
       "    </tr>\n",
       "    <tr>\n",
       "      <th>4</th>\n",
       "      <td>8.0</td>\n",
       "      <td>0.6827</td>\n",
       "      <td>brake, collision, front, stop, go, dealer, tur...</td>\n",
       "      <td>to whom it concerns,    i have a great safety ...</td>\n",
       "    </tr>\n",
       "    <tr>\n",
       "      <th>5</th>\n",
       "      <td>10.0</td>\n",
       "      <td>0.1668</td>\n",
       "      <td>service, tell, cover, order, someone, danger, ...</td>\n",
       "      <td>1)autonomous emergency braking (aeb) with pede...</td>\n",
       "    </tr>\n",
       "    <tr>\n",
       "      <th>6</th>\n",
       "      <td>11.0</td>\n",
       "      <td>0.3910</td>\n",
       "      <td>computer, right, show, provide, steer, force, ...</td>\n",
       "      <td>defect shows as immediate loss of toe alignmen...</td>\n",
       "    </tr>\n",
       "    <tr>\n",
       "      <th>7</th>\n",
       "      <td>12.0</td>\n",
       "      <td>0.2216</td>\n",
       "      <td>make, say, even, year, gas, difficult, enough,...</td>\n",
       "      <td>at what point does someone step in and say eno...</td>\n",
       "    </tr>\n",
       "    <tr>\n",
       "      <th>8</th>\n",
       "      <td>13.0</td>\n",
       "      <td>0.2210</td>\n",
       "      <td>end, picture, state, continuously, text, addre...</td>\n",
       "      <td>the vehicle has an established, measureable an...</td>\n",
       "    </tr>\n",
       "    <tr>\n",
       "      <th>9</th>\n",
       "      <td>14.0</td>\n",
       "      <td>0.1406</td>\n",
       "      <td>slow, adaptive_cruise_control, crash, adaptive...</td>\n",
       "      <td>issues to date:  these issues are not dependen...</td>\n",
       "    </tr>\n",
       "  </tbody>\n",
       "</table>\n",
       "</div>"
      ],
      "text/plain": [
       "   Topic_Num  Topic_Perc_Contrib  \\\n",
       "0        1.0              0.4291   \n",
       "1        4.0              0.1478   \n",
       "2        6.0              0.1448   \n",
       "3        7.0              0.1669   \n",
       "4        8.0              0.6827   \n",
       "5       10.0              0.1668   \n",
       "6       11.0              0.3910   \n",
       "7       12.0              0.2216   \n",
       "8       13.0              0.2210   \n",
       "9       14.0              0.1406   \n",
       "\n",
       "                                            Keywords  \\\n",
       "0  problem, work, drive, take, get, fail, control...   \n",
       "1  screen, never, note, impossible, near, copy, m...   \n",
       "2  accident, open, complaint, disable, want, mode...   \n",
       "3  monitor, reset, motion, yet, area, wrong, com,...   \n",
       "4  brake, collision, front, stop, go, dealer, tur...   \n",
       "5  service, tell, cover, order, someone, danger, ...   \n",
       "6  computer, right, show, provide, steer, force, ...   \n",
       "7  make, say, even, year, gas, difficult, enough,...   \n",
       "8  end, picture, state, continuously, text, addre...   \n",
       "9  slow, adaptive_cruise_control, crash, adaptive...   \n",
       "\n",
       "                                                Text  \n",
       "0  front left wheel came off when pulling into ga...  \n",
       "1  pedal brake makes a \"click\" sound when is pres...  \n",
       "2  ( first complaint)when in gear on a hill the v...  \n",
       "3  vehicle has repeatedly thrown errors with warn...  \n",
       "4  to whom it concerns,    i have a great safety ...  \n",
       "5  1)autonomous emergency braking (aeb) with pede...  \n",
       "6  defect shows as immediate loss of toe alignmen...  \n",
       "7  at what point does someone step in and say eno...  \n",
       "8  the vehicle has an established, measureable an...  \n",
       "9  issues to date:  these issues are not dependen...  "
      ]
     },
     "execution_count": 173,
     "metadata": {},
     "output_type": "execute_result"
    }
   ],
   "source": [
    "# Group top 5 sentences under each topic\n",
    "sent_topics_sorteddf_mallet = pd.DataFrame()\n",
    "\n",
    "sent_topics_outdf_grpd = df_topic_sents_keywords.groupby('Dominant_Topic')\n",
    "\n",
    "for i, grp in sent_topics_outdf_grpd:\n",
    "    sent_topics_sorteddf_mallet = pd.concat([sent_topics_sorteddf_mallet, \n",
    "                                             grp.sort_values(['Perc_Contribution'], ascending=[0]).head(1)], \n",
    "                                            axis=0)\n",
    "\n",
    "# Reset Index    \n",
    "sent_topics_sorteddf_mallet.reset_index(drop=True, inplace=True)\n",
    "\n",
    "# Format\n",
    "sent_topics_sorteddf_mallet.columns = ['Topic_Num', \"Topic_Perc_Contrib\", \"Keywords\", \"Text\"]\n",
    "\n",
    "# Show\n",
    "sent_topics_sorteddf_mallet.head(10)"
   ]
  },
  {
   "cell_type": "code",
   "execution_count": 174,
   "metadata": {},
   "outputs": [
    {
     "data": {
      "text/html": [
       "<div>\n",
       "<style>\n",
       "    .dataframe thead tr:only-child th {\n",
       "        text-align: right;\n",
       "    }\n",
       "\n",
       "    .dataframe thead th {\n",
       "        text-align: left;\n",
       "    }\n",
       "\n",
       "    .dataframe tbody tr th {\n",
       "        vertical-align: top;\n",
       "    }\n",
       "</style>\n",
       "<table border=\"1\" class=\"dataframe\">\n",
       "  <thead>\n",
       "    <tr style=\"text-align: right;\">\n",
       "      <th></th>\n",
       "      <th>Dominant_Topic</th>\n",
       "      <th>Topic_Keywords</th>\n",
       "      <th>Num_Documents</th>\n",
       "      <th>Perc_Documents</th>\n",
       "    </tr>\n",
       "  </thead>\n",
       "  <tbody>\n",
       "    <tr>\n",
       "      <th>0</th>\n",
       "      <td>23.0</td>\n",
       "      <td>park, emergency, engage, parking, able, replac...</td>\n",
       "      <td>NaN</td>\n",
       "      <td>NaN</td>\n",
       "    </tr>\n",
       "    <tr>\n",
       "      <th>1</th>\n",
       "      <td>51.0</td>\n",
       "      <td>issue, safety, happen, time, would, use, serio...</td>\n",
       "      <td>4.0</td>\n",
       "      <td>0.0073</td>\n",
       "    </tr>\n",
       "    <tr>\n",
       "      <th>2</th>\n",
       "      <td>37.0</td>\n",
       "      <td>lane, camera, truck, sensor, traffic, leave, a...</td>\n",
       "      <td>NaN</td>\n",
       "      <td>NaN</td>\n",
       "    </tr>\n",
       "    <tr>\n",
       "      <th>3</th>\n",
       "      <td>8.0</td>\n",
       "      <td>brake, collision, front, stop, go, dealer, tur...</td>\n",
       "      <td>NaN</td>\n",
       "      <td>NaN</td>\n",
       "    </tr>\n",
       "    <tr>\n",
       "      <th>4</th>\n",
       "      <td>8.0</td>\n",
       "      <td>brake, collision, front, stop, go, dealer, tur...</td>\n",
       "      <td>2.0</td>\n",
       "      <td>0.0036</td>\n",
       "    </tr>\n",
       "  </tbody>\n",
       "</table>\n",
       "</div>"
      ],
      "text/plain": [
       "   Dominant_Topic                                     Topic_Keywords  \\\n",
       "0            23.0  park, emergency, engage, parking, able, replac...   \n",
       "1            51.0  issue, safety, happen, time, would, use, serio...   \n",
       "2            37.0  lane, camera, truck, sensor, traffic, leave, a...   \n",
       "3             8.0  brake, collision, front, stop, go, dealer, tur...   \n",
       "4             8.0  brake, collision, front, stop, go, dealer, tur...   \n",
       "\n",
       "   Num_Documents  Perc_Documents  \n",
       "0            NaN             NaN  \n",
       "1            4.0          0.0073  \n",
       "2            NaN             NaN  \n",
       "3            NaN             NaN  \n",
       "4            2.0          0.0036  "
      ]
     },
     "execution_count": 174,
     "metadata": {},
     "output_type": "execute_result"
    }
   ],
   "source": [
    "# Number of Documents for Each Topic\n",
    "topic_counts = df_topic_sents_keywords['Dominant_Topic'].value_counts()\n",
    "\n",
    "# Percentage of Documents for Each Topic\n",
    "topic_contribution = round(topic_counts/topic_counts.sum(), 4)\n",
    "\n",
    "# Topic Number and Keywords\n",
    "topic_num_keywords = df_topic_sents_keywords[['Dominant_Topic', 'Topic_Keywords']]\n",
    "\n",
    "# Concatenate Column wise\n",
    "df_dominant_topics = pd.concat([topic_num_keywords, topic_counts, topic_contribution], axis=1)\n",
    "\n",
    "# Change Column names\n",
    "df_dominant_topics.columns = ['Dominant_Topic', 'Topic_Keywords', 'Num_Documents', 'Perc_Documents']\n",
    "\n",
    "# Show\n",
    "df_dominant_topics.head(5)"
   ]
  }
 ],
 "metadata": {
  "kernelspec": {
   "display_name": "Python 3",
   "language": "python",
   "name": "python3"
  },
  "language_info": {
   "codemirror_mode": {
    "name": "ipython",
    "version": 3
   },
   "file_extension": ".py",
   "mimetype": "text/x-python",
   "name": "python",
   "nbconvert_exporter": "python",
   "pygments_lexer": "ipython3",
   "version": "3.5.4"
  }
 },
 "nbformat": 4,
 "nbformat_minor": 2
}
